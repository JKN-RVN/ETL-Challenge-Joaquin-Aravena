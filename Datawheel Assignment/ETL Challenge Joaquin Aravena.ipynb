{
 "cells": [
  {
   "cell_type": "markdown",
   "metadata": {},
   "source": [
    "# ETL Challenge Joaquín Aravena"
   ]
  },
  {
   "cell_type": "code",
   "execution_count": 62,
   "metadata": {},
   "outputs": [],
   "source": [
    "import pandas as pd\n",
    "import seaborn as sns\n",
    "import matplotlib.pyplot as plt\n",
    "import warnings\n",
    "import plotly.express as px\n",
    "from numpy import *\n",
    "\n",
    "warnings.filterwarnings(\"ignore\")\n",
    "pd.options.display.float_format = '{:.0f}'.format  # Sin decimales y sin separador de miles\n"
   ]
  },
  {
   "cell_type": "code",
   "execution_count": 63,
   "metadata": {},
   "outputs": [],
   "source": [
    "def entropia(x): #Con x una porción del dataframe correspondiente a cada localidad\n",
    "    n = sum(x[\"total_population\"]) #Población total de la localidad\n",
    "    H = 0\n",
    "    for i in x.itertuples():\n",
    "        p = i.total_population/n\n",
    "        H += p*log2(p)\n",
    "    H *= -1\n",
    "    return(H)"
   ]
  },
  {
   "cell_type": "markdown",
   "metadata": {},
   "source": [
    "## Dataframe Final"
   ]
  },
  {
   "cell_type": "code",
   "execution_count": 64,
   "metadata": {},
   "outputs": [],
   "source": [
    "#Lectura del csv con sueldos promedio a nivel país y del csv con sueldos y numero de empleados por locación\n",
    "df_oaw = pd.read_csv(\"occupations_avg_wage.csv\", \n",
    "                     encoding=\"latin1\", \n",
    "                     sep=\",\")\n",
    "\n",
    "df_pone = pd.read_csv(\"pumas_occupations_num_employees.csv\", \n",
    "                      encoding=\"latin1\", \n",
    "                      sep=\",\")"
   ]
  },
  {
   "cell_type": "code",
   "execution_count": 65,
   "metadata": {},
   "outputs": [],
   "source": [
    "#Lectura de csv con valor del peso chileno del 2016 al 2022\n",
    "d16 = pd.read_csv(\"Dolar 2016.csv\", \n",
    "                  sep=\";\")\n",
    "d17 = pd.read_csv(\"Dolar 2017.csv\", \n",
    "                  sep=\";\")\n",
    "d18 = pd.read_csv(\"Dolar 2018.csv\", \n",
    "                  sep=\";\")\n",
    "d19 = pd.read_csv(\"Dolar 2019.csv\", \n",
    "                  sep=\";\")\n",
    "d20 = pd.read_csv(\"Dolar 2020.csv\", \n",
    "                  sep=\";\")\n",
    "d21 = pd.read_csv(\"Dolar 2021.csv\", \n",
    "                  sep=\";\")\n",
    "d22 = pd.read_csv(\"Dolar 2022.csv\", \n",
    "                  sep=\";\")\n",
    "\n",
    "años = [d16,d17,d18,d19,d20,d21,d22]\n",
    "\n",
    "#Lista que contiene el valor promedio del peso chileno en Diciembre para cada año\n",
    "dolar = []\n",
    "for año in años:\n",
    "    dolar.append(float(año.iloc[31,12].replace(\",\",\".\")))"
   ]
  },
  {
   "cell_type": "code",
   "execution_count": 66,
   "metadata": {},
   "outputs": [],
   "source": [
    "#Agrupar según su nombre en el PUMA y calcular el promedio de los datos de la columna con sueldos promedio\n",
    "df = df_pone.groupby(\"puma_name\")[\"average_wage\"].mean().reset_index()\n",
    "\n",
    "df.rename(columns={\"average_wage\" : \"average_location_wage\"}, \n",
    "          inplace=True)"
   ]
  },
  {
   "cell_type": "code",
   "execution_count": 67,
   "metadata": {},
   "outputs": [],
   "source": [
    "#Identificar indices de sueldos con mayor valor en cada localidad, convirtiendolo en lista\n",
    "indices = list(df_pone.groupby(\"puma_name\")[\"average_wage\"].idxmax())\n",
    "\n",
    "#Crear dataframe unicamente con los datos que cumplen ser el sueldo de mayor valor en dicha localidad\n",
    "df_pone_max = df_pone.loc[indices, [\"puma_name\", \"occupation_name\", \"average_wage\"]]\n",
    "\n",
    "df_pone_max.rename(columns={\"average_wage\" : \"max_wage\", \n",
    "                            \"occupation_name\" : \"occupation_w_max_wage\"}, \n",
    "                            inplace=True)\n",
    "\n",
    "#Juntar ambos dataframe\n",
    "df = pd.merge(df, df_pone_max)"
   ]
  },
  {
   "cell_type": "code",
   "execution_count": 68,
   "metadata": {},
   "outputs": [],
   "source": [
    "#Creamos un nuevo dataframe para no modificar el original.\n",
    "#Se descarta la columna de ID de la profesión y se cambian los nombres a nuestra conveniencia para el merge\n",
    "df_oaw2 = df_oaw.drop(columns=\"ID Detailed Occupation\")\n",
    "\n",
    "df_oaw2.rename(columns={\"Detailed Occupation\" : \"occupation_w_max_wage\", \n",
    "                        \"Average Wage\" : \"average_national_wage\"}, \n",
    "                        inplace=True)"
   ]
  },
  {
   "cell_type": "code",
   "execution_count": 69,
   "metadata": {},
   "outputs": [],
   "source": [
    "#Se junta el dataframe final con el modificado anteriormente, y se ordenan de acuerdo al sueldo promedio de la localidad\n",
    "df = pd.merge(df, df_oaw2)\n",
    "df.sort_values(by=\"average_location_wage\",\n",
    "               inplace=True,\n",
    "               ascending=False)\n",
    "\n",
    "df = df.reset_index(drop=True)"
   ]
  },
  {
   "cell_type": "code",
   "execution_count": 70,
   "metadata": {},
   "outputs": [
    {
     "data": {
      "text/html": [
       "<div>\n",
       "<style scoped>\n",
       "    .dataframe tbody tr th:only-of-type {\n",
       "        vertical-align: middle;\n",
       "    }\n",
       "\n",
       "    .dataframe tbody tr th {\n",
       "        vertical-align: top;\n",
       "    }\n",
       "\n",
       "    .dataframe thead th {\n",
       "        text-align: right;\n",
       "    }\n",
       "</style>\n",
       "<table border=\"1\" class=\"dataframe\">\n",
       "  <thead>\n",
       "    <tr style=\"text-align: right;\">\n",
       "      <th></th>\n",
       "      <th>puma_name</th>\n",
       "      <th>average_location_wage</th>\n",
       "      <th>occupation_w_max_wage</th>\n",
       "      <th>max_wage</th>\n",
       "      <th>average_national_wage</th>\n",
       "    </tr>\n",
       "  </thead>\n",
       "  <tbody>\n",
       "    <tr>\n",
       "      <th>0</th>\n",
       "      <td>Inner Mission &amp; Castro PUMA, CA</td>\n",
       "      <td>96421</td>\n",
       "      <td>Surgeons</td>\n",
       "      <td>572400</td>\n",
       "      <td>282720</td>\n",
       "    </tr>\n",
       "    <tr>\n",
       "      <th>1</th>\n",
       "      <td>Battery Park City, Greenwich Village &amp; Soho PU...</td>\n",
       "      <td>94839</td>\n",
       "      <td>Dentists</td>\n",
       "      <td>668644</td>\n",
       "      <td>127708</td>\n",
       "    </tr>\n",
       "    <tr>\n",
       "      <th>2</th>\n",
       "      <td>Chelsea, Clinton &amp; Midtown Business District P...</td>\n",
       "      <td>91591</td>\n",
       "      <td>Other financial specialists</td>\n",
       "      <td>668644</td>\n",
       "      <td>98081</td>\n",
       "    </tr>\n",
       "    <tr>\n",
       "      <th>3</th>\n",
       "      <td>Cupertino, Saratoga Cities &amp; Los Gatos Town PU...</td>\n",
       "      <td>85380</td>\n",
       "      <td>Industrial production managers</td>\n",
       "      <td>572400</td>\n",
       "      <td>77306</td>\n",
       "    </tr>\n",
       "    <tr>\n",
       "      <th>4</th>\n",
       "      <td>Essex County (Northwest) PUMA, NJ</td>\n",
       "      <td>84130</td>\n",
       "      <td>Insurance sales agents</td>\n",
       "      <td>645343</td>\n",
       "      <td>53855</td>\n",
       "    </tr>\n",
       "    <tr>\n",
       "      <th>...</th>\n",
       "      <td>...</td>\n",
       "      <td>...</td>\n",
       "      <td>...</td>\n",
       "      <td>...</td>\n",
       "      <td>...</td>\n",
       "    </tr>\n",
       "    <tr>\n",
       "      <th>2373</th>\n",
       "      <td>Carr 3 (Sureste) PUMA, PR</td>\n",
       "      <td>18646</td>\n",
       "      <td>Broadcast announcers and radio disc jockeys</td>\n",
       "      <td>75982</td>\n",
       "      <td>47494</td>\n",
       "    </tr>\n",
       "    <tr>\n",
       "      <th>2374</th>\n",
       "      <td>Carr 2 (Norte) PUMA, PR</td>\n",
       "      <td>17486</td>\n",
       "      <td>Purchasing managers</td>\n",
       "      <td>71930</td>\n",
       "      <td>74013</td>\n",
       "    </tr>\n",
       "    <tr>\n",
       "      <th>2375</th>\n",
       "      <td>Carr 2 (Suroeste) PUMA, PR</td>\n",
       "      <td>16361</td>\n",
       "      <td>Pharmacists</td>\n",
       "      <td>182357</td>\n",
       "      <td>88632</td>\n",
       "    </tr>\n",
       "    <tr>\n",
       "      <th>2376</th>\n",
       "      <td>Carr 2 (Sur) PUMA, PR</td>\n",
       "      <td>15806</td>\n",
       "      <td>Pharmacists</td>\n",
       "      <td>72364</td>\n",
       "      <td>88632</td>\n",
       "    </tr>\n",
       "    <tr>\n",
       "      <th>2377</th>\n",
       "      <td>Carr 156-Carr 164 PUMA, PR</td>\n",
       "      <td>15285</td>\n",
       "      <td>Miscellaneous engineers, including nuclear eng...</td>\n",
       "      <td>56733</td>\n",
       "      <td>86423</td>\n",
       "    </tr>\n",
       "  </tbody>\n",
       "</table>\n",
       "<p>2378 rows × 5 columns</p>\n",
       "</div>"
      ],
      "text/plain": [
       "                                              puma_name  \\\n",
       "0                       Inner Mission & Castro PUMA, CA   \n",
       "1     Battery Park City, Greenwich Village & Soho PU...   \n",
       "2     Chelsea, Clinton & Midtown Business District P...   \n",
       "3     Cupertino, Saratoga Cities & Los Gatos Town PU...   \n",
       "4                     Essex County (Northwest) PUMA, NJ   \n",
       "...                                                 ...   \n",
       "2373                          Carr 3 (Sureste) PUMA, PR   \n",
       "2374                            Carr 2 (Norte) PUMA, PR   \n",
       "2375                         Carr 2 (Suroeste) PUMA, PR   \n",
       "2376                              Carr 2 (Sur) PUMA, PR   \n",
       "2377                         Carr 156-Carr 164 PUMA, PR   \n",
       "\n",
       "      average_location_wage  \\\n",
       "0                     96421   \n",
       "1                     94839   \n",
       "2                     91591   \n",
       "3                     85380   \n",
       "4                     84130   \n",
       "...                     ...   \n",
       "2373                  18646   \n",
       "2374                  17486   \n",
       "2375                  16361   \n",
       "2376                  15806   \n",
       "2377                  15285   \n",
       "\n",
       "                                  occupation_w_max_wage  max_wage  \\\n",
       "0                                              Surgeons    572400   \n",
       "1                                              Dentists    668644   \n",
       "2                           Other financial specialists    668644   \n",
       "3                        Industrial production managers    572400   \n",
       "4                                Insurance sales agents    645343   \n",
       "...                                                 ...       ...   \n",
       "2373        Broadcast announcers and radio disc jockeys     75982   \n",
       "2374                                Purchasing managers     71930   \n",
       "2375                                        Pharmacists    182357   \n",
       "2376                                        Pharmacists     72364   \n",
       "2377  Miscellaneous engineers, including nuclear eng...     56733   \n",
       "\n",
       "      average_national_wage  \n",
       "0                    282720  \n",
       "1                    127708  \n",
       "2                     98081  \n",
       "3                     77306  \n",
       "4                     53855  \n",
       "...                     ...  \n",
       "2373                  47494  \n",
       "2374                  74013  \n",
       "2375                  88632  \n",
       "2376                  88632  \n",
       "2377                  86423  \n",
       "\n",
       "[2378 rows x 5 columns]"
      ]
     },
     "execution_count": 70,
     "metadata": {},
     "output_type": "execute_result"
    }
   ],
   "source": [
    "df"
   ]
  },
  {
   "cell_type": "markdown",
   "metadata": {},
   "source": [
    "## Bonus 1: Sueldos en CLP"
   ]
  },
  {
   "cell_type": "code",
   "execution_count": 71,
   "metadata": {},
   "outputs": [
    {
     "data": {
      "text/html": [
       "<div>\n",
       "<style scoped>\n",
       "    .dataframe tbody tr th:only-of-type {\n",
       "        vertical-align: middle;\n",
       "    }\n",
       "\n",
       "    .dataframe tbody tr th {\n",
       "        vertical-align: top;\n",
       "    }\n",
       "\n",
       "    .dataframe thead th {\n",
       "        text-align: right;\n",
       "    }\n",
       "</style>\n",
       "<table border=\"1\" class=\"dataframe\">\n",
       "  <thead>\n",
       "    <tr style=\"text-align: right;\">\n",
       "      <th></th>\n",
       "      <th>puma_name</th>\n",
       "      <th>average_location_wage</th>\n",
       "      <th>occupation_w_max_wage</th>\n",
       "      <th>max_wage</th>\n",
       "      <th>average_national_wage</th>\n",
       "      <th>average_location_wage (CLP)</th>\n",
       "      <th>max_wage (CLP)</th>\n",
       "      <th>average_national_wage (CLP)</th>\n",
       "    </tr>\n",
       "  </thead>\n",
       "  <tbody>\n",
       "    <tr>\n",
       "      <th>0</th>\n",
       "      <td>Inner Mission &amp; Castro PUMA, CA</td>\n",
       "      <td>96421</td>\n",
       "      <td>Surgeons</td>\n",
       "      <td>572400</td>\n",
       "      <td>282720</td>\n",
       "      <td>84431989</td>\n",
       "      <td>501227623</td>\n",
       "      <td>247566879</td>\n",
       "    </tr>\n",
       "    <tr>\n",
       "      <th>1</th>\n",
       "      <td>Battery Park City, Greenwich Village &amp; Soho PU...</td>\n",
       "      <td>94839</td>\n",
       "      <td>Dentists</td>\n",
       "      <td>668644</td>\n",
       "      <td>127708</td>\n",
       "      <td>83046935</td>\n",
       "      <td>585504805</td>\n",
       "      <td>111828613</td>\n",
       "    </tr>\n",
       "    <tr>\n",
       "      <th>2</th>\n",
       "      <td>Chelsea, Clinton &amp; Midtown Business District P...</td>\n",
       "      <td>91591</td>\n",
       "      <td>Other financial specialists</td>\n",
       "      <td>668644</td>\n",
       "      <td>98081</td>\n",
       "      <td>80202268</td>\n",
       "      <td>585504828</td>\n",
       "      <td>85885371</td>\n",
       "    </tr>\n",
       "    <tr>\n",
       "      <th>3</th>\n",
       "      <td>Cupertino, Saratoga Cities &amp; Los Gatos Town PU...</td>\n",
       "      <td>85380</td>\n",
       "      <td>Industrial production managers</td>\n",
       "      <td>572400</td>\n",
       "      <td>77306</td>\n",
       "      <td>74763925</td>\n",
       "      <td>501227612</td>\n",
       "      <td>67693757</td>\n",
       "    </tr>\n",
       "    <tr>\n",
       "      <th>4</th>\n",
       "      <td>Essex County (Northwest) PUMA, NJ</td>\n",
       "      <td>84130</td>\n",
       "      <td>Insurance sales agents</td>\n",
       "      <td>645343</td>\n",
       "      <td>53855</td>\n",
       "      <td>73668964</td>\n",
       "      <td>565100910</td>\n",
       "      <td>47158395</td>\n",
       "    </tr>\n",
       "    <tr>\n",
       "      <th>...</th>\n",
       "      <td>...</td>\n",
       "      <td>...</td>\n",
       "      <td>...</td>\n",
       "      <td>...</td>\n",
       "      <td>...</td>\n",
       "      <td>...</td>\n",
       "      <td>...</td>\n",
       "      <td>...</td>\n",
       "    </tr>\n",
       "    <tr>\n",
       "      <th>2373</th>\n",
       "      <td>Carr 3 (Sureste) PUMA, PR</td>\n",
       "      <td>18646</td>\n",
       "      <td>Broadcast announcers and radio disc jockeys</td>\n",
       "      <td>75982</td>\n",
       "      <td>47494</td>\n",
       "      <td>16327470</td>\n",
       "      <td>66534646</td>\n",
       "      <td>41588713</td>\n",
       "    </tr>\n",
       "    <tr>\n",
       "      <th>2374</th>\n",
       "      <td>Carr 2 (Norte) PUMA, PR</td>\n",
       "      <td>17486</td>\n",
       "      <td>Purchasing managers</td>\n",
       "      <td>71930</td>\n",
       "      <td>74013</td>\n",
       "      <td>15312059</td>\n",
       "      <td>62986127</td>\n",
       "      <td>64810308</td>\n",
       "    </tr>\n",
       "    <tr>\n",
       "      <th>2375</th>\n",
       "      <td>Carr 2 (Suroeste) PUMA, PR</td>\n",
       "      <td>16361</td>\n",
       "      <td>Pharmacists</td>\n",
       "      <td>182357</td>\n",
       "      <td>88632</td>\n",
       "      <td>14326341</td>\n",
       "      <td>159683124</td>\n",
       "      <td>77611801</td>\n",
       "    </tr>\n",
       "    <tr>\n",
       "      <th>2376</th>\n",
       "      <td>Carr 2 (Sur) PUMA, PR</td>\n",
       "      <td>15806</td>\n",
       "      <td>Pharmacists</td>\n",
       "      <td>72364</td>\n",
       "      <td>88632</td>\n",
       "      <td>13840671</td>\n",
       "      <td>63366323</td>\n",
       "      <td>77611801</td>\n",
       "    </tr>\n",
       "    <tr>\n",
       "      <th>2377</th>\n",
       "      <td>Carr 156-Carr 164 PUMA, PR</td>\n",
       "      <td>15285</td>\n",
       "      <td>Miscellaneous engineers, including nuclear eng...</td>\n",
       "      <td>56733</td>\n",
       "      <td>86423</td>\n",
       "      <td>13384748</td>\n",
       "      <td>49679194</td>\n",
       "      <td>75676982</td>\n",
       "    </tr>\n",
       "  </tbody>\n",
       "</table>\n",
       "<p>2378 rows × 8 columns</p>\n",
       "</div>"
      ],
      "text/plain": [
       "                                              puma_name  \\\n",
       "0                       Inner Mission & Castro PUMA, CA   \n",
       "1     Battery Park City, Greenwich Village & Soho PU...   \n",
       "2     Chelsea, Clinton & Midtown Business District P...   \n",
       "3     Cupertino, Saratoga Cities & Los Gatos Town PU...   \n",
       "4                     Essex County (Northwest) PUMA, NJ   \n",
       "...                                                 ...   \n",
       "2373                          Carr 3 (Sureste) PUMA, PR   \n",
       "2374                            Carr 2 (Norte) PUMA, PR   \n",
       "2375                         Carr 2 (Suroeste) PUMA, PR   \n",
       "2376                              Carr 2 (Sur) PUMA, PR   \n",
       "2377                         Carr 156-Carr 164 PUMA, PR   \n",
       "\n",
       "      average_location_wage  \\\n",
       "0                     96421   \n",
       "1                     94839   \n",
       "2                     91591   \n",
       "3                     85380   \n",
       "4                     84130   \n",
       "...                     ...   \n",
       "2373                  18646   \n",
       "2374                  17486   \n",
       "2375                  16361   \n",
       "2376                  15806   \n",
       "2377                  15285   \n",
       "\n",
       "                                  occupation_w_max_wage  max_wage  \\\n",
       "0                                              Surgeons    572400   \n",
       "1                                              Dentists    668644   \n",
       "2                           Other financial specialists    668644   \n",
       "3                        Industrial production managers    572400   \n",
       "4                                Insurance sales agents    645343   \n",
       "...                                                 ...       ...   \n",
       "2373        Broadcast announcers and radio disc jockeys     75982   \n",
       "2374                                Purchasing managers     71930   \n",
       "2375                                        Pharmacists    182357   \n",
       "2376                                        Pharmacists     72364   \n",
       "2377  Miscellaneous engineers, including nuclear eng...     56733   \n",
       "\n",
       "      average_national_wage  average_location_wage (CLP)  max_wage (CLP)  \\\n",
       "0                    282720                     84431989       501227623   \n",
       "1                    127708                     83046935       585504805   \n",
       "2                     98081                     80202268       585504828   \n",
       "3                     77306                     74763925       501227612   \n",
       "4                     53855                     73668964       565100910   \n",
       "...                     ...                          ...             ...   \n",
       "2373                  47494                     16327470        66534646   \n",
       "2374                  74013                     15312059        62986127   \n",
       "2375                  88632                     14326341       159683124   \n",
       "2376                  88632                     13840671        63366323   \n",
       "2377                  86423                     13384748        49679194   \n",
       "\n",
       "      average_national_wage (CLP)  \n",
       "0                       247566879  \n",
       "1                       111828613  \n",
       "2                        85885371  \n",
       "3                        67693757  \n",
       "4                        47158395  \n",
       "...                           ...  \n",
       "2373                     41588713  \n",
       "2374                     64810308  \n",
       "2375                     77611801  \n",
       "2376                     77611801  \n",
       "2377                     75676982  \n",
       "\n",
       "[2378 rows x 8 columns]"
      ]
     },
     "execution_count": 71,
     "metadata": {},
     "output_type": "execute_result"
    }
   ],
   "source": [
    "#Nuevo dataframe donde estarán las columnas de con valores monetarios en pesos chilenos\n",
    "#Los valores se determinaron mas arriba. El indice 6 viene del año 2022\n",
    "dfbonus = df.copy()\n",
    "dfbonus[\"average_location_wage (CLP)\"] = df[\"average_location_wage\"]*dolar[6]\n",
    "dfbonus[\"max_wage (CLP)\"] = df[\"max_wage\"]*dolar[6]\n",
    "dfbonus[\"average_national_wage (CLP)\"] = df[\"average_national_wage\"]*dolar[6]\n",
    "dfbonus"
   ]
  },
  {
   "cell_type": "markdown",
   "metadata": {},
   "source": [
    "## Bonus 2"
   ]
  },
  {
   "cell_type": "code",
   "execution_count": 72,
   "metadata": {},
   "outputs": [
    {
     "data": {
      "text/html": [
       "<div>\n",
       "<style scoped>\n",
       "    .dataframe tbody tr th:only-of-type {\n",
       "        vertical-align: middle;\n",
       "    }\n",
       "\n",
       "    .dataframe tbody tr th {\n",
       "        vertical-align: top;\n",
       "    }\n",
       "\n",
       "    .dataframe thead th {\n",
       "        text-align: right;\n",
       "    }\n",
       "</style>\n",
       "<table border=\"1\" class=\"dataframe\">\n",
       "  <thead>\n",
       "    <tr style=\"text-align: right;\">\n",
       "      <th></th>\n",
       "      <th>puma_name</th>\n",
       "      <th>average_location_wage</th>\n",
       "      <th>occupation_w_max_wage</th>\n",
       "      <th>max_wage</th>\n",
       "      <th>average_national_wage</th>\n",
       "      <th>average_location_wage (CLP)</th>\n",
       "      <th>max_wage (CLP)</th>\n",
       "      <th>average_national_wage (CLP)</th>\n",
       "      <th>entropy</th>\n",
       "    </tr>\n",
       "  </thead>\n",
       "  <tbody>\n",
       "    <tr>\n",
       "      <th>0</th>\n",
       "      <td>Inner Mission &amp; Castro PUMA, CA</td>\n",
       "      <td>96421</td>\n",
       "      <td>Surgeons</td>\n",
       "      <td>572400</td>\n",
       "      <td>282720</td>\n",
       "      <td>84431989</td>\n",
       "      <td>501227623</td>\n",
       "      <td>247566879</td>\n",
       "      <td>6.79</td>\n",
       "    </tr>\n",
       "    <tr>\n",
       "      <th>1</th>\n",
       "      <td>Battery Park City, Greenwich Village &amp; Soho PU...</td>\n",
       "      <td>94839</td>\n",
       "      <td>Dentists</td>\n",
       "      <td>668644</td>\n",
       "      <td>127708</td>\n",
       "      <td>83046935</td>\n",
       "      <td>585504805</td>\n",
       "      <td>111828613</td>\n",
       "      <td>6.52</td>\n",
       "    </tr>\n",
       "    <tr>\n",
       "      <th>2</th>\n",
       "      <td>Chelsea, Clinton &amp; Midtown Business District P...</td>\n",
       "      <td>91591</td>\n",
       "      <td>Other financial specialists</td>\n",
       "      <td>668644</td>\n",
       "      <td>98081</td>\n",
       "      <td>80202268</td>\n",
       "      <td>585504828</td>\n",
       "      <td>85885371</td>\n",
       "      <td>6.70</td>\n",
       "    </tr>\n",
       "    <tr>\n",
       "      <th>3</th>\n",
       "      <td>Cupertino, Saratoga Cities &amp; Los Gatos Town PU...</td>\n",
       "      <td>85380</td>\n",
       "      <td>Industrial production managers</td>\n",
       "      <td>572400</td>\n",
       "      <td>77306</td>\n",
       "      <td>74763925</td>\n",
       "      <td>501227612</td>\n",
       "      <td>67693757</td>\n",
       "      <td>6.47</td>\n",
       "    </tr>\n",
       "    <tr>\n",
       "      <th>4</th>\n",
       "      <td>Essex County (Northwest) PUMA, NJ</td>\n",
       "      <td>84130</td>\n",
       "      <td>Insurance sales agents</td>\n",
       "      <td>645343</td>\n",
       "      <td>53855</td>\n",
       "      <td>73668964</td>\n",
       "      <td>565100910</td>\n",
       "      <td>47158395</td>\n",
       "      <td>7.05</td>\n",
       "    </tr>\n",
       "    <tr>\n",
       "      <th>...</th>\n",
       "      <td>...</td>\n",
       "      <td>...</td>\n",
       "      <td>...</td>\n",
       "      <td>...</td>\n",
       "      <td>...</td>\n",
       "      <td>...</td>\n",
       "      <td>...</td>\n",
       "      <td>...</td>\n",
       "      <td>...</td>\n",
       "    </tr>\n",
       "    <tr>\n",
       "      <th>2373</th>\n",
       "      <td>Carr 3 (Sureste) PUMA, PR</td>\n",
       "      <td>18646</td>\n",
       "      <td>Broadcast announcers and radio disc jockeys</td>\n",
       "      <td>75982</td>\n",
       "      <td>47494</td>\n",
       "      <td>16327470</td>\n",
       "      <td>66534646</td>\n",
       "      <td>41588713</td>\n",
       "      <td>5.81</td>\n",
       "    </tr>\n",
       "    <tr>\n",
       "      <th>2374</th>\n",
       "      <td>Carr 2 (Norte) PUMA, PR</td>\n",
       "      <td>17486</td>\n",
       "      <td>Purchasing managers</td>\n",
       "      <td>71930</td>\n",
       "      <td>74013</td>\n",
       "      <td>15312059</td>\n",
       "      <td>62986127</td>\n",
       "      <td>64810308</td>\n",
       "      <td>6.17</td>\n",
       "    </tr>\n",
       "    <tr>\n",
       "      <th>2375</th>\n",
       "      <td>Carr 2 (Suroeste) PUMA, PR</td>\n",
       "      <td>16361</td>\n",
       "      <td>Pharmacists</td>\n",
       "      <td>182357</td>\n",
       "      <td>88632</td>\n",
       "      <td>14326341</td>\n",
       "      <td>159683124</td>\n",
       "      <td>77611801</td>\n",
       "      <td>6.42</td>\n",
       "    </tr>\n",
       "    <tr>\n",
       "      <th>2376</th>\n",
       "      <td>Carr 2 (Sur) PUMA, PR</td>\n",
       "      <td>15806</td>\n",
       "      <td>Pharmacists</td>\n",
       "      <td>72364</td>\n",
       "      <td>88632</td>\n",
       "      <td>13840671</td>\n",
       "      <td>63366323</td>\n",
       "      <td>77611801</td>\n",
       "      <td>6.03</td>\n",
       "    </tr>\n",
       "    <tr>\n",
       "      <th>2377</th>\n",
       "      <td>Carr 156-Carr 164 PUMA, PR</td>\n",
       "      <td>15285</td>\n",
       "      <td>Miscellaneous engineers, including nuclear eng...</td>\n",
       "      <td>56733</td>\n",
       "      <td>86423</td>\n",
       "      <td>13384748</td>\n",
       "      <td>49679194</td>\n",
       "      <td>75676982</td>\n",
       "      <td>5.98</td>\n",
       "    </tr>\n",
       "  </tbody>\n",
       "</table>\n",
       "<p>2378 rows × 9 columns</p>\n",
       "</div>"
      ],
      "text/plain": [
       "                                              puma_name  \\\n",
       "0                       Inner Mission & Castro PUMA, CA   \n",
       "1     Battery Park City, Greenwich Village & Soho PU...   \n",
       "2     Chelsea, Clinton & Midtown Business District P...   \n",
       "3     Cupertino, Saratoga Cities & Los Gatos Town PU...   \n",
       "4                     Essex County (Northwest) PUMA, NJ   \n",
       "...                                                 ...   \n",
       "2373                          Carr 3 (Sureste) PUMA, PR   \n",
       "2374                            Carr 2 (Norte) PUMA, PR   \n",
       "2375                         Carr 2 (Suroeste) PUMA, PR   \n",
       "2376                              Carr 2 (Sur) PUMA, PR   \n",
       "2377                         Carr 156-Carr 164 PUMA, PR   \n",
       "\n",
       "      average_location_wage  \\\n",
       "0                     96421   \n",
       "1                     94839   \n",
       "2                     91591   \n",
       "3                     85380   \n",
       "4                     84130   \n",
       "...                     ...   \n",
       "2373                  18646   \n",
       "2374                  17486   \n",
       "2375                  16361   \n",
       "2376                  15806   \n",
       "2377                  15285   \n",
       "\n",
       "                                  occupation_w_max_wage  max_wage  \\\n",
       "0                                              Surgeons    572400   \n",
       "1                                              Dentists    668644   \n",
       "2                           Other financial specialists    668644   \n",
       "3                        Industrial production managers    572400   \n",
       "4                                Insurance sales agents    645343   \n",
       "...                                                 ...       ...   \n",
       "2373        Broadcast announcers and radio disc jockeys     75982   \n",
       "2374                                Purchasing managers     71930   \n",
       "2375                                        Pharmacists    182357   \n",
       "2376                                        Pharmacists     72364   \n",
       "2377  Miscellaneous engineers, including nuclear eng...     56733   \n",
       "\n",
       "      average_national_wage  average_location_wage (CLP)  max_wage (CLP)  \\\n",
       "0                    282720                     84431989       501227623   \n",
       "1                    127708                     83046935       585504805   \n",
       "2                     98081                     80202268       585504828   \n",
       "3                     77306                     74763925       501227612   \n",
       "4                     53855                     73668964       565100910   \n",
       "...                     ...                          ...             ...   \n",
       "2373                  47494                     16327470        66534646   \n",
       "2374                  74013                     15312059        62986127   \n",
       "2375                  88632                     14326341       159683124   \n",
       "2376                  88632                     13840671        63366323   \n",
       "2377                  86423                     13384748        49679194   \n",
       "\n",
       "      average_national_wage (CLP) entropy  \n",
       "0                       247566879    6.79  \n",
       "1                       111828613    6.52  \n",
       "2                        85885371    6.70  \n",
       "3                        67693757    6.47  \n",
       "4                        47158395    7.05  \n",
       "...                           ...     ...  \n",
       "2373                     41588713    5.81  \n",
       "2374                     64810308    6.17  \n",
       "2375                     77611801    6.42  \n",
       "2376                     77611801    6.03  \n",
       "2377                     75676982    5.98  \n",
       "\n",
       "[2378 rows x 9 columns]"
      ]
     },
     "execution_count": 72,
     "metadata": {},
     "output_type": "execute_result"
    }
   ],
   "source": [
    "dfbonus[\"entropy\"] = 0\n",
    "localidades = df_pone[\"puma_name\"].unique()\n",
    "for i in localidades:\n",
    "    df_localidad = df_pone[df_pone[\"puma_name\"] == i]\n",
    "    H = entropia(df_localidad)\n",
    "    dfbonus.loc[dfbonus[\"puma_name\"] == i, \"entropy\"] = H\n",
    "\n",
    "dfbonus[\"entropy\"] = dfbonus[\"entropy\"].apply(lambda x: format(x, '.2f'))\n",
    "dfbonus"
   ]
  },
  {
   "cell_type": "markdown",
   "metadata": {},
   "source": [
    "## Gráficos"
   ]
  },
  {
   "cell_type": "code",
   "execution_count": 73,
   "metadata": {},
   "outputs": [],
   "source": [
    "#Creamos un nuevo dataframe que contendrá el estado al que pertenece cada locación\n",
    "df2 = df.copy()\n",
    "df2[\"state\"] = df[\"puma_name\"].str.findall(r'\\b([A-Z]{2})\\b')\n",
    "df2[\"state\"] = df2[\"state\"].apply(lambda x: x[-1] if x else None) #Hay estados repetidos en los nombres, agarra el último que es el válido"
   ]
  },
  {
   "cell_type": "code",
   "execution_count": 74,
   "metadata": {},
   "outputs": [
    {
     "data": {
      "text/html": [
       "<div>\n",
       "<style scoped>\n",
       "    .dataframe tbody tr th:only-of-type {\n",
       "        vertical-align: middle;\n",
       "    }\n",
       "\n",
       "    .dataframe tbody tr th {\n",
       "        vertical-align: top;\n",
       "    }\n",
       "\n",
       "    .dataframe thead th {\n",
       "        text-align: right;\n",
       "    }\n",
       "</style>\n",
       "<table border=\"1\" class=\"dataframe\">\n",
       "  <thead>\n",
       "    <tr style=\"text-align: right;\">\n",
       "      <th></th>\n",
       "      <th>puma_name</th>\n",
       "      <th>average_location_wage</th>\n",
       "      <th>occupation_w_max_wage</th>\n",
       "      <th>max_wage</th>\n",
       "      <th>average_national_wage</th>\n",
       "      <th>state</th>\n",
       "      <th>total_population</th>\n",
       "    </tr>\n",
       "  </thead>\n",
       "  <tbody>\n",
       "    <tr>\n",
       "      <th>0</th>\n",
       "      <td>Inner Mission &amp; Castro PUMA, CA</td>\n",
       "      <td>96421</td>\n",
       "      <td>Surgeons</td>\n",
       "      <td>572400</td>\n",
       "      <td>282720</td>\n",
       "      <td>CA</td>\n",
       "      <td>22885872</td>\n",
       "    </tr>\n",
       "    <tr>\n",
       "      <th>1</th>\n",
       "      <td>Cupertino, Saratoga Cities &amp; Los Gatos Town PU...</td>\n",
       "      <td>85380</td>\n",
       "      <td>Industrial production managers</td>\n",
       "      <td>572400</td>\n",
       "      <td>77306</td>\n",
       "      <td>CA</td>\n",
       "      <td>22885872</td>\n",
       "    </tr>\n",
       "    <tr>\n",
       "      <th>2</th>\n",
       "      <td>San Mateo (North), Burlingame &amp; Millbrae Citie...</td>\n",
       "      <td>82798</td>\n",
       "      <td>Surgeons</td>\n",
       "      <td>572400</td>\n",
       "      <td>282720</td>\n",
       "      <td>CA</td>\n",
       "      <td>22885872</td>\n",
       "    </tr>\n",
       "    <tr>\n",
       "      <th>3</th>\n",
       "      <td>Menlo Park, East Palo Alto Cities &amp; Atherton T...</td>\n",
       "      <td>81602</td>\n",
       "      <td>Miscellaneous social scientists, including sur...</td>\n",
       "      <td>572400</td>\n",
       "      <td>47659</td>\n",
       "      <td>CA</td>\n",
       "      <td>22885872</td>\n",
       "    </tr>\n",
       "    <tr>\n",
       "      <th>4</th>\n",
       "      <td>Rancho Santa Margarita City (East) &amp; Ladera Ra...</td>\n",
       "      <td>80663</td>\n",
       "      <td>Firstline supervisors of housekeeping &amp; janito...</td>\n",
       "      <td>572400</td>\n",
       "      <td>30437</td>\n",
       "      <td>CA</td>\n",
       "      <td>22885872</td>\n",
       "    </tr>\n",
       "    <tr>\n",
       "      <th>...</th>\n",
       "      <td>...</td>\n",
       "      <td>...</td>\n",
       "      <td>...</td>\n",
       "      <td>...</td>\n",
       "      <td>...</td>\n",
       "      <td>...</td>\n",
       "      <td>...</td>\n",
       "    </tr>\n",
       "    <tr>\n",
       "      <th>2373</th>\n",
       "      <td>Carr 3 (Sureste) PUMA, PR</td>\n",
       "      <td>18646</td>\n",
       "      <td>Broadcast announcers and radio disc jockeys</td>\n",
       "      <td>75982</td>\n",
       "      <td>47494</td>\n",
       "      <td>PR</td>\n",
       "      <td>1210903</td>\n",
       "    </tr>\n",
       "    <tr>\n",
       "      <th>2374</th>\n",
       "      <td>Carr 2 (Norte) PUMA, PR</td>\n",
       "      <td>17486</td>\n",
       "      <td>Purchasing managers</td>\n",
       "      <td>71930</td>\n",
       "      <td>74013</td>\n",
       "      <td>PR</td>\n",
       "      <td>1210903</td>\n",
       "    </tr>\n",
       "    <tr>\n",
       "      <th>2375</th>\n",
       "      <td>Carr 2 (Suroeste) PUMA, PR</td>\n",
       "      <td>16361</td>\n",
       "      <td>Pharmacists</td>\n",
       "      <td>182357</td>\n",
       "      <td>88632</td>\n",
       "      <td>PR</td>\n",
       "      <td>1210903</td>\n",
       "    </tr>\n",
       "    <tr>\n",
       "      <th>2376</th>\n",
       "      <td>Carr 2 (Sur) PUMA, PR</td>\n",
       "      <td>15806</td>\n",
       "      <td>Pharmacists</td>\n",
       "      <td>72364</td>\n",
       "      <td>88632</td>\n",
       "      <td>PR</td>\n",
       "      <td>1210903</td>\n",
       "    </tr>\n",
       "    <tr>\n",
       "      <th>2377</th>\n",
       "      <td>Carr 156-Carr 164 PUMA, PR</td>\n",
       "      <td>15285</td>\n",
       "      <td>Miscellaneous engineers, including nuclear eng...</td>\n",
       "      <td>56733</td>\n",
       "      <td>86423</td>\n",
       "      <td>PR</td>\n",
       "      <td>1210903</td>\n",
       "    </tr>\n",
       "  </tbody>\n",
       "</table>\n",
       "<p>2378 rows × 7 columns</p>\n",
       "</div>"
      ],
      "text/plain": [
       "                                              puma_name  \\\n",
       "0                       Inner Mission & Castro PUMA, CA   \n",
       "1     Cupertino, Saratoga Cities & Los Gatos Town PU...   \n",
       "2     San Mateo (North), Burlingame & Millbrae Citie...   \n",
       "3     Menlo Park, East Palo Alto Cities & Atherton T...   \n",
       "4     Rancho Santa Margarita City (East) & Ladera Ra...   \n",
       "...                                                 ...   \n",
       "2373                          Carr 3 (Sureste) PUMA, PR   \n",
       "2374                            Carr 2 (Norte) PUMA, PR   \n",
       "2375                         Carr 2 (Suroeste) PUMA, PR   \n",
       "2376                              Carr 2 (Sur) PUMA, PR   \n",
       "2377                         Carr 156-Carr 164 PUMA, PR   \n",
       "\n",
       "      average_location_wage  \\\n",
       "0                     96421   \n",
       "1                     85380   \n",
       "2                     82798   \n",
       "3                     81602   \n",
       "4                     80663   \n",
       "...                     ...   \n",
       "2373                  18646   \n",
       "2374                  17486   \n",
       "2375                  16361   \n",
       "2376                  15806   \n",
       "2377                  15285   \n",
       "\n",
       "                                  occupation_w_max_wage  max_wage  \\\n",
       "0                                              Surgeons    572400   \n",
       "1                        Industrial production managers    572400   \n",
       "2                                              Surgeons    572400   \n",
       "3     Miscellaneous social scientists, including sur...    572400   \n",
       "4     Firstline supervisors of housekeeping & janito...    572400   \n",
       "...                                                 ...       ...   \n",
       "2373        Broadcast announcers and radio disc jockeys     75982   \n",
       "2374                                Purchasing managers     71930   \n",
       "2375                                        Pharmacists    182357   \n",
       "2376                                        Pharmacists     72364   \n",
       "2377  Miscellaneous engineers, including nuclear eng...     56733   \n",
       "\n",
       "      average_national_wage state  total_population  \n",
       "0                    282720    CA          22885872  \n",
       "1                     77306    CA          22885872  \n",
       "2                    282720    CA          22885872  \n",
       "3                     47659    CA          22885872  \n",
       "4                     30437    CA          22885872  \n",
       "...                     ...   ...               ...  \n",
       "2373                  47494    PR           1210903  \n",
       "2374                  74013    PR           1210903  \n",
       "2375                  88632    PR           1210903  \n",
       "2376                  88632    PR           1210903  \n",
       "2377                  86423    PR           1210903  \n",
       "\n",
       "[2378 rows x 7 columns]"
      ]
     },
     "execution_count": 74,
     "metadata": {},
     "output_type": "execute_result"
    }
   ],
   "source": [
    "#Creamos una copia de df_pone para agregar la columna de estado\n",
    "df_pone2 = df_pone.copy()\n",
    "df_pone2[\"state\"] = df_pone[\"puma_name\"].str.findall(r'\\b([A-Z]{2})\\b')\n",
    "df_pone2[\"state\"] = df_pone2[\"state\"].apply(lambda x: x[-1] if x else None)\n",
    "\n",
    "#Creamos una copia de df_pone2 para calcular la población total del estado (de nuestros datos)\n",
    "df_pone3 = df_pone2.drop(columns=[\"puma_id\",\"puma_name\",\"occupation_id\",\"average_wage\",\"occupation_name\"])\n",
    "df_pone3 = df_pone3.groupby(\"state\")[\"total_population\"].sum().reset_index()\n",
    "df_pone3.sort_values(by=\"total_population\",\n",
    "                     ascending=False,\n",
    "                     inplace=True)\n",
    "\n",
    "#Dicha población total por estado se añade a df2\n",
    "df2 = pd.merge(df2,df_pone3)\n",
    "df2"
   ]
  },
  {
   "cell_type": "markdown",
   "metadata": {},
   "source": [
    "### Gráfico de sueldo promedio de las 6 profesiones con mayor sueldo en los 10 estados con la mayor cantidad de población"
   ]
  },
  {
   "cell_type": "code",
   "execution_count": 75,
   "metadata": {},
   "outputs": [
    {
     "data": {
      "image/png": "[encoded data removed]",
      "text/plain": [
       "<Figure size 1152x576 with 1 Axes>"
      ]
     },
     "metadata": {
      "needs_background": "light"
     },
     "output_type": "display_data"
    }
   ],
   "source": [
    "# Se crea una lista con los 10 estados con mayor población según los datos\n",
    "l = list(df_pone3.head(7)[\"state\"])\n",
    "\n",
    "# Se crea un dataframe únicamente con dichos 10 estados\n",
    "dftopp = df2[df2[\"state\"].isin(l)]\n",
    "\n",
    "# Se crea una segunda lista con las 6 profesiones cno mayor sueldo en dichos estados\n",
    "l2 = list(dftopp[\"occupation_w_max_wage\"].value_counts().head(5).index)\n",
    "dftopp = dftopp[dftopp[\"occupation_w_max_wage\"].isin(l2)]\n",
    "\n",
    "plt.figure(figsize=(16, 8))\n",
    "sns.barplot(data=dftopp, \n",
    "            x=\"state\", \n",
    "            y=\"max_wage\", \n",
    "            hue=\"occupation_w_max_wage\", \n",
    "            edgecolor=\"black\")\n",
    "plt.title(\"Average Maximum Salary of Top Professions in the Most Populous States\", \n",
    "          fontsize=16)\n",
    "plt.xlabel(\"State\", \n",
    "           fontsize=14)\n",
    "plt.ylabel(\"Maximum Salary ($)\", \n",
    "           fontsize=14)\n",
    "\n",
    "# Mostrar el gráfico\n",
    "plt.show()\n"
   ]
  },
  {
   "attachments": {
    "image.png": {
     "image/png": "[encoded data removed]"
    }
   },
   "cell_type": "markdown",
   "metadata": {},
   "source": [
    "![image.png](attachment:image.png)"
   ]
  },
  {
   "cell_type": "code",
   "execution_count": 76,
   "metadata": {},
   "outputs": [],
   "source": [
    "#Lista de estados\n",
    "estados = df2[\"state\"].unique()\n",
    "\n",
    "#Lista de estados separados por zona geografica\n",
    "northeast = [\"CT\", \"ME\", \"MA\", \"NH\", \"RI\", \"VT\", \"NY\", \"PA\", \"NJ\"]\n",
    "midwest = [\"IL\", \"IN\", \"IA\", \"KS\", \"MI\", \"MN\", \"MO\", \"NE\", \"ND\", \"OH\", \"SD\", \"WI\"]\n",
    "south = [\"AL\", \"AR\", \"FL\", \"GA\", \"KY\", \"LA\", \"MS\", \"NC\", \"OK\", \"SC\", \"TN\", \"TX\", \"VA\", \"WV\", \"DC\", \"DE\", \"MD\"]\n",
    "west = [\"AK\", \"AZ\", \"CA\", \"CO\", \"HI\", \"ID\", \"MT\", \"NV\", \"NM\", \"OR\", \"UT\", \"WA\", \"WY\"]\n",
    "df2[\"regional_division\"] = df2[\"state\"].apply(lambda x: \n",
    "                                  \"Northeast\" if x in northeast else\n",
    "                                  \"Midwest\" if x in midwest else\n",
    "                                  \"South\" if x in south else\n",
    "                                  \"West\" if x in west else\n",
    "                                  x)"
   ]
  },
  {
   "cell_type": "code",
   "execution_count": 77,
   "metadata": {},
   "outputs": [],
   "source": [
    "#Copia de df_pone2 para calcular la población de cada locación\n",
    "df_pone4 = df_pone2.drop(columns=[\"puma_id\",\"state\",\"occupation_id\",\"average_wage\",\"occupation_name\"])\n",
    "df_pone4 = df_pone4.groupby(\"puma_name\")[\"total_population\"].sum().reset_index()\n",
    "df_pone4.rename(columns={\"total_population\" : \"location_population\"}, inplace=True)\n",
    "\n",
    "#Dicha columna de agrega al df2\n",
    "df2 = pd.merge(df2,df_pone4)"
   ]
  },
  {
   "cell_type": "code",
   "execution_count": 78,
   "metadata": {},
   "outputs": [
    {
     "data": {
      "application/vnd.plotly.v1+json": {
       "config": {
        "plotlyServerURL": "https://plot.ly"
       },
       "data": [
        {
         "branchvalues": "total",
         "customdata": [
          [
           214549.5783839858
          ],
          [
           197506.0901287554
          ],
          [
           115077.91917293234
          ],
          [
           151221.96153846153
          ],
          [
           299091.0544217687
          ],
          [
           727403.6296296297
          ],
          [
           399573.9938339062
          ],
          [
           409291.1818181818
          ],
          [
           212750.3793103448
          ],
          [
           417395.9658119658
          ],
          [
           317099.36564319936
          ],
          [
           493378.2417582418
          ],
          [
           421448.34211076284
          ],
          [
           601191.8920025893
          ],
          [
           492365.1743119266
          ],
          [
           256313.58823529413
          ],
          [
           272760.9268292683
          ],
          [
           572399.8378378379
          ],
          [
           362708.7920792079
          ],
          [
           550111.6712328767
          ],
          [
           527823.552
          ],
          [
           572399.7959183673
          ],
          [
           482234.1904761905
          ],
          [
           645342.8307692307
          ],
          [
           506548.5048543689
          ],
          [
           243143.28125
          ],
          [
           260105.29460580912
          ],
          [
           227946.8208955224
          ],
          [
           270742.09703628125
          ],
          [
           668644
          ],
          [
           437657.9178082192
          ],
          [
           191538.6590909091
          ],
          [
           310975.5748031496
          ],
          [
           527823.5769230769
          ],
          [
           163171.73475124696
          ],
          [
           187189.77777777775
          ],
          [
           477168.6909090909
          ],
          [
           162095.51315789475
          ],
          [
           418409.0740740741
          ],
          [
           314703.8021975745
          ],
          [
           151964.55
          ],
          [
           145526.17757009345
          ],
          [
           427526.93150684924
          ],
          [
           253274.24
          ],
          [
           444749.58974358975
          ],
          [
           418409.0588235294
          ],
          [
           645342.8461538461
          ],
          [
           559811.3042431204
          ],
          [
           506548.5037037037
          ],
          [
           146899.06329113923
          ],
          [
           162095.51633986927
          ],
          [
           316288.888
          ],
          [
           474129.4074074074
          ],
          [
           572399.8148148148
          ],
          [
           504522.3278688525
          ],
          [
           136768.09174311926
          ],
          [
           253274.25688073397
          ],
          [
           272322.4801980198
          ],
          [
           396120.9379310344
          ],
          [
           389024.32452939916
          ],
          [
           431903.57940631796
          ],
          [
           383159.7928860637
          ],
          [
           477168.6819649839
          ],
          [
           306463.33628318587
          ],
          [
           460878.88764278864
          ],
          [
           164593.88687782804
          ],
          [
           444749.5696202532
          ],
          [
           359874.99609375
          ],
          [
           347834.6618104185
          ],
          [
           368374.4058644504
          ],
          [
           420063.6796243641
          ],
          [
           421448.3595505618
          ],
          [
           345933.6615384615
          ],
          [
           347823.88167563616
          ],
          [
           435631.70247933886
          ],
          [
           668644
          ],
          [
           437657.89830508473
          ],
          [
           418409.064516129
          ],
          [
           445762.69003581005
          ],
          [
           369404.95181248954
          ],
          [
           425500.74285714293
          ],
          [
           321770.427480916
          ],
          [
           179919.3836065574
          ],
          [
           202619.4047619048
          ],
          [
           417395.9696969698
          ],
          [
           316666.7750681217
          ],
          [
           205383.45664739888
          ],
          [
           167161.00598802394
          ],
          [
           432592.4102564103
          ],
          [
           391055.44347826095
          ],
          [
           182357.45098039217
          ],
          [
           192488.4411764706
          ],
          [
           248312.13656789972
          ],
          [
           182357.46
          ],
          [
           287310.41025641025
          ],
          [
           396120.94117647066
          ],
          [
           194041.84649914526
          ],
          [
           424711.21691151004
          ],
          [
           202619.40869565215
          ],
          [
           170687.51908396947
          ],
          [
           467057.88711223233
          ],
          [
           187422.94339622636
          ],
          [
           393081.6249887641
          ],
          [
           283667.14814814815
          ],
          [
           508574.6666666667
          ],
          [
           303586.3791821561
          ],
          [
           493378.25988700567
          ],
          [
           435631.7229437229
          ],
          [
           151964.5507246377
          ],
          [
           145885.97826086957
          ],
          [
           313664.3493209244
          ],
          [
           167161
          ],
          [
           371107.8073265551
          ],
          [
           407265
          ],
          [
           420333.81895494217
          ],
          [
           506548.5
          ],
          [
           202619.40677966105
          ],
          [
           164121.72727272726
          ],
          [
           227946.828125
          ],
          [
           222881.33834586467
          ],
          [
           418409.0731707317
          ],
          [
           444749.6071428572
          ],
          [
           360662.5454545455
          ],
          [
           474129.40880503145
          ],
          [
           437405.70663161454
          ],
          [
           727403.6078431372
          ],
          [
           417395.9677419355
          ],
          [
           668644
          ],
          [
           250234.94594594595
          ],
          [
           504522.3243243243
          ],
          [
           417395.9806763285
          ],
          [
           202619.40880503147
          ],
          [
           417395.96078431373
          ],
          [
           492365.1724137931
          ],
          [
           474129.40625
          ],
          [
           668644.0258064516
          ],
          [
           425500.7468879668
          ],
          [
           227946.83783783784
          ],
          [
           437657.9220779221
          ],
          [
           645342.8
          ],
          [
           482234.2051282051
          ],
          [
           180331.2577319588
          ],
          [
           478073.0593220339
          ],
          [
           253274.26315789475
          ],
          [
           399507.91630946874
          ],
          [
           477168.69696969696
          ],
          [
           550111.7
          ],
          [
           418409.0714285714
          ],
          [
           668644
          ],
          [
           75982.28333333334
          ],
          [
           527823.5789473684
          ],
          [
           253274.25352112675
          ],
          [
           413343.5714285715
          ],
          [
           445762.6857142857
          ],
          [
           126637.12612612612
          ],
          [
           281319.2843601896
          ],
          [
           477168.6923076923
          ],
          [
           339387.4942528736
          ],
          [
           435631.7096774193
          ],
          [
           437657.92
          ],
          [
           477888.0984860207
          ],
          [
           212750.3829787234
          ],
          [
           403212.6
          ],
          [
           193021.64045559717
          ],
          [
           474129.4210526316
          ],
          [
           396120.9444444445
          ],
          [
           324191.0555555556
          ],
          [
           417395.972043931
          ],
          [
           572399.8333333334
          ],
          [
           334322
          ],
          [
           482234.17647058825
          ],
          [
           550111.7108433734
          ],
          [
           403212.6
          ],
          [
           645342.8062334225
          ],
          [
           309143.3478698984
          ],
          [
           418409.0833333333
          ],
          [
           492365.1724137931
          ],
          [
           474129.4166666666
          ],
          [
           425500.7462686568
          ],
          [
           222881.3488372093
          ],
          [
           148925.27450980392
          ],
          [
           492365.1707317073
          ],
          [
           101309.70512820513
          ],
          [
           143051.52573529413
          ],
          [
           172226.48484848486
          ],
          [
           360662.51851851854
          ],
          [
           160069.32743362832
          ],
          [
           369808.94366197183
          ],
          [
           319292.5421245421
          ],
          [
           248648.20233036345
          ],
          [
           437657.8965517241
          ],
          [
           202619.4098360656
          ],
          [
           180331.26666666663
          ],
          [
           572399.7908496732
          ],
          [
           432592.4137931035
          ],
          [
           645342.8468468469
          ],
          [
           246813.8153846154
          ],
          [
           417395.9518072289
          ],
          [
           329928.83990875544
          ],
          [
           429176.6894333512
          ],
          [
           267878.7922176103
          ],
          [
           323189.54968327534
          ],
          [
           327277.6512847762
          ],
          [
           262722.31640692294
          ],
          [
           228011.4531530294
          ],
          [
           403212.5797101449
          ],
          [
           247802.59030327355
          ],
          [
           455130.99999348045
          ],
          [
           327758.3072497214
          ],
          [
           289610.7439165701
          ],
          [
           225758.49607797427
          ],
          [
           307521.4798648213
          ],
          [
           354478.52274120593
          ],
          [
           160891.698630137
          ],
          [
           360748.09049599717
          ],
          [
           309776.1570796903
          ],
          [
           298550.2324162626
          ],
          [
           320111.90480617236
          ],
          [
           377197.5316921131
          ],
          [
           320500.0568202317
          ],
          [
           182357.45806451613
          ],
          [
           217658.83125
          ],
          [
           274126.68685714283
          ],
          [
           311414.644899301
          ],
          [
           242402.4782608696
          ],
          [
           324207.45683141
          ],
          [
           334877.8125
          ],
          [
           354583.94520547945
          ],
          [
           164121.72413793104
          ],
          [
           727403.5918367347
          ],
          [
           482234.19867949456
          ],
          [
           421448.3456790124
          ],
          [
           280904.16235379124
          ],
          [
           437657.9029126214
          ],
          [
           211737.26190476192
          ],
          [
           316086.2745098039
          ],
          [
           202619.41025641025
          ],
          [
           115493.05384615384
          ],
          [
           243143.2741935484
          ],
          [
           482234.1904761905
          ],
          [
           145723.88
          ],
          [
           393081.6170212766
          ],
          [
           326732.4232081911
          ],
          [
           233012.31325301205
          ],
          [
           645342.8148148148
          ],
          [
           222881.34375
          ],
          [
           146899.0634920635
          ],
          [
           91178.72784810126
          ],
          [
           352291.89758916496
          ],
          [
           393081.60824742273
          ],
          [
           645342.8275862068
          ],
          [
           241728.88636363638
          ],
          [
           121302.57505773671
          ],
          [
           297701.32207792206
          ],
          [
           352048.19161676645
          ],
          [
           303929.088
          ],
          [
           572399.8260869565
          ],
          [
           173147.47933884297
          ],
          [
           227946.83146067415
          ],
          [
           417395.9666666666
          ],
          [
           432592.4
          ],
          [
           344500.3587740744
          ],
          [
           492365.14851485146
          ],
          [
           425500.7619047619
          ],
          [
           504522.3087248322
          ],
          [
           418409.08
          ],
          [
           531875.9322033898
          ],
          [
           243143.27777777775
          ],
          [
           572399.8185483871
          ],
          [
           504522.2933333333
          ],
          [
           645342.794520548
          ],
          [
           668644
          ],
          [
           572399.8297872341
          ],
          [
           360431.918699187
          ],
          [
           432592.4166666667
          ],
          [
           645342.7894736842
          ],
          [
           437657.90476190473
          ],
          [
           302160.8829013594
          ],
          [
           235038.4897959184
          ],
          [
           325677.2673487714
          ],
          [
           477168.68965517235
          ],
          [
           172226.48453608248
          ],
          [
           192869.06936416184
          ],
          [
           266652.6780821918
          ],
          [
           432592.4230769231
          ],
          [
           243448.42560603863
          ],
          [
           170079.77695167286
          ],
          [
           253021.52384945506
          ],
          [
           227946.82926829267
          ],
          [
           210806.14979533272
          ],
          [
           281049.5513513514
          ],
          [
           167221.94736842104
          ],
          [
           426513.8636363637
          ],
          [
           192488.4406779661
          ],
          [
           199580.10666666666
          ],
          [
           403212.6
          ],
          [
           368806.2923076923
          ],
          [
           572399.8250000001
          ],
          [
           421448.3274853801
          ],
          [
           427526.9523809524
          ],
          [
           572399.8285714285
          ],
          [
           168475.87765957447
          ],
          [
           482234.2
          ],
          [
           628120.1194029851
          ],
          [
           196540.8076923077
          ],
          [
           556272.4063029082
          ],
          [
           413343.54999999993
          ],
          [
           147912.15894039735
          ],
          [
           417395.9677419355
          ],
          [
           126637.1256830601
          ],
          [
           162095.51351351352
          ],
          [
           302309.5442176871
          ],
          [
           127733.69288389511
          ],
          [
           482234.1818181818
          ],
          [
           223341.82954545456
          ],
          [
           151964.55813953487
          ],
          [
           162095.51388888888
          ],
          [
           194101.52427184462
          ],
          [
           202619.4068965517
          ],
          [
           230105.4923076923
          ],
          [
           426513.85
          ],
          [
           506548.5090909091
          ],
          [
           253274.25714285715
          ],
          [
           477168.68656716414
          ],
          [
           239176.10280373832
          ],
          [
           550111.7073170731
          ],
          [
           403212.5822784809
          ],
          [
           205200.84615384616
          ],
          [
           390468.4018691589
          ],
          [
           492365.15926892945
          ],
          [
           182357.46153846156
          ],
          [
           317114.9423076923
          ],
          [
           437657.9142857143
          ],
          [
           159157.54090909092
          ],
          [
           566154.9110408046
          ],
          [
           319125.5555555556
          ],
          [
           230161.72503894093
          ],
          [
           482234.1846153846
          ],
          [
           417395.9603960396
          ],
          [
           444749.59139784944
          ],
          [
           432592.3947368421
          ],
          [
           437657.914893617
          ],
          [
           364564.2143757911
          ],
          [
           445762.69565217395
          ],
          [
           400834.73575129535
          ],
          [
           482234.1951219512
          ],
          [
           202619.4084507042
          ],
          [
           437657.9000000001
          ],
          [
           418409.0999999999
          ],
          [
           474129.4054054054
          ],
          [
           550111.6712328767
          ],
          [
           504336.3204484069
          ],
          [
           243143.29166666663
          ],
          [
           475362.2081939556
          ],
          [
           482234.2035928144
          ],
          [
           504522.3157894737
          ],
          [
           391055.45064377686
          ],
          [
           668644
          ],
          [
           244245.64537444932
          ],
          [
           572399.830683625
          ],
          [
           482234.2
          ],
          [
           408278.1052631579
          ],
          [
           550111.7037037037
          ],
          [
           340731.70817120624
          ],
          [
           628120.1111111111
          ],
          [
           418409.1111111111
          ],
          [
           668644
          ],
          [
           426513.8367346939
          ],
          [
           445762.68486352375
          ],
          [
           474129.38666666666
          ],
          [
           502406.3621580295
          ],
          [
           318685.92452830187
          ],
          [
           474129.4375
          ],
          [
           572399.793814433
          ],
          [
           352527.9411764706
          ],
          [
           195896.1181818182
          ],
          [
           180331.2676056338
          ],
          [
           197816.49659863947
          ],
          [
           202619.4054054054
          ],
          [
           508574.6666666667
          ],
          [
           339387.512195122
          ],
          [
           395107.8571428572
          ],
          [
           550111.661971831
          ],
          [
           396120.94999999995
          ],
          [
           389962.4032149877
          ],
          [
           537009.6815706652
          ],
          [
           202619.40277777775
          ],
          [
           727403.6
          ],
          [
           405097.0481866529
          ],
          [
           429086.4969907315
          ],
          [
           408278.08163265313
          ],
          [
           367944.88503668946
          ],
          [
           401165.3125
          ],
          [
           417395.971735811
          ],
          [
           444749.5903614458
          ],
          [
           314355.26259017974
          ],
          [
           436160.37011478824
          ],
          [
           421922.6436654622
          ],
          [
           432592.4080454319
          ],
          [
           307541.2565445026
          ],
          [
           421448.3539823009
          ],
          [
           339387.5035013711
          ],
          [
           418409.07246160414
          ],
          [
           407265.0105263158
          ],
          [
           435631.72413793096
          ],
          [
           531875.9320814448
          ],
          [
           349518.4761904762
          ],
          [
           437462.1088996984
          ],
          [
           638207.0546715966
          ],
          [
           399579.318277758
          ],
          [
           418409.04142011836
          ],
          [
           312564.12379535596
          ],
          [
           335711.0954508522
          ],
          [
           182357.4578313253
          ],
          [
           243143.2857142857
          ],
          [
           162095.51315789475
          ],
          [
           428177.53078239347
          ],
          [
           409219.50559872296
          ],
          [
           425500.7450980392
          ],
          [
           312339.1535968487
          ],
          [
           422461.43126684637
          ],
          [
           441565.6505952704
          ],
          [
           444749.5915290383
          ],
          [
           339387.51145038166
          ],
          [
           202619.40506329117
          ],
          [
           425761.2449084354
          ],
          [
           421448.347826087
          ],
          [
           383594.8381502891
          ],
          [
           417395.9722222223
          ],
          [
           516077.2927588233
          ],
          [
           429086.49531033554
          ],
          [
           628120.1132075472
          ],
          [
           493378.2222222223
          ],
          [
           409483.6879435568
          ],
          [
           425500.76056338026
          ],
          [
           314520.5882352941
          ],
          [
           314612.6666666667
          ],
          [
           350574.6666666667
          ],
          [
           418409.0740740741
          ],
          [
           572399.8333333334
          ],
          [
           231999.2248062016
          ],
          [
           508574.679245283
          ],
          [
           467037.72093023255
          ],
          [
           437657.9220779221
          ],
          [
           345853.34911242605
          ],
          [
           297850.51666666666
          ],
          [
           289771.39240506326
          ],
          [
           572399.8260869565
          ],
          [
           186409.8476190476
          ],
          [
           369380.7043331279
          ],
          [
           194514.62857142856
          ],
          [
           572399.8285714285
          ],
          [
           418409.0693069307
          ],
          [
           668644
          ],
          [
           182357.46666666667
          ],
          [
           474129.41353383457
          ],
          [
           527823.5443037974
          ],
          [
           251248.07407407407
          ],
          [
           295004.2010582011
          ],
          [
           535359.8174272977
          ],
          [
           306309.82945736434
          ],
          [
           325661.8474812357
          ],
          [
           299876.7211538461
          ],
          [
           320283.39285714284
          ],
          [
           417395.97790055245
          ],
          [
           259801.153881608
          ],
          [
           173719.47368421053
          ],
          [
           121571.64285714286
          ],
          [
           303929.0933333333
          ],
          [
           427526.93333333335
          ],
          [
           301902.9090909091
          ],
          [
           204282.92984350215
          ],
          [
           177291.97894736842
          ],
          [
           294729.42236024846
          ],
          [
           432592.4230769231
          ],
          [
           418409.0580645161
          ],
          [
           161216.55415749224
          ],
          [
           231224.487394958
          ],
          [
           421448.3333333333
          ],
          [
           202619.41176470587
          ],
          [
           383773.19801980205
          ],
          [
           253274.25
          ],
          [
           482234.17647058825
          ],
          [
           252713.5707762557
          ],
          [
           233012.3103448276
          ],
          [
           417395.9841897233
          ],
          [
           253274.25352112675
          ],
          [
           727403.5918367347
          ],
          [
           273536.18859649124
          ],
          [
           506548.5098039216
          ],
          [
           263405.22222222225
          ],
          [
           408278.11111111107
          ],
          [
           628120.1379310344
          ],
          [
           508574.6666666667
          ],
          [
           151964.55263157896
          ],
          [
           445762.6769230769
          ],
          [
           408278.11111111107
          ],
          [
           550111.6831683168
          ],
          [
           208817.4266055046
          ],
          [
           197959.75964391694
          ],
          [
           198567.0188679245
          ],
          [
           156016.93181818182
          ],
          [
           265658.9411764706
          ],
          [
           426513.83206106874
          ],
          [
           404655.68007884396
          ],
          [
           645342.8059701492
          ],
          [
           151964.54794520547
          ],
          [
           417395.9534883721
          ],
          [
           497404.4720196733
          ],
          [
           483209.8983240224
          ],
          [
           482234.2
          ],
          [
           550111.6842105263
          ],
          [
           403212.6037735849
          ],
          [
           393081.61815702333
          ],
          [
           421902.42405666696
          ],
          [
           432592.4
          ],
          [
           193501.56
          ],
          [
           418409.06666666665
          ],
          [
           645342.8234234243
          ],
          [
           418737.5161111308
          ],
          [
           454050.8021624413
          ],
          [
           474129.41818181815
          ],
          [
           444749.5945945946
          ],
          [
           214776.56074766355
          ],
          [
           294485.36005005677
          ],
          [
           184907.2837078652
          ],
          [
           226804.1424418605
          ],
          [
           165602.4010989011
          ],
          [
           308630.46734955284
          ],
          [
           292026.3561643836
          ],
          [
           303929.0833333333
          ],
          [
           228739.68260869564
          ],
          [
           138044.44094488188
          ],
          [
           204469.8082191781
          ],
          [
           286788.59797297296
          ],
          [
           432592.406779661
          ],
          [
           271866.20547945204
          ],
          [
           182357.45306122449
          ],
          [
           225582.92592592596
          ],
          [
           492365.2
          ],
          [
           474129.4545454545
          ],
          [
           354583.9304347826
          ],
          [
           151964.5576923077
          ],
          [
           264691.75668474304
          ],
          [
           227946.83783783784
          ],
          [
           222881.35294117648
          ],
          [
           628120.1073825504
          ],
          [
           281228.0326086957
          ],
          [
           296347.18548387097
          ],
          [
           572399.8356164383
          ],
          [
           196284.11864406773
          ],
          [
           177291.9638554217
          ],
          [
           192488.43859649124
          ],
          [
           432592.4
          ],
          [
           437657.9090909091
          ],
          [
           474129.39130434784
          ],
          [
           514206.3529411765
          ],
          [
           253274.25
          ],
          [
           294673.0909090909
          ],
          [
           409846.441954645
          ],
          [
           441246.37563591107
          ],
          [
           146899.06666666668
          ],
          [
           349579.36308579636
          ],
          [
           379740.1549295775
          ],
          [
           210973.30905266633
          ],
          [
           437657.89285714284
          ],
          [
           135704.65586419753
          ],
          [
           245804.0035587189
          ],
          [
           219687.62068801938
          ],
          [
           298448.05970149254
          ],
          [
           321718.8044280963
          ],
          [
           101582.04301075268
          ],
          [
           393081.6285714286
          ],
          [
           273536.18652849743
          ],
          [
           191475.3275862069
          ],
          [
           334779.56451612903
          ],
          [
           228959.92366412212
          ],
          [
           506548.5084745763
          ],
          [
           527823.5734280796
          ],
          [
           645342.8196721311
          ],
          [
           432592.404040404
          ],
          [
           418409.0638297873
          ],
          [
           413343.5526315789
          ],
          [
           417395.9611650485
          ],
          [
           435631.72413793096
          ],
          [
           202619.5
          ],
          [
           349518.48175182485
          ],
          [
           565920.3376748962
          ],
          [
           338374.41139240505
          ],
          [
           506548.5
          ],
          [
           393081.62025316455
          ],
          [
           304350.5915279879
          ],
          [
           236203.8962931643
          ],
          [
           253274.2608695652
          ],
          [
           253410.46638655465
          ],
          [
           153837.79058441558
          ],
          [
           168587.89201877936
          ],
          [
           162095.51388888888
          ],
          [
           182357.447761194
          ],
          [
           482234.1886792453
          ],
          [
           417395.9669421488
          ],
          [
           162095.51401869158
          ],
          [
           403601.96460969734
          ],
          [
           503509.2121212121
          ],
          [
           435631.7333333333
          ],
          [
           572399.7908496732
          ],
          [
           273536.1818181818
          ],
          [
           259352.8333333333
          ],
          [
           253274.2608695652
          ],
          [
           326263.2840909091
          ],
          [
           531875.9545454546
          ],
          [
           182357.4533333333
          ],
          [
           668644
          ],
          [
           572399.8260869565
          ],
          [
           325204.131147541
          ],
          [
           378081.5816326531
          ],
          [
           109414.47794117648
          ],
          [
           477168.701754386
          ],
          [
           195527.72093023252
          ],
          [
           352918.9631147541
          ],
          [
           336951.2056892779
          ],
          [
           182357.45762711865
          ],
          [
           241851.88554216863
          ],
          [
           492365.1623931624
          ],
          [
           162095.51111111112
          ],
          [
           346667.66279069765
          ],
          [
           451008.79069767444
          ],
          [
           493378.2372881356
          ],
          [
           407264.992481203
          ],
          [
           445762.6933333334
          ],
          [
           393081.634408602
          ],
          [
           435631.6948717949
          ],
          [
           201657.32086330932
          ],
          [
           363609.7207792208
          ],
          [
           366128.1428571429
          ],
          [
           317153.99019607843
          ],
          [
           458073.9209465017
          ],
          [
           231625.50222222225
          ],
          [
           474129.4230769231
          ],
          [
           506548.4878048781
          ],
          [
           321534.55113636365
          ],
          [
           285593.2962962963
          ],
          [
           432592.4188481676
          ],
          [
           172226.48529411765
          ],
          [
           339387.51020408166
          ],
          [
           418409.075862069
          ],
          [
           492365.15555555554
          ],
          [
           474129.4
          ],
          [
           427526.95
          ],
          [
           417395.9681195518
          ],
          [
           464991.29730503645
          ],
          [
           352768.4914285714
          ],
          [
           343338.575
          ],
          [
           360662.5384615384
          ],
          [
           493378.24
          ],
          [
           407265
          ],
          [
           229770.4048
          ],
          [
           498692.51318371366
          ],
          [
           182357.45454545456
          ],
          [
           426513.8275862069
          ],
          [
           202619.41379310345
          ],
          [
           151964.54421768707
          ],
          [
           228959.92307692303
          ],
          [
           199580.1158129176
          ],
          [
           396120.9203539823
          ],
          [
           427526.94214876037
          ],
          [
           482234.18541785673
          ],
          [
           550111.6926959662
          ],
          [
           417395.9583333333
          ],
          [
           425500.75308641983
          ],
          [
           354583.9259259259
          ],
          [
           214604.90277777772
          ],
          [
           492365.1428571429
          ],
          [
           493378.25
          ],
          [
           668644
          ],
          [
           132302.96666666667
          ],
          [
           480835.68635776197
          ],
          [
           356112.8090909091
          ],
          [
           349621.21113269974
          ],
          [
           294919.22335025383
          ],
          [
           201994.9344262295
          ],
          [
           351051.5398230089
          ],
          [
           240849.7472222222
          ],
          [
           359507.1157024793
          ],
          [
           645342.8267622463
          ],
          [
           468106.3105022831
          ],
          [
           205750.3366834171
          ],
          [
           474129.4615384616
          ],
          [
           303929.1
          ],
          [
           396120.94285714277
          ],
          [
           572399.7966101695
          ],
          [
           482234.1860465116
          ],
          [
           601104.2037051382
          ],
          [
           243143.2820512821
          ],
          [
           351327.5642857143
          ],
          [
           401186.42553191487
          ],
          [
           182357.45132743364
          ],
          [
           339387.49253731343
          ],
          [
           230292.1838790932
          ],
          [
           226933.72549019608
          ],
          [
           676748.8
          ],
          [
           151964.54054054053
          ],
          [
           432592.41176470596
          ],
          [
           217815.85507246375
          ],
          [
           426513.8461538461
          ],
          [
           668643.9768786128
          ],
          [
           396120.94550466497
          ],
          [
           411120.03818242106
          ],
          [
           372404.9824561404
          ],
          [
           269037.8611111111
          ],
          [
           307113.97360703815
          ],
          [
           267429.38836047245
          ],
          [
           245844.8703703704
          ],
          [
           249100.39487433844
          ],
          [
           375900.1473465062
          ],
          [
           405066.16127031646
          ],
          [
           247179.16820709614
          ],
          [
           493378.2471910112
          ],
          [
           421448.3529411765
          ],
          [
           236652.99787234043
          ],
          [
           343916.32692307694
          ],
          [
           308994.59793814435
          ],
          [
           349518.48387096776
          ],
          [
           392190.0915380842
          ],
          [
           218427.83075252504
          ],
          [
           176052.18831374962
          ],
          [
           236875.76687116563
          ],
          [
           196365.08163265305
          ],
          [
           370378.5662972009
          ],
          [
           202619.41176470587
          ],
          [
           199580.11666666664
          ],
          [
           273153.88863564515
          ],
          [
           550111.6962025317
          ],
          [
           426513.8483754513
          ],
          [
           474129.4
          ],
          [
           181470.08394160584
          ],
          [
           321333.9568345324
          ],
          [
           106919.89217134417
          ],
          [
           396120.94736842107
          ],
          [
           315212.4791666667
          ],
          [
           668644
          ],
          [
           117684.17441860466
          ],
          [
           572399.829059829
          ],
          [
           477168.6917293233
          ],
          [
           417395.9740259741
          ],
          [
           508574.701754386
          ],
          [
           474129.4190757129
          ],
          [
           413343.5652173913
          ],
          [
           269194.75988700567
          ],
          [
           492365.1351351352
          ],
          [
           271164.4913294798
          ],
          [
           427526.9523809524
          ],
          [
           532457.0208713888
          ],
          [
           727403.6417910447
          ],
          [
           399535.3868720731
          ],
          [
           417395.9682539683
          ],
          [
           528984.433415713
          ],
          [
           508574.6835443038
          ],
          [
           354358.12428220914
          ],
          [
           645342.8333333334
          ],
          [
           467037.70588235295
          ],
          [
           222881.3432835821
          ],
          [
           437657.8992805755
          ],
          [
           414963.34239798
          ],
          [
           426513.85
          ],
          [
           474129.40920096927
          ],
          [
           444749.6
          ],
          [
           396120.9523809524
          ],
          [
           177291.97037037037
          ],
          [
           330288.01451905625
          ],
          [
           131702.6075949367
          ],
          [
           202619.41379310345
          ],
          [
           285448.79802955664
          ],
          [
           146899.05806451614
          ],
          [
           182357.47222222225
          ],
          [
           268674.00666666665
          ],
          [
           304729.81861334224
          ],
          [
           354583.94868421054
          ],
          [
           353408.5612244898
          ],
          [
           427224.9803614688
          ],
          [
           338218.5528846154
          ],
          [
           369852.0373610069
          ],
          [
           668644
          ],
          [
           437657.9142857143
          ],
          [
           307728.2213541667
          ],
          [
           202619.40384615381
          ],
          [
           527823.5789473684
          ],
          [
           516793.7288382073
          ],
          [
           215060.2327868853
          ],
          [
           360662.528
          ],
          [
           413343.5588235294
          ],
          [
           334436.6981132076
          ],
          [
           506548.5063291139
          ],
          [
           202619.40298507464
          ],
          [
           126637.13333333332
          ],
          [
           377968.8652173913
          ],
          [
           120305.27173913045
          ],
          [
           628120.1132075472
          ],
          [
           211276.1155660377
          ],
          [
           492365.1830985916
          ],
          [
           572399.8095238095
          ],
          [
           508574.7027027027
          ],
          [
           301498.47690480395
          ],
          [
           426975.1756229635
          ],
          [
           121571.64179104478
          ],
          [
           393081.6285714286
          ],
          [
           291962.2320441989
          ],
          [
           340587.2192982456
          ],
          [
           435631.72602739726
          ],
          [
           233371.29133858267
          ],
          [
           244515.86290322585
          ],
          [
           264293.9157894737
          ],
          [
           492365.1681415929
          ],
          [
           345919.0625
          ],
          [
           444749.6
          ],
          [
           417395.97202797205
          ],
          [
           202619.40740740745
          ],
          [
           222881.3404255319
          ],
          [
           166147.9
          ],
          [
           256313.54761904763
          ],
          [
           241117.1009174312
          ],
          [
           253274.2528735632
          ],
          [
           482234.2040816327
          ],
          [
           212750.3703703704
          ],
          [
           467037.7272727273
          ],
          [
           418409.0540540541
          ],
          [
           482234.19108280254
          ],
          [
           477168.70103092777
          ],
          [
           199580.11627906977
          ],
          [
           393000.6128528053
          ],
          [
           572399.8208955224
          ],
          [
           182357.46666666667
          ],
          [
           396120.9565217392
          ],
          [
           290961.63461753353
          ],
          [
           572399.801980198
          ],
          [
           477168.693877551
          ],
          [
           393081.6444444445
          ],
          [
           168344.45132743364
          ],
          [
           56733.42857142857
          ],
          [
           236907.54046987035
          ],
          [
           444749.6086956522
          ],
          [
           396120.94117647066
          ],
          [
           393081.64
          ],
          [
           572399.8232044199
          ],
          [
           550111.6888888889
          ],
          [
           151964.54545454544
          ],
          [
           668644
          ],
          [
           216682.98456658103
          ],
          [
           202619.40625
          ],
          [
           202619.4025974026
          ],
          [
           396120.9251700681
          ],
          [
           572399.811023622
          ],
          [
           326306.9936708861
          ],
          [
           421448.349726776
          ],
          [
           444749.6
          ],
          [
           517715.6035739393
          ],
          [
           645342.7936507936
          ],
          [
           197553.92647058822
          ],
          [
           182357.44715447156
          ],
          [
           134550.88552188553
          ],
          [
           550111.7014925373
          ],
          [
           572399.8064516129
          ],
          [
           409291.1932773109
          ],
          [
           396120.9523809524
          ],
          [
           572399.8125
          ],
          [
           212750.36893203884
          ],
          [
           474129.4252873563
          ],
          [
           437657.89285714284
          ],
          [
           151964.55135135134
          ],
          [
           727403.6428571428
          ],
          [
           243143.29268292684
          ],
          [
           253274.24691358028
          ],
          [
           668644
          ],
          [
           417395.9622507123
          ],
          [
           405238.796460177
          ],
          [
           253274.2459016393
          ],
          [
           417395.97234848485
          ],
          [
           430404.731884058
          ],
          [
           298268.7614678899
          ],
          [
           492365.17797888385
          ],
          [
           285002.6866445945
          ],
          [
           222543.63425925927
          ],
          [
           142846.66666666666
          ],
          [
           238077.8058252427
          ],
          [
           645342.8235294118
          ],
          [
           131702.60732984293
          ],
          [
           492365.1707317073
          ],
          [
           572399.8167938931
          ],
          [
           482234.2
          ],
          [
           391055.4285714286
          ],
          [
           418409.0485436893
          ],
          [
           261677.07468879668
          ],
          [
           417395.9534883721
          ],
          [
           263405.21495327103
          ],
          [
           482234.1832227073
          ],
          [
           477168.69696969696
          ],
          [
           408278.0930232558
          ],
          [
           417395.9710144928
          ],
          [
           421407.94833115867
          ],
          [
           432592.42553191487
          ],
          [
           421448.3636363637
          ],
          [
           668644.031496063
          ],
          [
           426513.8461538461
          ],
          [
           396120.9414772728
          ],
          [
           427526.9278350516
          ],
          [
           263405.21194641496
          ],
          [
           409291.2
          ],
          [
           401186.4
          ],
          [
           393081.6363636364
          ],
          [
           198298.75793657338
          ],
          [
           339387.5714285714
          ],
          [
           217092.21151584492
          ],
          [
           196624.36858858055
          ],
          [
           418409.0833333333
          ],
          [
           371068.22815864364
          ],
          [
           352375.66448724724
          ],
          [
           215789.6607142857
          ],
          [
           368965.4923738921
          ],
          [
           369178.89374370873
          ],
          [
           423978.34236782935
          ],
          [
           134918.3426966292
          ],
          [
           139346.88605001313
          ],
          [
           527823.5769230769
          ],
          [
           185396.75
          ],
          [
           141833.58208955225
          ],
          [
           425500.7594936709
          ],
          [
           444749.59375
          ],
          [
           444749.5789473684
          ],
          [
           141833.58024691357
          ],
          [
           572399.802955665
          ],
          [
           482234.1754385965
          ],
          [
           417395.9655172414
          ],
          [
           418409.0671261613
          ],
          [
           303929.0950226244
          ],
          [
           571029.1279736159
          ],
          [
           445762.67768595036
          ],
          [
           572399.8064516129
          ],
          [
           445762.6875
          ],
          [
           572399.8198067638
          ],
          [
           504522.32
          ],
          [
           628120.1441441441
          ],
          [
           432592.41904761904
          ],
          [
           416123.305785124
          ],
          [
           437657.9178082192
          ],
          [
           370625.3973799127
          ],
          [
           550111.6818181818
          ],
          [
           427382.48180153983
          ],
          [
           474129.3920972644
          ],
          [
           353395.7407407408
          ],
          [
           439281.6245453909
          ],
          [
           189768.5197740113
          ],
          [
           469453.5512820513
          ],
          [
           413343.5652173913
          ],
          [
           151964.54285714286
          ],
          [
           230986.10526315792
          ],
          [
           182357.4523809524
          ],
          [
           474129.4137931034
          ],
          [
           233012.31914893616
          ],
          [
           550111.6727272727
          ],
          [
           572399.8048780488
          ],
          [
           504522.3125
          ],
          [
           202619.4054054054
          ],
          [
           426513.85365853657
          ],
          [
           418409.0833333333
          ],
          [
           515202.82216332963
          ],
          [
           300495.8229166667
          ],
          [
           437176.8570673871
          ],
          [
           505383.0897445052
          ],
          [
           506326.6423357664
          ],
          [
           493378.2773722628
          ],
          [
           262823.625
          ],
          [
           527823.5717761557
          ],
          [
           444749.6068376068
          ],
          [
           151964.54761904763
          ],
          [
           504929.8127182686
          ],
          [
           727403.6363636364
          ],
          [
           482234.1813725495
          ],
          [
           409291.2
          ],
          [
           550111.706599713
          ],
          [
           628120.1403508772
          ],
          [
           508574.68792029895
          ],
          [
           493378.2721661055
          ],
          [
           418409.07692307694
          ],
          [
           531875.9545454546
          ],
          [
           581585.9528555328
          ],
          [
           531114.5780358125
          ],
          [
           437657.9336927226
          ],
          [
           445762.676056338
          ],
          [
           474129.41818181815
          ],
          [
           425500.75362318836
          ],
          [
           506548.5
          ],
          [
           285525.4364640884
          ],
          [
           432592.4074074074
          ],
          [
           506548.5070422535
          ],
          [
           473192.323042695
          ],
          [
           233012.31914893616
          ],
          [
           237148.62404910123
          ],
          [
           343403.05454545456
          ],
          [
           317099.3725490196
          ],
          [
           508574.6923076923
          ],
          [
           474129.4117647059
          ],
          [
           318197.38241758244
          ],
          [
           251653.3076923077
          ],
          [
           182357.44642857145
          ],
          [
           247696.2023809524
          ],
          [
           243143.27564102568
          ],
          [
           315073.15942028986
          ],
          [
           437657.92452830187
          ],
          [
           227946.8205128205
          ],
          [
           668644
          ],
          [
           322629.175
          ],
          [
           388592.25
          ],
          [
           327505.852398524
          ],
          [
           418409.0602409639
          ],
          [
           347859.42521407595
          ],
          [
           518859.57391473034
          ],
          [
           422824.9106818722
          ],
          [
           225280.16858237548
          ],
          [
           676748.8421052631
          ],
          [
           473195.1980474699
          ],
          [
           399535.3957377703
          ],
          [
           401186.4054054054
          ],
          [
           387349.0716353961
          ],
          [
           417395.96636895713
          ],
          [
           182357.4516129032
          ],
          [
           345926.05543652
          ],
          [
           628120.109375
          ],
          [
           432592.4089722988
          ],
          [
           493378.2352941177
          ],
          [
           379039.62225256383
          ],
          [
           339387.5051546392
          ],
          [
           418409.0540019287
          ],
          [
           497752.39634874574
          ],
          [
           453810.1243518117
          ],
          [
           349039.98891355435
          ],
          [
           418409.0555555556
          ],
          [
           289718.7288888889
          ],
          [
           236512.7185003484
          ],
          [
           445762.6845710166
          ],
          [
           433656.1493773877
          ],
          [
           382926.69459638104
          ],
          [
           506548.511627907
          ],
          [
           444946.7272689056
          ],
          [
           151964.546875
          ],
          [
           391055.4347826087
          ],
          [
           492365.1794871795
          ],
          [
           379734.63298366725
          ],
          [
           484196.6093061108
          ],
          [
           477168.6857142857
          ],
          [
           131702.60975609755
          ],
          [
           232233
          ],
          [
           177819.1056910569
          ],
          [
           361019.9093851133
          ],
          [
           146899.05714285714
          ],
          [
           179200.7083836536
          ],
          [
           393450.06060606055
          ],
          [
           146899.05555555556
          ],
          [
           151109.32925323612
          ],
          [
           287381.8333333333
          ],
          [
           267791.2659755366
          ],
          [
           131702.61016949153
          ],
          [
           101309.70229007634
          ],
          [
           220721.18181818185
          ],
          [
           482234.208588957
          ],
          [
           339387.5140186916
          ],
          [
           202619.4105263158
          ],
          [
           141833.575
          ],
          [
           303929.08108108107
          ],
          [
           151964.54237288135
          ],
          [
           301422.4463519313
          ],
          [
           437657.9130434783
          ],
          [
           253274.2553191489
          ],
          [
           534407.691726719
          ],
          [
           212750.3823529412
          ],
          [
           399543.90666625916
          ],
          [
           477168.6875
          ],
          [
           444749.5909090908
          ],
          [
           403212.5833333333
          ],
          [
           628120.116830295
          ],
          [
           493378.253968254
          ],
          [
           349148.4986213336
          ],
          [
           347420.30639067217
          ],
          [
           538556.9134813774
          ],
          [
           219949.11487603403
          ],
          [
           437657.9136288318
          ],
          [
           399453.64024390245
          ],
          [
           492365.16407904046
          ],
          [
           426513.8507462686
          ],
          [
           397229.9893050194
          ],
          [
           506548.5106382979
          ],
          [
           527823.56
          ],
          [
           385909.8938941843
          ],
          [
           311328.9334063652
          ],
          [
           405425.3408242642
          ],
          [
           222845.0821052632
          ],
          [
           417820.3275282086
          ],
          [
           400532.4214079093
          ],
          [
           249728.09426463308
          ],
          [
           413695.98856806546
          ],
          [
           360333.79735505633
          ],
          [
           423275.0776768037
          ],
          [
           409291.1767337808
          ],
          [
           350010.24958287325
          ],
          [
           352149.4185055322
          ],
          [
           352828.5104674827
          ],
          [
           261111.8347635339
          ],
          [
           389854.16379890655
          ],
          [
           329292.432869337
          ],
          [
           540589.6151016422
          ],
          [
           343719.1727552116
          ],
          [
           296419.0538461176
          ],
          [
           305476.72423451726
          ],
          [
           417419.7369015546
          ],
          [
           350900.018279085
          ],
          [
           295254.70710497885
          ],
          [
           308520.94155844155
          ],
          [
           344094.8725436741
          ],
          [
           383104.55735736183
          ],
          [
           289060.792854126
          ],
          [
           375851.64169911924
          ],
          [
           543038.3424437076
          ],
          [
           349518.4689878235
          ],
          [
           401617.730867034
          ],
          [
           363576.3586652887
          ],
          [
           338202.74730289535
          ],
          [
           349453.98000842956
          ],
          [
           320323.39750145434
          ],
          [
           395655.3830170811
          ],
          [
           290883.90831327526
          ],
          [
           325595.454138282
          ],
          [
           366724.8821439713
          ],
          [
           350396.5240690396
          ],
          [
           349286.02157259086
          ],
          [
           282299.7146451118
          ],
          [
           383865.21580752067
          ],
          [
           367453.7899830184
          ],
          [
           271459.5396128948
          ],
          [
           246742.2352907481
          ],
          [
           396120.9552238806
          ],
          [
           202619.42857142855
          ],
          [
           492365.15555555554
          ],
          [
           417395.9574468085
          ],
          [
           572399.8309859155
          ],
          [
           482234.1860465116
          ],
          [
           444749.6
          ],
          [
           360662.5333333333
          ],
          [
           645342.7899159663
          ],
          [
           437657.9212598425
          ],
          [
           413343.5764705882
          ],
          [
           492365.1506849315
          ],
          [
           492365.1470588236
          ],
          [
           176515.1255060729
          ],
          [
           445762.6966292135
          ],
          [
           474129.3846153847
          ],
          [
           191240.63343108507
          ],
          [
           282341.1204188482
          ],
          [
           187422.9333333333
          ],
          [
           161082.42016806724
          ],
          [
           508574.6842105263
          ],
          [
           171213.38709677418
          ],
          [
           217974.15625
          ],
          [
           572399.8181818182
          ],
          [
           508574.679245283
          ],
          [
           136768.09615384616
          ],
          [
           474129.4074074074
          ],
          [
           427526.9411764706
          ],
          [
           233012.31666666668
          ],
          [
           278601.679245283
          ],
          [
           527823.5609756098
          ],
          [
           417395.9714285714
          ],
          [
           447962.39226519334
          ],
          [
           727403.6111111111
          ],
          [
           668644
          ],
          [
           437657.91596638656
          ],
          [
           393003.48684336053
          ],
          [
           444749.59375
          ],
          [
           572399.8
          ],
          [
           138245.53125
          ],
          [
           444749.5802469136
          ],
          [
           417395.97297297296
          ],
          [
           151964.55102040817
          ],
          [
           294743.96094704495
          ],
          [
           174226.37987012987
          ],
          [
           167161
          ],
          [
           289577.05461435026
          ],
          [
           164188.01667353394
          ],
          [
           141833.61538461538
          ],
          [
           445458.843379569
          ],
          [
           354583.94029850746
          ],
          [
           333077.4827586207
          ],
          [
           403212.59090909106
          ],
          [
           286768.34965246456
          ],
          [
           246379.5576923077
          ],
          [
           171010.29245283018
          ],
          [
           456574.1005268086
          ],
          [
           645342.8
          ],
          [
           355183.3271358738
          ],
          [
           444749.6
          ],
          [
           263405.2207792208
          ],
          [
           276910
          ],
          [
           437657.9117647059
          ],
          [
           492365.1538461539
          ],
          [
           427526.94736842107
          ],
          [
           177291.95833333334
          ],
          [
           393612.1577287066
          ],
          [
           628120.1165048544
          ],
          [
           645342.8045977012
          ],
          [
           474129.4054054054
          ],
          [
           444749.6071428572
          ],
          [
           136768.08695652173
          ],
          [
           256189.55702518157
          ],
          [
           197587.68452380956
          ],
          [
           668644
          ],
          [
           227946.8282828283
          ],
          [
           223065.57575757572
          ],
          [
           482234.189552239
          ],
          [
           364267.95588235295
          ],
          [
           411104.27508090617
          ],
          [
           163855.9005847953
          ],
          [
           432592.4123711341
          ],
          [
           302080.9295878503
          ],
          [
           71929.88938053098
          ],
          [
           162095.51162790696
          ],
          [
           491770.6649225968
          ],
          [
           423591.5395530268
          ],
          [
           303929.1002865329
          ],
          [
           292600.8333333333
          ],
          [
           550111.7014925373
          ],
          [
           403212.594059406
          ],
          [
           305061.58375871053
          ],
          [
           418409.0606060606
          ],
          [
           435631.7358490566
          ],
          [
           364714.89743589744
          ],
          [
           437657.9142857143
          ],
          [
           418409.056
          ],
          [
           375973.4625634337
          ],
          [
           425500.73913043475
          ],
          [
           425500.73885350325
          ],
          [
           254303.57421875
          ],
          [
           151385.62797619047
          ],
          [
           258233.29961089493
          ],
          [
           398726.0204081632
          ],
          [
           349518.4782608696
          ],
          [
           245593.10075566752
          ],
          [
           298916.5574912892
          ],
          [
           316503.83952702704
          ],
          [
           208860.63636363635
          ],
          [
           198060.4745762712
          ],
          [
           323537.95867768594
          ],
          [
           202619.40136054423
          ],
          [
           432592.4
          ],
          [
           354583.94701986754
          ],
          [
           492365.1698113208
          ],
          [
           474129.4017094017
          ],
          [
           233633.2401433692
          ],
          [
           417395.9555555555
          ],
          [
           668644
          ],
          [
           432592.4054054054
          ],
          [
           426513.85365853657
          ],
          [
           263405.22641509434
          ],
          [
           162095.51111111112
          ],
          [
           482234.1890822754
          ],
          [
           359235.80032123416
          ],
          [
           668644
          ],
          [
           437657.9142857143
          ],
          [
           418409.04142011836
          ],
          [
           396120.9393939394
          ],
          [
           352738.77139469865
          ],
          [
           431135.49163699464
          ],
          [
           230790.4090909091
          ],
          [
           319417.51296829974
          ],
          [
           325435.68816788914
          ],
          [
           395003.0229885057
          ],
          [
           290569.2244897959
          ],
          [
           471196.4441365125
          ],
          [
           417395.9669421488
          ],
          [
           167161
          ],
          [
           212750.3809523809
          ],
          [
           393081.6428571429
          ],
          [
           241700.8372391174
          ],
          [
           255276.12800000003
          ],
          [
           202241.32301693797
          ],
          [
           668644
          ],
          [
           362593.5971077574
          ],
          [
           222881.35
          ],
          [
           474129.43130990415
          ],
          [
           262123.16986149797
          ],
          [
           167805.71313131312
          ],
          [
           303929.0961538461
          ],
          [
           406796.797106033
          ],
          [
           149825.7868852459
          ],
          [
           253274.2564102564
          ],
          [
           492365.1538461539
          ],
          [
           182357.45
          ],
          [
           253521.99563318776
          ],
          [
           151964.54663774403
          ],
          [
           324378.65185185184
          ],
          [
           244156.3725490196
          ],
          [
           260473.04943987852
          ],
          [
           364714.9158163265
          ],
          [
           445288.7095115681
          ],
          [
           230760.98460200534
          ],
          [
           293931.6727272728
          ],
          [
           437513.10129956726
          ],
          [
           408278.08695652167
          ],
          [
           464234.6504339137
          ],
          [
           362763.59305167943
          ],
          [
           432592.4210526316
          ],
          [
           493378.2545454545
          ],
          [
           389486.3098139371
          ],
          [
           344194.29275552096
          ],
          [
           349518.4761904762
          ],
          [
           445039.0397130495
          ],
          [
           492365.16025641037
          ],
          [
           381411.84651728335
          ],
          [
           341518.9111645416
          ],
          [
           506548.5237762241
          ],
          [
           298448.37956835213
          ],
          [
           493378.24
          ],
          [
           396120.9294605809
          ],
          [
           527823.5698924732
          ],
          [
           403212.5910652921
          ],
          [
           645342.8133333334
          ],
          [
           474129.417721519
          ],
          [
           144339.50588235294
          ],
          [
           482234.1904761905
          ],
          [
           482234.2
          ],
          [
           202619.41176470587
          ],
          [
           645342.7951807228
          ],
          [
           496849.76173914515
          ],
          [
           133477.1320754717
          ],
          [
           474129.4042553192
          ],
          [
           572399.8153846153
          ],
          [
           175790.89194139195
          ],
          [
           166147.90184049078
          ],
          [
           396120.9375
          ],
          [
           180331.26506024096
          ],
          [
           227946.82352941175
          ],
          [
           217484.11586901767
          ],
          [
           177292
          ],
          [
           133985.79024390245
          ],
          [
           432592.4137931035
          ],
          [
           156506.02155172414
          ],
          [
           189229.1842105263
          ],
          [
           162095.51807228915
          ],
          [
           182357.45098039217
          ],
          [
           190259.61687956925
          ],
          [
           396120.9487179487
          ],
          [
           199671.7963800905
          ],
          [
           393081.6179775281
          ],
          [
           492365.1666666667
          ],
          [
           111440.67045454546
          ],
          [
           550111.6981132076
          ],
          [
           645342.8461538461
          ],
          [
           392838.98127939604
          ],
          [
           136768.09333333332
          ],
          [
           432592.3921568629
          ],
          [
           435631.7419354839
          ],
          [
           349518.48148148146
          ],
          [
           409291.1961722488
          ],
          [
           645342.8148148148
          ],
          [
           413343.5555555556
          ],
          [
           474129.4166666666
          ],
          [
           319984.843373494
          ],
          [
           396120.94845360826
          ],
          [
           417395.9674034866
          ],
          [
           572399.8163476329
          ],
          [
           493011.04821064207
          ],
          [
           727403.649122807
          ],
          [
           482234.1935012193
          ],
          [
           477168.6856640968
          ],
          [
           408278.0975609756
          ],
          [
           409291.2
          ],
          [
           401186.41480960214
          ],
          [
           496825.414461296
          ],
          [
           417395.970616304
          ],
          [
           444749.6070689145
          ],
          [
           403212.6066308244
          ],
          [
           393081.62768989336
          ],
          [
           552633.9509103713
          ],
          [
           508574.6896551724
          ],
          [
           432592.410958904
          ],
          [
           493378.27630758117
          ],
          [
           421448.3435915598
          ],
          [
           339387.5
          ],
          [
           418409.0593348499
          ],
          [
           303929.09433962265
          ],
          [
           623686.5061251859
          ],
          [
           349518.4615384616
          ],
          [
           467037.7391304348
          ],
          [
           639259.6766569299
          ],
          [
           437657.9123357434
          ],
          [
           418409.05668449204
          ],
          [
           413343.55986906745
          ],
          [
           492365.16393102676
          ],
          [
           217393.73214285716
          ],
          [
           426513.846747994
          ],
          [
           445762.68666666717
          ],
          [
           462929.8561298786
          ],
          [
           425500.7630057804
          ],
          [
           493324.8858338723
          ],
          [
           422461.42424242425
          ],
          [
           527823.5558443984
          ],
          [
           444749.5882352941
          ],
          [
           354583.9298245614
          ],
          [
           503509.2179930796
          ],
          [
           572399.8248175182
          ],
          [
           401186.4077669903
          ],
          [
           628120.1428571428
          ],
          [
           253274.2553191489
          ],
          [
           492365.1666666667
          ],
          [
           182357.45318352056
          ],
          [
           421448.3636363637
          ],
          [
           455294.7569060773
          ],
          [
           373442.020923407
          ],
          [
           407265.01492537314
          ],
          [
           474129.40625
          ],
          [
           76283.18935837246
          ],
          [
           182357.4482758621
          ],
          [
           668644
          ],
          [
           151964.55026455026
          ],
          [
           550111.7058823529
          ],
          [
           572399.8192032686
          ],
          [
           508574.7008547009
          ],
          [
           303929.0967741936
          ],
          [
           427526.93023255817
          ],
          [
           467037.7368421053
          ],
          [
           572399.829059829
          ],
          [
           182357.4598540146
          ],
          [
           182357.4512195122
          ],
          [
           417395.9726027397
          ],
          [
           572399.8275862068
          ],
          [
           668644
          ],
          [
           229044.07377049184
          ],
          [
           413343.54999999993
          ],
          [
           303929.0967741936
          ],
          [
           572399.8
          ],
          [
           474129.4
          ],
          [
           572399.8125
          ],
          [
           134899.01604278074
          ],
          [
           391055.44444444455
          ],
          [
           426294.8486417739
          ],
          [
           482234.2048192771
          ],
          [
           403212.6037735849
          ],
          [
           492365.1612903226
          ],
          [
           239090.8842105263
          ],
          [
           222881.3448275862
          ],
          [
           474129.4090909091
          ],
          [
           427526.947410817
          ],
          [
           182357.4583333333
          ],
          [
           240017.3462766976
          ],
          [
           401186.41463414626
          ],
          [
           170200.29357798165
          ],
          [
           349980.17061584804
          ],
          [
           388954.27507995354
          ],
          [
           437657.9189189189
          ],
          [
           426513.83566433564
          ],
          [
           474129.39130434784
          ],
          [
           506548.4923076923
          ],
          [
           444749.59069767455
          ],
          [
           418409.0476190476
          ],
          [
           482234.1739130434
          ],
          [
           188763.8147058824
          ],
          [
           188436.0434782609
          ],
          [
           508574.68493150687
          ],
          [
           645342.8282828283
          ],
          [
           177045.26943005182
          ],
          [
           344922.51385390427
          ],
          [
           243143.2876712329
          ],
          [
           413343.56097560975
          ],
          [
           394179.7834443239
          ],
          [
           368059.8371089826
          ],
          [
           405748.1602532829
          ],
          [
           356047.20989661576
          ],
          [
           465682.80933071446
          ],
          [
           412022.5031425599
          ],
          [
           564407.6875600191
          ],
          [
           527386.3567523704
          ],
          [
           419207.2006639609
          ],
          [
           396834.85984950943
          ],
          [
           403653.3696947486
          ],
          [
           376372.96348561195
          ],
          [
           360265.5136718065
          ],
          [
           363670.73720929434
          ],
          [
           439772.0378498674
          ],
          [
           369815.57852956443
          ],
          [
           362349.6808806583
          ],
          [
           358925.7152707272
          ],
          [
           354514.8930262885
          ],
          [
           495935.15573135973
          ],
          [
           414624.04530410527
          ],
          [
           332259.9130296962
          ],
          [
           381945.6113928269
          ],
          [
           431225.98974787263
          ],
          [
           360110.5787373577
          ],
          [
           319710.7513403196
          ],
          [
           375317.13218669326
          ],
          [
           363327.1157725669
          ],
          [
           397979.5432093775
          ],
          [
           394310.99336890434
          ],
          [
           461284.3916326122
          ],
          [
           551485.0373784319
          ],
          [
           303138.9571999147
          ],
          [
           407012.1320864595
          ],
          [
           517090.5007026814
          ],
          [
           372336.00053192006
          ],
          [
           363641.8838992766
          ],
          [
           368525.71143161977
          ],
          [
           426104.57278005785
          ],
          [
           167965.9312976297
          ],
          [
           301606.8303675006
          ],
          [
           372204.29851599946
          ],
          [
           317872.76803334197
          ],
          [
           394789.86635171616
          ],
          [
           384948.2785892137
          ],
          [
           389486.3592916578
          ],
          [
           411665.3319537789
          ],
          [
           402073.61753885687
          ],
          [
           429672.18279722333
          ],
          [
           386601.51256595086
          ],
          [
           317917.4336292085
          ],
          [
           396201.33826578135
          ]
         ],
         "domain": {
          "x": [
           0,
           1
          ],
          "y": [
           0,
           1
          ]
         },
         "hovertemplate": "labels=%{label}<br>max_wage_sum=%{value}<br>parent=%{parent}<br>id=%{id}<br>Maximum Salary ($)=%{color}<extra></extra>",
         "ids": [
          "CA/Accountants & auditors",
          "MI/Accountants & auditors",
          "NM/Accountants & auditors",
          "OH/Accountants & auditors",
          "IL/Actors",
          "CT/Actuaries",
          "FL/Actuaries",
          "IA/Actuaries",
          "IL/Actuaries",
          "IN/Actuaries",
          "MA/Actuaries",
          "MN/Actuaries",
          "MO/Actuaries",
          "NY/Actuaries",
          "PA/Actuaries",
          "WA/Actuaries",
          "WI/Actuaries",
          "CA/Adhesive bonding machine operators & tenders",
          "CA/Administrative services managers",
          "IL/Administrative services managers",
          "WA/Administrative services managers",
          "CA/Advertising & promotions managers",
          "FL/Advertising & promotions managers",
          "NJ/Advertising & promotions managers",
          "VA/Advertising & promotions managers",
          "CA/Advertising sales agents",
          "DC/Advertising sales agents",
          "IL/Advertising sales agents",
          "NJ/Advertising sales agents",
          "NY/Advertising sales agents",
          "OH/Advertising sales agents",
          "RI/Advertising sales agents",
          "TX/Advertising sales agents",
          "WA/Advertising sales agents",
          "AZ/Aerospace engineers",
          "FL/Aerospace engineers",
          "GA/Aerospace engineers",
          "MD/Aerospace engineers",
          "NC/Aerospace engineers",
          "OH/Aerospace engineers",
          "TX/Aerospace engineers",
          "WA/Aerospace engineers",
          "AR/Agents & business managers of artists, performers, & athletes",
          "GA/Agents & business managers of artists, performers, & athletes",
          "KS/Agents & business managers of artists, performers, & athletes",
          "NC/Agents & business managers of artists, performers, & athletes",
          "NJ/Agents & business managers of artists, performers, & athletes",
          "NY/Agents & business managers of artists, performers, & athletes",
          "VA/Agents & business managers of artists, performers, & athletes",
          "FL/Air traffic controllers & airfield operations specialists",
          "MD/Air traffic controllers & airfield operations specialists",
          "SC/Air traffic controllers & airfield operations specialists",
          "TX/Air traffic controllers & airfield operations specialists",
          "CA/Aircraft mechanics & service technicians",
          "CO/Aircraft mechanics & service technicians",
          "GA/Aircraft mechanics & service technicians",
          "NY/Aircraft mechanics & service technicians",
          "TX/Aircraft mechanics & service technicians",
          "AL/Aircraft pilots & flight engineers",
          "CA/Aircraft pilots & flight engineers",
          "CO/Aircraft pilots & flight engineers",
          "FL/Aircraft pilots & flight engineers",
          "GA/Aircraft pilots & flight engineers",
          "HI/Aircraft pilots & flight engineers",
          "IL/Aircraft pilots & flight engineers",
          "IN/Aircraft pilots & flight engineers",
          "KS/Aircraft pilots & flight engineers",
          "KY/Aircraft pilots & flight engineers",
          "MA/Aircraft pilots & flight engineers",
          "MI/Aircraft pilots & flight engineers",
          "MN/Aircraft pilots & flight engineers",
          "MO/Aircraft pilots & flight engineers",
          "MT/Aircraft pilots & flight engineers",
          "NC/Aircraft pilots & flight engineers",
          "NE/Aircraft pilots & flight engineers",
          "NY/Aircraft pilots & flight engineers",
          "OH/Aircraft pilots & flight engineers",
          "OK/Aircraft pilots & flight engineers",
          "TN/Aircraft pilots & flight engineers",
          "TX/Aircraft pilots & flight engineers",
          "UT/Aircraft pilots & flight engineers",
          "VT/Aircraft pilots & flight engineers",
          "WA/Aircraft pilots & flight engineers",
          "WI/Aircraft pilots & flight engineers",
          "AZ/Architects, except landscape and naval",
          "CA/Architects, except landscape and naval",
          "FL/Architects, except landscape and naval",
          "IL/Architects, except landscape and naval",
          "MI/Architects, except landscape and naval",
          "MT/Architects, except landscape and naval",
          "NC/Architects, except landscape and naval",
          "NY/Architects, except landscape and naval",
          "PA/Architects, except landscape and naval",
          "PR/Architects, except landscape and naval",
          "VA/Architects, except landscape and naval",
          "AL/Architectural & engineering managers",
          "AZ/Architectural & engineering managers",
          "CA/Architectural & engineering managers",
          "CO/Architectural & engineering managers",
          "FL/Architectural & engineering managers",
          "IL/Architectural & engineering managers",
          "IN/Architectural & engineering managers",
          "LA/Architectural & engineering managers",
          "MA/Architectural & engineering managers",
          "MD/Architectural & engineering managers",
          "MI/Architectural & engineering managers",
          "MN/Architectural & engineering managers",
          "NE/Architectural & engineering managers",
          "NJ/Architectural & engineering managers",
          "NV/Architectural & engineering managers",
          "NY/Architectural & engineering managers",
          "OH/Architectural & engineering managers",
          "OR/Architectural & engineering managers",
          "RI/Architectural & engineering managers",
          "TX/Architectural & engineering managers",
          "VA/Architectural & engineering managers",
          "WI/Architectural & engineering managers",
          "MN/Architectural and civil drafters",
          "TN/Archivists, curators, & museum technicians",
          "FL/Artists & related workers",
          "OK/Artists & related workers",
          "WI/Artists & related workers",
          "ME/Astronomers & physicists",
          "TX/Astronomers & physicists",
          "CA/Athletes and sports competitors",
          "CT/Athletes and sports competitors",
          "IN/Athletes and sports competitors",
          "NY/Athletes and sports competitors",
          "TX/Atmospheric & space scientists",
          "CO/Audiologists",
          "IN/Automotive body & related repairers",
          "NJ/Automotive service technicians & mechanics",
          "AZ/Bakers",
          "PA/Bakers",
          "TX/Billing & posting clerks",
          "NY/Biological scientists",
          "UT/Biological technicians",
          "NC/Biomedical & agricultural engineers",
          "OH/Biomedical & agricultural engineers",
          "NJ/Bookkeeping, accounting, & auditing clerks",
          "FL/Brickmasons, blockmasons, stonemasons, & reinforcing iron & rebar workers",
          "IL/Brickmasons, blockmasons, stonemasons, & reinforcing iron & rebar workers",
          "CA/Broadcast & sound engineering technicians & radio operators, & media & communication equipment workers, all other",
          "CA/Broadcast announcers and radio disc jockeys",
          "FL/Broadcast announcers and radio disc jockeys",
          "GA/Broadcast announcers and radio disc jockeys",
          "IL/Broadcast announcers and radio disc jockeys",
          "NC/Broadcast announcers and radio disc jockeys",
          "NY/Broadcast announcers and radio disc jockeys",
          "PR/Broadcast announcers and radio disc jockeys",
          "WA/Broadcast announcers and radio disc jockeys",
          "FL/Budget analysts",
          "OR/Budget analysts",
          "TN/Budget analysts",
          "TX/Budget analysts",
          "NC/Bus & truck mechanics & diesel engine specialists",
          "GA/Bus drivers, transit and intercity",
          "MS/Bus drivers, transit and intercity",
          "NE/Bus drivers, transit and intercity",
          "OH/Bus drivers, transit and intercity",
          "CA/Business operations specialists, all other",
          "KS/Business operations specialists, all other",
          "KY/Business operations specialists, all other",
          "PA/Business operations specialists, all other",
          "TX/Business operations specialists, all other",
          "AL/Buyers & purchasing agents, farm products",
          "NY/Cabinetmakers & bench carpenters",
          "AZ/Cardiovascular technologists and technicians",
          "CA/Cardiovascular technologists and technicians",
          "CT/Cardiovascular technologists and technicians",
          "FL/Cardiovascular technologists and technicians",
          "IL/Cardiovascular technologists and technicians",
          "KY/Cardiovascular technologists and technicians",
          "NJ/Cardiovascular technologists and technicians",
          "NY/Cardiovascular technologists and technicians",
          "OK/Cardiovascular technologists and technicians",
          "PA/Cardiovascular technologists and technicians",
          "TX/Cardiovascular technologists and technicians",
          "UT/Cardiovascular technologists and technicians",
          "VA/Cardiovascular technologists and technicians",
          "NJ/Cement masons, concrete finishers, & terrazzo workers",
          "PA/Cement masons, concrete finishers, & terrazzo workers",
          "KY/Chefs & head cooks",
          "MI/Chefs & head cooks",
          "IL/Chemical engineers",
          "ME/Chemical engineers",
          "NC/Chemical engineers",
          "OH/Chemical engineers",
          "OR/Chemical engineers",
          "TX/Chemical engineers",
          "OH/Chemical processing machine setters, operators, & tenders",
          "TX/Chemical technicians",
          "AZ/Chemists & materials scientists",
          "CA/Chemists & materials scientists",
          "MI/Chemists & materials scientists",
          "NJ/Chemists & materials scientists",
          "AL/Chief executives & legislators",
          "AZ/Chief executives & legislators",
          "CA/Chief executives & legislators",
          "DE/Chief executives & legislators",
          "FL/Chief executives & legislators",
          "GA/Chief executives & legislators",
          "IA/Chief executives & legislators",
          "IL/Chief executives & legislators",
          "KS/Chief executives & legislators",
          "KY/Chief executives & legislators",
          "LA/Chief executives & legislators",
          "MA/Chief executives & legislators",
          "MI/Chief executives & legislators",
          "MN/Chief executives & legislators",
          "MO/Chief executives & legislators",
          "MS/Chief executives & legislators",
          "NC/Chief executives & legislators",
          "NE/Chief executives & legislators",
          "NJ/Chief executives & legislators",
          "NY/Chief executives & legislators",
          "OH/Chief executives & legislators",
          "OK/Chief executives & legislators",
          "OR/Chief executives & legislators",
          "PA/Chief executives & legislators",
          "PR/Chief executives & legislators",
          "RI/Chief executives & legislators",
          "TN/Chief executives & legislators",
          "TX/Chief executives & legislators",
          "UT/Chief executives & legislators",
          "VA/Chief executives & legislators",
          "WA/Chief executives & legislators",
          "WV/Chief executives & legislators",
          "TX/Child, family, and school social workers",
          "CT/Chiropractors",
          "FL/Chiropractors",
          "MO/Chiropractors",
          "NJ/Chiropractors",
          "OH/Chiropractors",
          "PA/Chiropractors",
          "TX/Chiropractors",
          "AZ/Civil engineers",
          "CA/Civil engineers",
          "CO/Civil engineers",
          "FL/Civil engineers",
          "IL/Civil engineers",
          "LA/Civil engineers",
          "MI/Civil engineers",
          "NC/Civil engineers",
          "NJ/Civil engineers",
          "NY/Civil engineers",
          "OK/Civil engineers",
          "PR/Civil engineers",
          "TX/Civil engineers",
          "LA/Claims adjusters, appraisers, examiners, & investigators",
          "NJ/Claims adjusters, appraisers, examiners, & investigators",
          "OH/Claims adjusters, appraisers, examiners, & investigators",
          "KS/Cleaners of vehicles & equipment",
          "GA/Clergy",
          "TX/Clergy",
          "IL/Clinical and counseling psychologists",
          "CA/Clinical laboratory technologists & technicians",
          "NC/Clinical laboratory technologists & technicians",
          "WI/Clinical laboratory technologists & technicians",
          "IN/Coaches and scouts",
          "MI/Coaches and scouts",
          "NY/Coaches and scouts",
          "PA/Coaches and scouts",
          "UT/Coaches and scouts",
          "CO/Commercial and industrial designers",
          "NC/Commercial and industrial designers",
          "NH/Commercial and industrial designers",
          "CA/Communications equipment operators, all other",
          "CA/Compensation & benefits managers",
          "CO/Compensation & benefits managers",
          "NJ/Compensation & benefits managers",
          "NY/Compensation, benefits, & job analysis specialists",
          "CA/Compliance officers",
          "IL/Compliance officers",
          "MI/Compliance officers",
          "NJ/Compliance officers",
          "OH/Compliance officers",
          "CA/Computer & information systems managers",
          "CT/Computer & information systems managers",
          "FL/Computer & information systems managers",
          "GA/Computer & information systems managers",
          "IL/Computer & information systems managers",
          "IN/Computer & information systems managers",
          "LA/Computer & information systems managers",
          "MI/Computer & information systems managers",
          "MN/Computer & information systems managers",
          "MO/Computer & information systems managers",
          "NJ/Computer & information systems managers",
          "NV/Computer & information systems managers",
          "NY/Computer & information systems managers",
          "OH/Computer & information systems managers",
          "OK/Computer & information systems managers",
          "SC/Computer & information systems managers",
          "TX/Computer & information systems managers",
          "VA/Computer & information systems managers",
          "KY/Computer and information research scientists",
          "WA/Computer and information research scientists",
          "CA/Computer hardware engineers",
          "MO/Computer hardware engineers",
          "AR/Computer network architects",
          "CA/Computer network architects",
          "CO/Computer network architects",
          "FL/Computer network architects",
          "MA/Computer network architects",
          "NC/Computer network architects",
          "NY/Computer network architects",
          "OR/Computer network architects",
          "WV/Computer occupations, all other",
          "AZ/Computer programmers",
          "CA/Computer programmers",
          "FL/Computer programmers",
          "NJ/Computer programmers",
          "PR/Computer programmers",
          "FL/Computer support specialists",
          "NJ/Computer support specialists",
          "OK/Computer support specialists",
          "CO/Computer systems analysts",
          "HI/Computer systems analysts",
          "KS/Computer systems analysts",
          "VA/Computer systems analysts",
          "SC/Computer, automated teller, & office machine repairers",
          "VA/Construction & building inspectors",
          "CT/Construction managers",
          "GA/Construction managers",
          "IA/Construction managers",
          "IL/Construction managers",
          "KY/Construction managers",
          "NC/Construction managers",
          "NY/Construction managers",
          "PA/Construction managers",
          "PR/Construction managers",
          "TX/Construction managers",
          "OH/Conveyor operators & tenders, & hoist & winch operators",
          "AZ/Correctional officers and jailers",
          "NY/Correctional officers and jailers",
          "NJ/Correspondence clerks & order clerks",
          "CA/Cost estimators",
          "FL/Cost estimators",
          "IN/Cost estimators",
          "KS/Cost estimators",
          "MI/Cost estimators",
          "OH/Cost estimators",
          "PA/Cost estimators",
          "TN/Cost estimators",
          "WA/Cost estimators",
          "FL/Counselors, all other",
          "AZ/Counter & rental clerks",
          "OH/Counter & rental clerks",
          "OK/Counter & rental clerks",
          "TX/Counter & rental clerks",
          "IL/Couriers & messengers",
          "CA/Court reporters and simultaneous captioners",
          "CO/Court, municipal, & license clerks",
          "CA/Crane & tower operators",
          "FL/Crane & tower operators",
          "CO/Credit analysts",
          "MT/Credit analysts",
          "NY/Credit analysts",
          "AZ/Credit counselors & loan officers",
          "CA/Credit counselors & loan officers",
          "FL/Credit counselors & loan officers",
          "HI/Credit counselors & loan officers",
          "IL/Credit counselors & loan officers",
          "LA/Credit counselors & loan officers",
          "MA/Credit counselors & loan officers",
          "NC/Credit counselors & loan officers",
          "NY/Credit counselors & loan officers",
          "SC/Credit counselors & loan officers",
          "TN/Credit counselors & loan officers",
          "TX/Credit counselors & loan officers",
          "VA/Credit counselors & loan officers",
          "WA/Credit counselors & loan officers",
          "TX/Crushing, grinding, polishing, mixing, & blending workers",
          "CA/Cutting workers",
          "IA/Data entry keyers",
          "IN/Data entry keyers",
          "LA/Data entry keyers",
          "MO/Data entry keyers",
          "CA/Database administrators and architects",
          "MD/Database administrators and architects",
          "MS/Database administrators and architects",
          "NJ/Database administrators and architects",
          "IL/Dental hygienists",
          "AL/Dentists",
          "AZ/Dentists",
          "CA/Dentists",
          "CO/Dentists",
          "CT/Dentists",
          "FL/Dentists",
          "GA/Dentists",
          "HI/Dentists",
          "IA/Dentists",
          "IL/Dentists",
          "IN/Dentists",
          "KS/Dentists",
          "KY/Dentists",
          "MA/Dentists",
          "MD/Dentists",
          "MI/Dentists",
          "MN/Dentists",
          "MO/Dentists",
          "MS/Dentists",
          "NC/Dentists",
          "ND/Dentists",
          "NE/Dentists",
          "NH/Dentists",
          "NM/Dentists",
          "NV/Dentists",
          "NY/Dentists",
          "OH/Dentists",
          "OK/Dentists",
          "OR/Dentists",
          "PA/Dentists",
          "PR/Dentists",
          "SC/Dentists",
          "SD/Dentists",
          "TN/Dentists",
          "TX/Dentists",
          "UT/Dentists",
          "VA/Dentists",
          "VT/Dentists",
          "WA/Dentists",
          "WI/Dentists",
          "MS/Derrick, rotary drill, & service unit operators, & roustabouts, oil, gas, & mining",
          "PA/Derrick, rotary drill, & service unit operators, & roustabouts, oil, gas, & mining",
          "CA/Detectives & criminal investigators",
          "MO/Detectives & criminal investigators",
          "VA/Detectives & criminal investigators",
          "AZ/Diagnostic medical sonographers",
          "CA/Diagnostic medical sonographers",
          "GA/Diagnostic medical sonographers",
          "MA/Diagnostic medical sonographers",
          "MN/Diagnostic medical sonographers",
          "PA/Diagnostic medical sonographers",
          "UT/Diagnostic medical sonographers",
          "WA/Diagnostic medical sonographers",
          "MI/Dietetic technicians and ophthalmic medical technicians",
          "NY/Dietetic technicians and ophthalmic medical technicians",
          "OK/Dietetic technicians and ophthalmic medical technicians",
          "CA/Dietitians & nutritionists",
          "GA/Dietitians & nutritionists",
          "MD/Dietitians & nutritionists",
          "NV/Dietitians & nutritionists",
          "OH/Dietitians & nutritionists",
          "TX/Dishwashers",
          "MO/Dispatchers, except police, fire, and ambulance",
          "UT/Dispatchers, except police, fire, and ambulance",
          "CA/Doortodoor sales workers, news & street vendors, & related workers",
          "IN/Doortodoor sales workers, news & street vendors, & related workers",
          "TN/Doortodoor sales workers, news & street vendors, & related workers",
          "WI/Doortodoor sales workers, news & street vendors, & related workers",
          "CA/Economists",
          "NC/Economists",
          "NY/Economists",
          "PR/Economists",
          "TX/Economists",
          "WA/Economists",
          "NY/Editors",
          "GA/Education administrators",
          "MA/Education administrators",
          "WI/Education administrators",
          "NY/Educational, guidance, and career counselors and advisors",
          "TX/Educational, guidance, and career counselors and advisors",
          "AL/Electrical & electronics engineers",
          "AZ/Electrical & electronics engineers",
          "CA/Electrical & electronics engineers",
          "MD/Electrical & electronics engineers",
          "PA/Electrical & electronics engineers",
          "WA/Electrical & electronics engineers",
          "AR/Electrical and electronic engineering technologists and technicians",
          "VA/Electrical and electronic engineering technologists and technicians",
          "CA/Electrical powerline installers & repairers",
          "IL/Electrical powerline installers & repairers",
          "IN/Electrical powerline installers & repairers",
          "MI/Electrical powerline installers & repairers",
          "NC/Electrical powerline installers & repairers",
          "OH/Electricians",
          "TN/Electricians",
          "MO/Eligibility interviewers, government programs",
          "NY/Eligibility interviewers, government programs",
          "TN/Eligibility interviewers, government programs",
          "CA/Embalmers & funeral attendants",
          "FL/Emergency management directors",
          "KY/Emergency medical technicians",
          "NY/Emergency medical technicians",
          "AZ/Entertainers & performers, sports & related workers, all other",
          "CA/Entertainers & performers, sports & related workers, all other",
          "CT/Entertainers & performers, sports & related workers, all other",
          "MD/Entertainers & performers, sports & related workers, all other",
          "VA/Entertainment and recreation managers",
          "WA/Entertainment and recreation managers",
          "HI/Environmental engineers",
          "MA/Environmental engineers",
          "MD/Environmental engineers",
          "SC/Environmental engineers",
          "TN/Environmental engineers",
          "HI/Environmental scientists and specialists, including health",
          "IL/Executive secretaries and executive administrative assistants",
          "OH/Exercise trainers and group fitness instructors",
          "WA/Exercise trainers and group fitness instructors",
          "CT/Facilities managers",
          "HI/Facilities managers",
          "MD/Facilities managers",
          "SC/Facilities managers",
          "FL/Farmers, ranchers, & other agricultural managers",
          "NJ/Farmers, ranchers, & other agricultural managers",
          "PA/File clerks",
          "AZ/Financial analysts",
          "CA/Financial analysts",
          "CT/Financial analysts",
          "FL/Financial analysts",
          "IL/Financial analysts",
          "KY/Financial analysts",
          "LA/Financial analysts",
          "MA/Financial analysts",
          "MI/Financial analysts",
          "MO/Financial analysts",
          "NC/Financial analysts",
          "NJ/Financial analysts",
          "NY/Financial analysts",
          "PA/Financial analysts",
          "TX/Financial analysts",
          "WI/Financial analysts",
          "TX/Financial examiners",
          "CA/Financial managers",
          "FL/Financial managers",
          "MD/Financial managers",
          "NJ/Financial managers",
          "NY/Financial managers",
          "OR/Financial managers",
          "CA/Fire inspectors",
          "CA/Firefighters",
          "CO/Firefighters",
          "TN/Firefighters",
          "AR/Firstline supervisors of construction trades & extraction workers",
          "MI/Firstline supervisors of construction trades & extraction workers",
          "NJ/Firstline supervisors of construction trades & extraction workers",
          "PR/Firstline supervisors of correctional officers",
          "CO/Firstline supervisors of farming, fishing, & forestry workers",
          "PA/Firstline supervisors of farming, fishing, & forestry workers",
          "TX/Firstline supervisors of farming, fishing, & forestry workers",
          "WV/Firstline supervisors of farming, fishing, & forestry workers",
          "AZ/Firstline supervisors of fire fighting & prevention workers",
          "CA/Firstline supervisors of fire fighting & prevention workers",
          "GA/Firstline supervisors of fire fighting & prevention workers",
          "MD/Firstline supervisors of fire fighting & prevention workers",
          "MA/Firstline supervisors of food preparation & serving workers",
          "TX/Firstline supervisors of food preparation & serving workers",
          "WV/Firstline supervisors of food preparation & serving workers",
          "CA/Firstline supervisors of housekeeping & janitorial workers",
          "FL/Firstline supervisors of housekeeping & janitorial workers",
          "GA/Firstline supervisors of housekeeping & janitorial workers",
          "LA/Firstline supervisors of housekeeping & janitorial workers",
          "MI/Firstline supervisors of housekeeping & janitorial workers",
          "OH/Firstline supervisors of housekeeping & janitorial workers",
          "TX/Firstline supervisors of housekeeping & janitorial workers",
          "CA/Firstline supervisors of landscaping, lawn service, & groundskeeping workers",
          "GA/Firstline supervisors of landscaping, lawn service, & groundskeeping workers",
          "PA/Firstline supervisors of landscaping, lawn service, & groundskeeping workers",
          "TX/Firstline supervisors of landscaping, lawn service, & groundskeeping workers",
          "TX/Firstline supervisors of mechanics, installers, & repairers",
          "VA/Firstline supervisors of mechanics, installers, & repairers",
          "CA/Firstline supervisors of nonretail sales workers",
          "NJ/Firstline supervisors of nonretail sales workers",
          "NY/Firstline supervisors of nonretail sales workers",
          "OH/Firstline supervisors of nonretail sales workers",
          "OK/Firstline supervisors of nonretail sales workers",
          "OR/Firstline supervisors of nonretail sales workers",
          "TX/Firstline supervisors of nonretail sales workers",
          "CA/Firstline supervisors of office & administrative support workers",
          "CA/Firstline supervisors of police & detectives",
          "FL/Firstline supervisors of police & detectives",
          "LA/Firstline supervisors of police & detectives",
          "MA/Firstline supervisors of police & detectives",
          "OH/Firstline supervisors of police & detectives",
          "FL/Firstline supervisors of production & operating workers",
          "TX/Firstline supervisors of production & operating workers",
          "VA/Firstline supervisors of production & operating workers",
          "WA/Flight attendants",
          "NJ/Floral designers",
          "MI/Food processing workers, all other",
          "NC/Food processing workers, all other",
          "OR/Food processing workers, all other",
          "AZ/Food servers, nonrestaurant",
          "NE/Food servers, nonrestaurant",
          "GA/Forest & conservation workers",
          "NM/Fundraisers",
          "NY/Fundraisers",
          "PA/Fundraisers",
          "VA/Fundraisers",
          "LA/Furnace, kiln, oven, drier, & kettle operators & tenders",
          "CA/General & operations managers",
          "FL/General & operations managers",
          "IL/General & operations managers",
          "MN/General & operations managers",
          "MO/General & operations managers",
          "NY/General & operations managers",
          "OH/General & operations managers",
          "PR/General & operations managers",
          "FL/Geological & petroleum technicians, & nuclear technicians",
          "AZ/Geoscientists and hydrologists, except geographers",
          "NM/Geoscientists and hydrologists, except geographers",
          "TX/Geoscientists and hydrologists, except geographers",
          "WY/Geoscientists and hydrologists, except geographers",
          "NE/Glaziers",
          "CA/Graders & sorters, agricultural products",
          "TX/Graders & sorters, agricultural products",
          "CA/Graphic designers",
          "FL/Graphic designers",
          "MA/Graphic designers",
          "NH/Graphic designers",
          "PR/Graphic designers",
          "NY/Grinding, lapping, polishing, and buffing machine tool setters, operators, and tenders, metal and plastic",
          "CA/Healthcare social workers",
          "CA/Healthcare support workers, all other, including medical equipment preparers",
          "KY/Healthcare support workers, all other, including medical equipment preparers",
          "CA/Heating, air conditioning, & refrigeration mechanics & installers",
          "GA/Heating, air conditioning, & refrigeration mechanics & installers",
          "NY/Heating, air conditioning, & refrigeration mechanics & installers",
          "OR/Heating, air conditioning, & refrigeration mechanics & installers",
          "IN/Heavy vehicle & mobile equipment service technicians & mechanics",
          "PR/Heavy vehicle & mobile equipment service technicians & mechanics",
          "NC/Helpersproduction workers",
          "PA/Helpersproduction workers",
          "CO/Highway maintenance workers",
          "FL/Home appliance repairers",
          "CA/Home health aides",
          "MN/Home health aides",
          "ND/Home health aides",
          "TN/Hosts & hostesses, restaurant, lounge, & coffee shop",
          "LA/Human resources assistants, except payroll & timekeeping",
          "VA/Human resources assistants, except payroll & timekeeping",
          "FL/Human resources managers",
          "IL/Human resources managers",
          "KS/Human resources managers",
          "MA/Human resources managers",
          "NY/Human resources managers",
          "RI/Human resources managers",
          "TX/Human resources managers",
          "VA/Human resources managers",
          "WA/Human resources managers",
          "MN/Human resources workers",
          "MI/Industrial & refractory machinery mechanics",
          "AZ/Industrial engineers, including health & safety",
          "MS/Industrial engineers, including health & safety",
          "NC/Industrial engineers, including health & safety",
          "PA/Industrial engineers, including health & safety",
          "TX/Industrial engineers, including health & safety",
          "AR/Industrial production managers",
          "AZ/Industrial production managers",
          "CA/Industrial production managers",
          "FL/Industrial production managers",
          "IN/Industrial production managers",
          "ME/Industrial production managers",
          "MN/Industrial production managers",
          "ND/Industrial production managers",
          "NE/Industrial production managers",
          "NY/Industrial production managers",
          "PR/Industrial production managers",
          "SC/Industrial production managers",
          "TN/Industrial production managers",
          "VA/Industrial production managers",
          "WA/Industrial production managers",
          "NM/Industrial truck & tractor operators",
          "AL/Information security analysts",
          "AR/Information security analysts",
          "FL/Information security analysts",
          "IL/Information security analysts",
          "IN/Information security analysts",
          "UT/Information security analysts",
          "WV/Information security analysts",
          "IL/Inspectors, testers, sorters, samplers, & weighers",
          "PA/Inspectors, testers, sorters, samplers, & weighers",
          "MN/Insurance claims & policy processing clerks",
          "NY/Insurance claims & policy processing clerks",
          "AR/Insurance sales agents",
          "CA/Insurance sales agents",
          "GA/Insurance sales agents",
          "IA/Insurance sales agents",
          "KY/Insurance sales agents",
          "MA/Insurance sales agents",
          "MD/Insurance sales agents",
          "MS/Insurance sales agents",
          "NC/Insurance sales agents",
          "NJ/Insurance sales agents",
          "NY/Insurance sales agents",
          "OK/Insurance sales agents",
          "TX/Insurance sales agents",
          "WA/Insurance sales agents",
          "AL/Insurance underwriters",
          "CA/Insurance underwriters",
          "FL/Insurance underwriters",
          "NY/Insurance underwriters",
          "WA/Insurance underwriters",
          "VA/Interior designers",
          "ID/Interpreters and translators",
          "PR/Interpreters and translators",
          "MS/Interviewers, except eligibility & loan",
          "FL/Janitors & building cleaners",
          "FL/Jewelers & precious stone & metal workers",
          "DC/Judicial law clerks",
          "CO/Landscape architects",
          "MI/Landscape architects",
          "PA/Landscape architects",
          "SC/Landscape architects",
          "NY/Landscaping and groundskeeping workers",
          "AL/Lawyers, & judges, magistrates, & other judicial workers",
          "CA/Lawyers, & judges, magistrates, & other judicial workers",
          "CO/Lawyers, & judges, magistrates, & other judicial workers",
          "CT/Lawyers, & judges, magistrates, & other judicial workers",
          "DE/Lawyers, & judges, magistrates, & other judicial workers",
          "FL/Lawyers, & judges, magistrates, & other judicial workers",
          "GA/Lawyers, & judges, magistrates, & other judicial workers",
          "IL/Lawyers, & judges, magistrates, & other judicial workers",
          "IN/Lawyers, & judges, magistrates, & other judicial workers",
          "KS/Lawyers, & judges, magistrates, & other judicial workers",
          "LA/Lawyers, & judges, magistrates, & other judicial workers",
          "MN/Lawyers, & judges, magistrates, & other judicial workers",
          "MO/Lawyers, & judges, magistrates, & other judicial workers",
          "MS/Lawyers, & judges, magistrates, & other judicial workers",
          "NC/Lawyers, & judges, magistrates, & other judicial workers",
          "NJ/Lawyers, & judges, magistrates, & other judicial workers",
          "NM/Lawyers, & judges, magistrates, & other judicial workers",
          "NV/Lawyers, & judges, magistrates, & other judicial workers",
          "NY/Lawyers, & judges, magistrates, & other judicial workers",
          "OH/Lawyers, & judges, magistrates, & other judicial workers",
          "SC/Lawyers, & judges, magistrates, & other judicial workers",
          "SD/Lawyers, & judges, magistrates, & other judicial workers",
          "TX/Lawyers, & judges, magistrates, & other judicial workers",
          "VA/Lawyers, & judges, magistrates, & other judicial workers",
          "WA/Lawyers, & judges, magistrates, & other judicial workers",
          "CA/Legal support workers, all other",
          "IL/Legal support workers, all other",
          "SC/Legal support workers, all other",
          "TX/Legal support workers, all other",
          "NY/Librarians and media collections specialists",
          "DC/Licensed practical & licensed vocational nurses",
          "TX/Licensed practical & licensed vocational nurses",
          "AL/Loan interviewers & clerks",
          "CO/Loan interviewers & clerks",
          "NY/Loan interviewers & clerks",
          "NM/Locomotive engineers & operators",
          "CA/Lodging managers",
          "GA/Lodging managers",
          "IN/Lodging managers",
          "MD/Lodging managers",
          "TX/Lodging managers",
          "OR/Logging workers",
          "FL/Logisticians",
          "PA/Logisticians",
          "VA/Logisticians",
          "AR/Magnetic resonance imaging technologists",
          "CA/Magnetic resonance imaging technologists",
          "CT/Magnetic resonance imaging technologists",
          "GA/Magnetic resonance imaging technologists",
          "IN/Magnetic resonance imaging technologists",
          "MA/Magnetic resonance imaging technologists",
          "MD/Magnetic resonance imaging technologists",
          "MO/Magnetic resonance imaging technologists",
          "NJ/Magnetic resonance imaging technologists",
          "NV/Magnetic resonance imaging technologists",
          "NY/Magnetic resonance imaging technologists",
          "OH/Magnetic resonance imaging technologists",
          "PA/Magnetic resonance imaging technologists",
          "SC/Magnetic resonance imaging technologists",
          "TX/Magnetic resonance imaging technologists",
          "WI/Magnetic resonance imaging technologists",
          "AL/Maintenance workers, machinery",
          "MI/Maintenance workers, machinery",
          "FL/Management analysts",
          "IN/Management analysts",
          "MD/Management analysts",
          "MI/Management analysts",
          "NY/Management analysts",
          "PR/Management analysts",
          "SC/Management analysts",
          "TX/Management analysts",
          "WV/Management analysts",
          "NJ/Manicurists and pedicurists",
          "CA/Market research analysts & marketing specialists",
          "FL/Market research analysts & marketing specialists",
          "MA/Market research analysts & marketing specialists",
          "NY/Market research analysts & marketing specialists",
          "OH/Market research analysts & marketing specialists",
          "PA/Market research analysts & marketing specialists",
          "TX/Market research analysts & marketing specialists",
          "WA/Market research analysts & marketing specialists",
          "CA/Marketing managers",
          "CO/Marketing managers",
          "ME/Marketing managers",
          "OR/Marketing managers",
          "PA/Marketing managers",
          "VA/Marketing managers",
          "ID/Materials engineers",
          "IL/Materials engineers",
          "TX/Materials engineers",
          "IN/Mechanical engineers",
          "MA/Mechanical engineers",
          "NC/Mechanical engineers",
          "PA/Mechanical engineers",
          "CA/Media and communication workers, all other",
          "MD/Media and communication workers, all other",
          "AZ/Medical & health services managers",
          "CA/Medical & health services managers",
          "GA/Medical & health services managers",
          "LA/Medical & health services managers",
          "MD/Medical & health services managers",
          "MI/Medical & health services managers",
          "NE/Medical & health services managers",
          "NM/Medical & health services managers",
          "OH/Medical & health services managers",
          "OK/Medical & health services managers",
          "PA/Medical & health services managers",
          "TX/Medical & health services managers",
          "WI/Medical & health services managers",
          "IN/Medical records specialists",
          "AL/Medical scientists, & life scientists, all other",
          "FL/Medical scientists, & life scientists, all other",
          "GA/Medical scientists, & life scientists, all other",
          "MD/Medical scientists, & life scientists, all other",
          "NC/Medical scientists, & life scientists, all other",
          "VA/Medical scientists, & life scientists, all other",
          "FL/Medical secretaries and administrative assistants",
          "FL/Meeting, convention, & event planners",
          "NV/Meeting, convention, & event planners",
          "OK/Metal furnace operators, tenders, pourers, & casters",
          "FL/Military, rank not specified",
          "GA/Millwrights",
          "AK/Mining machine operators",
          "TX/Miscellaneous agricultural workers, including animal breeders",
          "CA/Miscellaneous community & social service specialists, including health educators & community health workers",
          "PR/Miscellaneous community & social service specialists, including health educators & community health workers",
          "AL/Miscellaneous engineers, including nuclear engineers",
          "AZ/Miscellaneous engineers, including nuclear engineers",
          "CA/Miscellaneous engineers, including nuclear engineers",
          "GA/Miscellaneous engineers, including nuclear engineers",
          "LA/Miscellaneous engineers, including nuclear engineers",
          "NC/Miscellaneous engineers, including nuclear engineers",
          "PR/Miscellaneous engineers, including nuclear engineers",
          "TX/Miscellaneous engineers, including nuclear engineers",
          "WI/Miscellaneous engineers, including nuclear engineers",
          "AL/Miscellaneous extraction workers, including roof bolters & helpers",
          "LA/Miscellaneous extraction workers, including roof bolters & helpers",
          "CA/Miscellaneous first-line supervisors, protective service workers",
          "IL/Miscellaneous first-line supervisors, protective service workers",
          "MI/Miscellaneous first-line supervisors, protective service workers",
          "NY/Miscellaneous first-line supervisors, protective service workers",
          "TX/Miscellaneous first-line supervisors, protective service workers",
          "AZ/Miscellaneous health technologists & technicians",
          "GA/Miscellaneous health technologists & technicians",
          "AL/Miscellaneous installation, maintenance, & repair workers, including wind turbine service technicians",
          "CA/Miscellaneous installation, maintenance, & repair workers, including wind turbine service technicians",
          "MD/Miscellaneous installation, maintenance, & repair workers, including wind turbine service technicians",
          "MO/Miscellaneous material moving workers, including mine shuttle car operators, & tank car, truck, & ship loaders",
          "WI/Miscellaneous material moving workers, including mine shuttle car operators, & tank car, truck, & ship loaders",
          "CA/Miscellaneous mathematical science occupations, including mathematicians & statisticians",
          "NJ/Miscellaneous mathematical science occupations, including mathematicians & statisticians",
          "OH/Miscellaneous mathematical science occupations, including mathematicians & statisticians",
          "PR/Miscellaneous mathematical science occupations, including mathematicians & statisticians",
          "OH/Miscellaneous metal workers & plastic workers, including multiple machine tool setters",
          "IL/Miscellaneous office & administrative support workers, including desktop publishers",
          "CA/Miscellaneous social scientists, including survey researchers & sociologists",
          "IA/Miscellaneous transportation workers, including bridge & lock tenders & traffic technicians",
          "AL/Miscellaneous woodworkers, including model makers & patternmakers",
          "CA/Models, demonstrators, & product promoters",
          "TN/Models, demonstrators, & product promoters",
          "TX/Models, demonstrators, & product promoters",
          "OH/Morticians, undertakers, & funeral directors",
          "OR/Morticians, undertakers, & funeral directors",
          "CT/Music directors and composers",
          "OR/Music directors and composers",
          "TX/Music directors and composers",
          "NY/Musicians and singers",
          "AZ/Natural sciences managers",
          "CT/Natural sciences managers",
          "GA/Natural sciences managers",
          "IN/Natural sciences managers",
          "MD/Natural sciences managers",
          "NC/Natural sciences managers",
          "PA/Natural sciences managers",
          "CA/Network and computer systems administrators",
          "KY/Network and computer systems administrators",
          "MO/Network and computer systems administrators",
          "NC/Network and computer systems administrators",
          "NJ/Network and computer systems administrators",
          "PA/Network and computer systems administrators",
          "PA/New accounts clerks",
          "CA/News analysts, reporters, and journalists",
          "FL/News analysts, reporters, and journalists",
          "MT/News analysts, reporters, and journalists",
          "NC/News analysts, reporters, and journalists",
          "AZ/Nonfarm animal caretakers",
          "AZ/Nuclear medicine technologists and medical dosimetrists",
          "CA/Nuclear medicine technologists and medical dosimetrists",
          "FL/Nuclear medicine technologists and medical dosimetrists",
          "GA/Nuclear medicine technologists and medical dosimetrists",
          "HI/Nuclear medicine technologists and medical dosimetrists",
          "IN/Nuclear medicine technologists and medical dosimetrists",
          "MD/Nuclear medicine technologists and medical dosimetrists",
          "MI/Nuclear medicine technologists and medical dosimetrists",
          "MO/Nuclear medicine technologists and medical dosimetrists",
          "NY/Nuclear medicine technologists and medical dosimetrists",
          "SC/Nuclear medicine technologists and medical dosimetrists",
          "AL/Nurse anesthetists",
          "AR/Nurse anesthetists",
          "CA/Nurse anesthetists",
          "IA/Nurse anesthetists",
          "ID/Nurse anesthetists",
          "LA/Nurse anesthetists",
          "MA/Nurse anesthetists",
          "MS/Nurse anesthetists",
          "NY/Nurse anesthetists",
          "OH/Nurse anesthetists",
          "SD/Nurse anesthetists",
          "TN/Nurse anesthetists",
          "TX/Nurse anesthetists",
          "WA/Nurse anesthetists",
          "WI/Nurse anesthetists",
          "AL/Nurse practitioners & nurse midwives",
          "CA/Nurse practitioners & nurse midwives",
          "IA/Nurse practitioners & nurse midwives",
          "NC/Nurse practitioners & nurse midwives",
          "WA/Nurse practitioners & nurse midwives",
          "PA/Occupational health and safety specialists and technicians",
          "NV/Occupational therapists",
          "UT/Operations research analysts",
          "WI/Operations research analysts",
          "AK/Optometrists",
          "AZ/Optometrists",
          "CA/Optometrists",
          "FL/Optometrists",
          "IN/Optometrists",
          "NC/Optometrists",
          "NJ/Optometrists",
          "NY/Optometrists",
          "TN/Optometrists",
          "CA/Orderlies and psychiatric aides",
          "TN/Orderlies and psychiatric aides",
          "CA/Other Physical Scientists",
          "CO/Other Physical Scientists",
          "MA/Other Physical Scientists",
          "MI/Other Physical Scientists",
          "NY/Other Physical Scientists",
          "OH/Other Physical Scientists",
          "FL/Other Sales Workers",
          "IL/Other Sales Workers",
          "NY/Other Sales Workers",
          "TX/Other Sales Workers",
          "VA/Other Sales Workers",
          "WA/Other Sales Workers",
          "GA/Other assemblers and fabricators",
          "NY/Other assemblers and fabricators",
          "OR/Other assemblers and fabricators",
          "OK/Other construction and related workers",
          "OR/Other construction and related workers",
          "MI/Other designers",
          "TX/Other designers",
          "AZ/Other drafters",
          "IL/Other drafters",
          "CA/Other education, training, & library workers",
          "CO/Other education, training, & library workers",
          "NC/Other education, training, & library workers",
          "SC/Other education, training, & library workers",
          "OK/Other engineering technologists and technicians, except drafters",
          "CA/Other financial clerks",
          "CT/Other financial clerks",
          "GA/Other financial clerks",
          "IL/Other financial clerks",
          "MA/Other financial clerks",
          "MN/Other financial clerks",
          "NY/Other financial clerks",
          "WA/Other financial clerks",
          "WI/Other financial clerks",
          "AL/Other financial specialists",
          "CA/Other financial specialists",
          "CT/Other financial specialists",
          "FL/Other financial specialists",
          "IA/Other financial specialists",
          "IL/Other financial specialists",
          "MA/Other financial specialists",
          "MD/Other financial specialists",
          "MN/Other financial specialists",
          "NC/Other financial specialists",
          "NH/Other financial specialists",
          "NJ/Other financial specialists",
          "NY/Other financial specialists",
          "OH/Other financial specialists",
          "TN/Other financial specialists",
          "TX/Other financial specialists",
          "UT/Other financial specialists",
          "VA/Other financial specialists",
          "TX/Other grounds maintenance workers",
          "MI/Other healthcare practitioners & technical Occupations",
          "VA/Other healthcare practitioners & technical Occupations",
          "WA/Other healthcare practitioners & technical Occupations",
          "FL/Other information and records clerks",
          "TX/Other managers",
          "CA/Other psychologists",
          "CT/Other psychologists",
          "MD/Other psychologists",
          "TX/Other psychologists",
          "GA/Other teachers and instructors",
          "TX/Other teachers and instructors",
          "PR/Other therapists, including exercise physiologists",
          "WA/Painting workers",
          "CA/Paramedics",
          "NJ/Paramedics",
          "OH/Paramedics",
          "CT/Parts salespersons",
          "NY/Parts salespersons",
          "CA/Payroll & timekeeping clerks",
          "NJ/Payroll & timekeeping clerks",
          "MN/Personal care & service workers, all other ",
          "NC/Personal care aides",
          "AZ/Personal financial advisors",
          "CA/Personal financial advisors",
          "CO/Personal financial advisors",
          "CT/Personal financial advisors",
          "DC/Personal financial advisors",
          "FL/Personal financial advisors",
          "GA/Personal financial advisors",
          "ID/Personal financial advisors",
          "IL/Personal financial advisors",
          "IN/Personal financial advisors",
          "KY/Personal financial advisors",
          "LA/Personal financial advisors",
          "MA/Personal financial advisors",
          "MI/Personal financial advisors",
          "MN/Personal financial advisors",
          "MO/Personal financial advisors",
          "MS/Personal financial advisors",
          "NC/Personal financial advisors",
          "NJ/Personal financial advisors",
          "NY/Personal financial advisors",
          "OH/Personal financial advisors",
          "OK/Personal financial advisors",
          "OR/Personal financial advisors",
          "PA/Personal financial advisors",
          "TN/Personal financial advisors",
          "TX/Personal financial advisors",
          "UT/Personal financial advisors",
          "VA/Personal financial advisors",
          "WA/Personal financial advisors",
          "AZ/Petroleum, mining & geological engineers, including mining safety engineers",
          "MT/Petroleum, mining & geological engineers, including mining safety engineers",
          "PA/Petroleum, mining & geological engineers, including mining safety engineers",
          "TX/Petroleum, mining & geological engineers, including mining safety engineers",
          "CA/Pharmacists",
          "GA/Pharmacists",
          "KY/Pharmacists",
          "LA/Pharmacists",
          "MI/Pharmacists",
          "MN/Pharmacists",
          "MO/Pharmacists",
          "NC/Pharmacists",
          "NJ/Pharmacists",
          "OH/Pharmacists",
          "PR/Pharmacists",
          "SC/Pharmacists",
          "TX/Pharmacists",
          "WI/Pharmacists",
          "PR/Pharmacy aides",
          "AR/Pharmacy technicians",
          "DE/Phlebotomists",
          "MS/Photographers",
          "NY/Photographers",
          "TX/Photographers",
          "CA/Photographic process workers & processing machine operators",
          "CA/Physical therapists",
          "IA/Physical therapists",
          "OH/Physical therapists",
          "WA/Physical therapists",
          "CA/Physician assistants",
          "CT/Physician assistants",
          "FL/Physician assistants",
          "GA/Physician assistants",
          "KS/Physician assistants",
          "KY/Physician assistants",
          "MA/Physician assistants",
          "MN/Physician assistants",
          "MO/Physician assistants",
          "NC/Physician assistants",
          "NJ/Physician assistants",
          "NM/Physician assistants",
          "OH/Physician assistants",
          "OK/Physician assistants",
          "PA/Physician assistants",
          "SC/Physician assistants",
          "TX/Physician assistants",
          "VA/Physician assistants",
          "WA/Physician assistants",
          "AK/Physicians",
          "AL/Physicians",
          "AR/Physicians",
          "AZ/Physicians",
          "CA/Physicians",
          "CO/Physicians",
          "CT/Physicians",
          "DE/Physicians",
          "FL/Physicians",
          "GA/Physicians",
          "IA/Physicians",
          "ID/Physicians",
          "IL/Physicians",
          "IN/Physicians",
          "KS/Physicians",
          "KY/Physicians",
          "LA/Physicians",
          "MA/Physicians",
          "MD/Physicians",
          "ME/Physicians",
          "MI/Physicians",
          "MN/Physicians",
          "MO/Physicians",
          "MS/Physicians",
          "MT/Physicians",
          "NC/Physicians",
          "ND/Physicians",
          "NE/Physicians",
          "NH/Physicians",
          "NJ/Physicians",
          "NM/Physicians",
          "NV/Physicians",
          "NY/Physicians",
          "OH/Physicians",
          "OK/Physicians",
          "OR/Physicians",
          "PA/Physicians",
          "SC/Physicians",
          "SD/Physicians",
          "TN/Physicians",
          "TX/Physicians",
          "UT/Physicians",
          "VA/Physicians",
          "WA/Physicians",
          "WI/Physicians",
          "WV/Physicians",
          "WY/Physicians",
          "AL/Pipelayers",
          "OK/Pipelayers",
          "PA/Plumbers, pipefitters, and steamfitters",
          "AZ/Podiatrists",
          "CA/Podiatrists",
          "FL/Podiatrists",
          "KS/Podiatrists",
          "ME/Podiatrists",
          "NJ/Podiatrists",
          "OH/Podiatrists",
          "OR/Podiatrists",
          "PA/Podiatrists",
          "PA/Postal service clerks",
          "GA/Postal service mail carriers",
          "TN/Postal service mail carriers",
          "TX/Postal service mail carriers",
          "IN/Postsecondary teachers",
          "KY/Postsecondary teachers",
          "FL/Power plant operators, distributors, & dispatchers",
          "IN/Power plant operators, distributors, & dispatchers",
          "MD/Power plant operators, distributors, & dispatchers",
          "PA/Power plant operators, distributors, & dispatchers",
          "UT/Precision instrument & equipment repairers",
          "CA/Prepress technicians & workers",
          "MD/Pressers, textile, garment, & related materials",
          "IN/Printing press operators",
          "TX/Private detectives & investigators",
          "AR/Procurement clerks",
          "NY/Procurement clerks",
          "VA/Procurement clerks",
          "WA/Procurement clerks",
          "AZ/Producers & directors",
          "CA/Producers & directors",
          "CT/Producers & directors",
          "NY/Producers & directors",
          "OH/Producers & directors",
          "TX/Producers & directors",
          "WI/Producers & directors",
          "CA/Production, planning, & expediting clerks",
          "UT/Production, planning, & expediting clerks",
          "AK/Project management specialists",
          "AZ/Project management specialists",
          "FL/Project management specialists",
          "GA/Project management specialists",
          "KY/Project management specialists",
          "MO/Project management specialists",
          "NM/Project management specialists",
          "PR/Project management specialists",
          "TN/Project management specialists",
          "TX/Project management specialists",
          "WV/Project management specialists",
          "CA/Property appraisers and assessors",
          "KY/Property appraisers and assessors",
          "TX/Property appraisers and assessors",
          "CA/Property, real estate, & community association managers",
          "FL/Property, real estate, & community association managers",
          "IL/Property, real estate, & community association managers",
          "NJ/Property, real estate, & community association managers",
          "PA/Property, real estate, & community association managers",
          "WI/Property, real estate, & community association managers",
          "TX/Psychiatric technicians",
          "FL/Public relations and fundraising managers",
          "OH/Public relations and fundraising managers",
          "PA/Public relations and fundraising managers",
          "AR/Public relations specialists",
          "CA/Public relations specialists",
          "GA/Public relations specialists",
          "MA/Public relations specialists",
          "NJ/Public relations specialists",
          "TX/Public relations specialists",
          "WI/Public relations specialists",
          "CA/Public safety telecommunicators",
          "CA/Purchasing agents, except wholesale, retail, & farm products",
          "MD/Purchasing agents, except wholesale, retail, & farm products",
          "NY/Purchasing agents, except wholesale, retail, & farm products",
          "SC/Purchasing agents, except wholesale, retail, & farm products",
          "TN/Purchasing agents, except wholesale, retail, & farm products",
          "FL/Purchasing managers",
          "GA/Purchasing managers",
          "IL/Purchasing managers",
          "KS/Purchasing managers",
          "MI/Purchasing managers",
          "NY/Purchasing managers",
          "PR/Purchasing managers",
          "TX/Purchasing managers",
          "CA/Radio & telecommunications equipment installers & repairers",
          "CO/Radiologic technologists and technicians",
          "CT/Radiologic technologists and technicians",
          "FL/Radiologic technologists and technicians",
          "IL/Radiologic technologists and technicians",
          "KY/Radiologic technologists and technicians",
          "MA/Radiologic technologists and technicians",
          "NC/Radiologic technologists and technicians",
          "NE/Radiologic technologists and technicians",
          "NY/Radiologic technologists and technicians",
          "OH/Radiologic technologists and technicians",
          "OK/Radiologic technologists and technicians",
          "TN/Radiologic technologists and technicians",
          "UT/Radiologic technologists and technicians",
          "UT/Railtrack laying & maintenance equipment operators",
          "CA/Real estate brokers & sales agents",
          "FL/Real estate brokers & sales agents",
          "IN/Real estate brokers & sales agents",
          "MD/Real estate brokers & sales agents",
          "NM/Real estate brokers & sales agents",
          "PA/Real estate brokers & sales agents",
          "TN/Real estate brokers & sales agents",
          "TX/Real estate brokers & sales agents",
          "WA/Real estate brokers & sales agents",
          "AL/Recreation workers",
          "MD/Refuse & recyclable material collectors",
          "FL/Reservation & transportation ticket agents & travel clerks",
          "MI/Reservation & transportation ticket agents & travel clerks",
          "NY/Reservation & transportation ticket agents & travel clerks",
          "PA/Reservation & transportation ticket agents & travel clerks",
          "TX/Reservation & transportation ticket agents & travel clerks",
          "AL/Respiratory therapists",
          "IN/Respiratory therapists",
          "NY/Respiratory therapists",
          "MI/Riggers",
          "SC/Sailors & marine oilers, & ship engineers",
          "CA/Sales engineers",
          "CO/Sales engineers",
          "FL/Sales engineers",
          "MI/Sales engineers",
          "NY/Sales engineers",
          "OH/Sales engineers",
          "OK/Sales engineers",
          "AL/Sales managers",
          "AZ/Sales managers",
          "CA/Sales managers",
          "CO/Sales managers",
          "DC/Sales managers",
          "FL/Sales managers",
          "GA/Sales managers",
          "ID/Sales managers",
          "IL/Sales managers",
          "IN/Sales managers",
          "KS/Sales managers",
          "KY/Sales managers",
          "LA/Sales managers",
          "MI/Sales managers",
          "MN/Sales managers",
          "MO/Sales managers",
          "NY/Sales managers",
          "OH/Sales managers",
          "PA/Sales managers",
          "TX/Sales managers",
          "VA/Sales managers",
          "WA/Sales managers",
          "CA/Sales representatives of services, except advertising, insurance, financial services, and travel",
          "IL/Sales representatives of services, except advertising, insurance, financial services, and travel",
          "KY/Sales representatives of services, except advertising, insurance, financial services, and travel",
          "MN/Sales representatives of services, except advertising, insurance, financial services, and travel",
          "PA/Sales representatives of services, except advertising, insurance, financial services, and travel",
          "PR/Sales representatives of services, except advertising, insurance, financial services, and travel",
          "RI/Sales representatives of services, except advertising, insurance, financial services, and travel",
          "CA/Sales representatives, wholesale & manufacturing",
          "NH/Sales representatives, wholesale & manufacturing",
          "OH/Sales representatives, wholesale & manufacturing",
          "TX/Sales representatives, wholesale & manufacturing",
          "VA/Sales representatives, wholesale & manufacturing",
          "CA/Secondary school teachers",
          "CA/Securities, commodities, & financial services sales agents",
          "CO/Securities, commodities, & financial services sales agents",
          "FL/Securities, commodities, & financial services sales agents",
          "HI/Securities, commodities, & financial services sales agents",
          "IL/Securities, commodities, & financial services sales agents",
          "MA/Securities, commodities, & financial services sales agents",
          "MI/Securities, commodities, & financial services sales agents",
          "MN/Securities, commodities, & financial services sales agents",
          "NC/Securities, commodities, & financial services sales agents",
          "NJ/Securities, commodities, & financial services sales agents",
          "NM/Securities, commodities, & financial services sales agents",
          "NY/Securities, commodities, & financial services sales agents",
          "PA/Securities, commodities, & financial services sales agents",
          "TN/Securities, commodities, & financial services sales agents",
          "TX/Securities, commodities, & financial services sales agents",
          "VA/Securities, commodities, & financial services sales agents",
          "WI/Securities, commodities, & financial services sales agents",
          "MN/Sewing machine operators",
          "AL/Sheet metal workers",
          "WA/Sheet metal workers",
          "KY/Ship & boat captains & operators",
          "NJ/Ship & boat captains & operators",
          "TX/Shipping, receiving, & traffic clerks",
          "WI/Shuttle drivers and chauffeurs",
          "FL/Skincare specialists",
          "FL/Social & community service managers",
          "IL/Social & community service managers",
          "NJ/Social & community service managers",
          "NY/Social & community service managers",
          "TN/Social & community service managers",
          "TX/Social & community service managers",
          "CA/Social & human service assistants",
          "AL/Social workers, all other",
          "CA/Social workers, all other",
          "AL/Software developers",
          "AZ/Software developers",
          "CA/Software developers",
          "FL/Software developers",
          "ID/Software developers",
          "IL/Software developers",
          "MI/Software developers",
          "MO/Software developers",
          "NC/Software developers",
          "NV/Software developers",
          "PR/Software developers",
          "TX/Software developers",
          "AL/Software quality assurance analysts and testers",
          "SC/Special education teachers",
          "LA/Speechlanguage pathologists",
          "PA/Speechlanguage pathologists",
          "TX/Speechlanguage pathologists",
          "IL/Stationary engineers & boiler operators",
          "NJ/Stationary engineers & boiler operators",
          "TX/Stationary engineers & boiler operators",
          "WV/Stationary engineers & boiler operators",
          "MI/Structural iron & steel workers",
          "NE/Subway, streetcar, & other rail transportation workers",
          "NM/Supervisors of personal care and service workers",
          "IA/Supervisors of transportation & material moving workers",
          "NJ/Supervisors of transportation & material moving workers",
          "OR/Supervisors of transportation & material moving workers",
          "TX/Supervisors of transportation & material moving workers",
          "MI/Surface mining machine operators and earth drillers",
          "AL/Surgeons",
          "AZ/Surgeons",
          "CA/Surgeons",
          "CO/Surgeons",
          "CT/Surgeons",
          "FL/Surgeons",
          "GA/Surgeons",
          "HI/Surgeons",
          "IA/Surgeons",
          "ID/Surgeons",
          "IL/Surgeons",
          "IN/Surgeons",
          "KS/Surgeons",
          "KY/Surgeons",
          "LA/Surgeons",
          "MA/Surgeons",
          "MD/Surgeons",
          "MI/Surgeons",
          "MN/Surgeons",
          "MO/Surgeons",
          "MS/Surgeons",
          "NC/Surgeons",
          "NH/Surgeons",
          "NJ/Surgeons",
          "NM/Surgeons",
          "NV/Surgeons",
          "NY/Surgeons",
          "OH/Surgeons",
          "OK/Surgeons",
          "OR/Surgeons",
          "PA/Surgeons",
          "RI/Surgeons",
          "SC/Surgeons",
          "TN/Surgeons",
          "TX/Surgeons",
          "UT/Surgeons",
          "VA/Surgeons",
          "VT/Surgeons",
          "WA/Surgeons",
          "WI/Surgeons",
          "WV/Surgeons",
          "WY/Surgeons",
          "CA/Surgical technologists",
          "ID/Surgical technologists",
          "MA/Surgical technologists",
          "FL/Surveyors, cartographers, & photogrammetrists",
          "PA/Switchboard operators, including answering service",
          "OH/Tailors, dressmakers, & sewers",
          "MO/Tax examiners & collectors, & revenue agents",
          "IL/Tax preparers",
          "MI/Tax preparers",
          "RI/Tax preparers",
          "TX/Tax preparers",
          "MI/Teaching assistants",
          "CA/Technical writers",
          "NY/Technical writers",
          "FL/Telemarketers",
          "IL/Telemarketers",
          "CA/Television, video, & motion picture camera operators & editors",
          "MD/Television, video, & motion picture camera operators & editors",
          "NY/Television, video, & motion picture camera operators & editors",
          "AR/Tellers",
          "NV/Title examiners, abstractors, and searchers",
          "CA/Tool & die makers",
          "CA/Training & development managers",
          "MI/Training & development managers",
          "AZ/Training & development specialists",
          "CA/Training & development specialists",
          "NY/Training & development specialists",
          "OH/Training & development specialists",
          "OR/Training & development specialists",
          "WA/Training & development specialists",
          "CA/Transportation inspectors",
          "TX/Transportation inspectors",
          "CA/Transportation, storage, & distribution managers",
          "FL/Transportation, storage, & distribution managers",
          "MT/Transportation, storage, & distribution managers",
          "TX/Transportation, storage, & distribution managers",
          "FL/Travel agents",
          "KY/Travel agents",
          "PA/Travel agents",
          "IL/Tutors",
          "CA/Urban & regional planners",
          "TX/Urban & regional planners",
          "AR/Veterinarians",
          "AZ/Veterinarians",
          "IA/Veterinarians",
          "ID/Veterinarians",
          "IN/Veterinarians",
          "MD/Veterinarians",
          "MI/Veterinarians",
          "OH/Veterinarians",
          "SC/Veterinarians",
          "TX/Veterinarians",
          "VA/Veterinarians",
          "WI/Veterinarians",
          "NC/Web developers",
          "FL/Weighers, measurers, checkers, & samplers, recordkeeping",
          "NJ/Welding, soldering, & brazing workers",
          "FL/Wholesale & retail buyers, except farm products",
          "MD/Wholesale & retail buyers, except farm products",
          "NJ/Wholesale & retail buyers, except farm products",
          "CA/Word processors & typists",
          "MA/Word processors & typists",
          "MN/Writers & authors",
          "OR/Writers & authors",
          "AK",
          "AL",
          "AR",
          "AZ",
          "CA",
          "CO",
          "CT",
          "DC",
          "DE",
          "FL",
          "GA",
          "HI",
          "IA",
          "ID",
          "IL",
          "IN",
          "KS",
          "KY",
          "LA",
          "MA",
          "MD",
          "ME",
          "MI",
          "MN",
          "MO",
          "MS",
          "MT",
          "NC",
          "ND",
          "NE",
          "NH",
          "NJ",
          "NM",
          "NV",
          "NY",
          "OH",
          "OK",
          "OR",
          "PA",
          "PR",
          "RI",
          "SC",
          "SD",
          "TN",
          "TX",
          "UT",
          "VA",
          "VT",
          "WA",
          "WI",
          "WV",
          "WY"
         ],
         "labels": [
          "Accountants & auditors",
          "Accountants & auditors",
          "Accountants & auditors",
          "Accountants & auditors",
          "Actors",
          "Actuaries",
          "Actuaries",
          "Actuaries",
          "Actuaries",
          "Actuaries",
          "Actuaries",
          "Actuaries",
          "Actuaries",
          "Actuaries",
          "Actuaries",
          "Actuaries",
          "Actuaries",
          "Adhesive bonding machine operators & tenders",
          "Administrative services managers",
          "Administrative services managers",
          "Administrative services managers",
          "Advertising & promotions managers",
          "Advertising & promotions managers",
          "Advertising & promotions managers",
          "Advertising & promotions managers",
          "Advertising sales agents",
          "Advertising sales agents",
          "Advertising sales agents",
          "Advertising sales agents",
          "Advertising sales agents",
          "Advertising sales agents",
          "Advertising sales agents",
          "Advertising sales agents",
          "Advertising sales agents",
          "Aerospace engineers",
          "Aerospace engineers",
          "Aerospace engineers",
          "Aerospace engineers",
          "Aerospace engineers",
          "Aerospace engineers",
          "Aerospace engineers",
          "Aerospace engineers",
          "Agents & business managers of artists, performers, & athletes",
          "Agents & business managers of artists, performers, & athletes",
          "Agents & business managers of artists, performers, & athletes",
          "Agents & business managers of artists, performers, & athletes",
          "Agents & business managers of artists, performers, & athletes",
          "Agents & business managers of artists, performers, & athletes",
          "Agents & business managers of artists, performers, & athletes",
          "Air traffic controllers & airfield operations specialists",
          "Air traffic controllers & airfield operations specialists",
          "Air traffic controllers & airfield operations specialists",
          "Air traffic controllers & airfield operations specialists",
          "Aircraft mechanics & service technicians",
          "Aircraft mechanics & service technicians",
          "Aircraft mechanics & service technicians",
          "Aircraft mechanics & service technicians",
          "Aircraft mechanics & service technicians",
          "Aircraft pilots & flight engineers",
          "Aircraft pilots & flight engineers",
          "Aircraft pilots & flight engineers",
          "Aircraft pilots & flight engineers",
          "Aircraft pilots & flight engineers",
          "Aircraft pilots & flight engineers",
          "Aircraft pilots & flight engineers",
          "Aircraft pilots & flight engineers",
          "Aircraft pilots & flight engineers",
          "Aircraft pilots & flight engineers",
          "Aircraft pilots & flight engineers",
          "Aircraft pilots & flight engineers",
          "Aircraft pilots & flight engineers",
          "Aircraft pilots & flight engineers",
          "Aircraft pilots & flight engineers",
          "Aircraft pilots & flight engineers",
          "Aircraft pilots & flight engineers",
          "Aircraft pilots & flight engineers",
          "Aircraft pilots & flight engineers",
          "Aircraft pilots & flight engineers",
          "Aircraft pilots & flight engineers",
          "Aircraft pilots & flight engineers",
          "Aircraft pilots & flight engineers",
          "Aircraft pilots & flight engineers",
          "Aircraft pilots & flight engineers",
          "Aircraft pilots & flight engineers",
          "Architects, except landscape and naval",
          "Architects, except landscape and naval",
          "Architects, except landscape and naval",
          "Architects, except landscape and naval",
          "Architects, except landscape and naval",
          "Architects, except landscape and naval",
          "Architects, except landscape and naval",
          "Architects, except landscape and naval",
          "Architects, except landscape and naval",
          "Architects, except landscape and naval",
          "Architects, except landscape and naval",
          "Architectural & engineering managers",
          "Architectural & engineering managers",
          "Architectural & engineering managers",
          "Architectural & engineering managers",
          "Architectural & engineering managers",
          "Architectural & engineering managers",
          "Architectural & engineering managers",
          "Architectural & engineering managers",
          "Architectural & engineering managers",
          "Architectural & engineering managers",
          "Architectural & engineering managers",
          "Architectural & engineering managers",
          "Architectural & engineering managers",
          "Architectural & engineering managers",
          "Architectural & engineering managers",
          "Architectural & engineering managers",
          "Architectural & engineering managers",
          "Architectural & engineering managers",
          "Architectural & engineering managers",
          "Architectural & engineering managers",
          "Architectural & engineering managers",
          "Architectural & engineering managers",
          "Architectural and civil drafters",
          "Archivists, curators, & museum technicians",
          "Artists & related workers",
          "Artists & related workers",
          "Artists & related workers",
          "Astronomers & physicists",
          "Astronomers & physicists",
          "Athletes and sports competitors",
          "Athletes and sports competitors",
          "Athletes and sports competitors",
          "Athletes and sports competitors",
          "Atmospheric & space scientists",
          "Audiologists",
          "Automotive body & related repairers",
          "Automotive service technicians & mechanics",
          "Bakers",
          "Bakers",
          "Billing & posting clerks",
          "Biological scientists",
          "Biological technicians",
          "Biomedical & agricultural engineers",
          "Biomedical & agricultural engineers",
          "Bookkeeping, accounting, & auditing clerks",
          "Brickmasons, blockmasons, stonemasons, & reinforcing iron & rebar workers",
          "Brickmasons, blockmasons, stonemasons, & reinforcing iron & rebar workers",
          "Broadcast & sound engineering technicians & radio operators, & media & communication equipment workers, all other",
          "Broadcast announcers and radio disc jockeys",
          "Broadcast announcers and radio disc jockeys",
          "Broadcast announcers and radio disc jockeys",
          "Broadcast announcers and radio disc jockeys",
          "Broadcast announcers and radio disc jockeys",
          "Broadcast announcers and radio disc jockeys",
          "Broadcast announcers and radio disc jockeys",
          "Broadcast announcers and radio disc jockeys",
          "Budget analysts",
          "Budget analysts",
          "Budget analysts",
          "Budget analysts",
          "Bus & truck mechanics & diesel engine specialists",
          "Bus drivers, transit and intercity",
          "Bus drivers, transit and intercity",
          "Bus drivers, transit and intercity",
          "Bus drivers, transit and intercity",
          "Business operations specialists, all other",
          "Business operations specialists, all other",
          "Business operations specialists, all other",
          "Business operations specialists, all other",
          "Business operations specialists, all other",
          "Buyers & purchasing agents, farm products",
          "Cabinetmakers & bench carpenters",
          "Cardiovascular technologists and technicians",
          "Cardiovascular technologists and technicians",
          "Cardiovascular technologists and technicians",
          "Cardiovascular technologists and technicians",
          "Cardiovascular technologists and technicians",
          "Cardiovascular technologists and technicians",
          "Cardiovascular technologists and technicians",
          "Cardiovascular technologists and technicians",
          "Cardiovascular technologists and technicians",
          "Cardiovascular technologists and technicians",
          "Cardiovascular technologists and technicians",
          "Cardiovascular technologists and technicians",
          "Cardiovascular technologists and technicians",
          "Cement masons, concrete finishers, & terrazzo workers",
          "Cement masons, concrete finishers, & terrazzo workers",
          "Chefs & head cooks",
          "Chefs & head cooks",
          "Chemical engineers",
          "Chemical engineers",
          "Chemical engineers",
          "Chemical engineers",
          "Chemical engineers",
          "Chemical engineers",
          "Chemical processing machine setters, operators, & tenders",
          "Chemical technicians",
          "Chemists & materials scientists",
          "Chemists & materials scientists",
          "Chemists & materials scientists",
          "Chemists & materials scientists",
          "Chief executives & legislators",
          "Chief executives & legislators",
          "Chief executives & legislators",
          "Chief executives & legislators",
          "Chief executives & legislators",
          "Chief executives & legislators",
          "Chief executives & legislators",
          "Chief executives & legislators",
          "Chief executives & legislators",
          "Chief executives & legislators",
          "Chief executives & legislators",
          "Chief executives & legislators",
          "Chief executives & legislators",
          "Chief executives & legislators",
          "Chief executives & legislators",
          "Chief executives & legislators",
          "Chief executives & legislators",
          "Chief executives & legislators",
          "Chief executives & legislators",
          "Chief executives & legislators",
          "Chief executives & legislators",
          "Chief executives & legislators",
          "Chief executives & legislators",
          "Chief executives & legislators",
          "Chief executives & legislators",
          "Chief executives & legislators",
          "Chief executives & legislators",
          "Chief executives & legislators",
          "Chief executives & legislators",
          "Chief executives & legislators",
          "Chief executives & legislators",
          "Chief executives & legislators",
          "Child, family, and school social workers",
          "Chiropractors",
          "Chiropractors",
          "Chiropractors",
          "Chiropractors",
          "Chiropractors",
          "Chiropractors",
          "Chiropractors",
          "Civil engineers",
          "Civil engineers",
          "Civil engineers",
          "Civil engineers",
          "Civil engineers",
          "Civil engineers",
          "Civil engineers",
          "Civil engineers",
          "Civil engineers",
          "Civil engineers",
          "Civil engineers",
          "Civil engineers",
          "Civil engineers",
          "Claims adjusters, appraisers, examiners, & investigators",
          "Claims adjusters, appraisers, examiners, & investigators",
          "Claims adjusters, appraisers, examiners, & investigators",
          "Cleaners of vehicles & equipment",
          "Clergy",
          "Clergy",
          "Clinical and counseling psychologists",
          "Clinical laboratory technologists & technicians",
          "Clinical laboratory technologists & technicians",
          "Clinical laboratory technologists & technicians",
          "Coaches and scouts",
          "Coaches and scouts",
          "Coaches and scouts",
          "Coaches and scouts",
          "Coaches and scouts",
          "Commercial and industrial designers",
          "Commercial and industrial designers",
          "Commercial and industrial designers",
          "Communications equipment operators, all other",
          "Compensation & benefits managers",
          "Compensation & benefits managers",
          "Compensation & benefits managers",
          "Compensation, benefits, & job analysis specialists",
          "Compliance officers",
          "Compliance officers",
          "Compliance officers",
          "Compliance officers",
          "Compliance officers",
          "Computer & information systems managers",
          "Computer & information systems managers",
          "Computer & information systems managers",
          "Computer & information systems managers",
          "Computer & information systems managers",
          "Computer & information systems managers",
          "Computer & information systems managers",
          "Computer & information systems managers",
          "Computer & information systems managers",
          "Computer & information systems managers",
          "Computer & information systems managers",
          "Computer & information systems managers",
          "Computer & information systems managers",
          "Computer & information systems managers",
          "Computer & information systems managers",
          "Computer & information systems managers",
          "Computer & information systems managers",
          "Computer & information systems managers",
          "Computer and information research scientists",
          "Computer and information research scientists",
          "Computer hardware engineers",
          "Computer hardware engineers",
          "Computer network architects",
          "Computer network architects",
          "Computer network architects",
          "Computer network architects",
          "Computer network architects",
          "Computer network architects",
          "Computer network architects",
          "Computer network architects",
          "Computer occupations, all other",
          "Computer programmers",
          "Computer programmers",
          "Computer programmers",
          "Computer programmers",
          "Computer programmers",
          "Computer support specialists",
          "Computer support specialists",
          "Computer support specialists",
          "Computer systems analysts",
          "Computer systems analysts",
          "Computer systems analysts",
          "Computer systems analysts",
          "Computer, automated teller, & office machine repairers",
          "Construction & building inspectors",
          "Construction managers",
          "Construction managers",
          "Construction managers",
          "Construction managers",
          "Construction managers",
          "Construction managers",
          "Construction managers",
          "Construction managers",
          "Construction managers",
          "Construction managers",
          "Conveyor operators & tenders, & hoist & winch operators",
          "Correctional officers and jailers",
          "Correctional officers and jailers",
          "Correspondence clerks & order clerks",
          "Cost estimators",
          "Cost estimators",
          "Cost estimators",
          "Cost estimators",
          "Cost estimators",
          "Cost estimators",
          "Cost estimators",
          "Cost estimators",
          "Cost estimators",
          "Counselors, all other",
          "Counter & rental clerks",
          "Counter & rental clerks",
          "Counter & rental clerks",
          "Counter & rental clerks",
          "Couriers & messengers",
          "Court reporters and simultaneous captioners",
          "Court, municipal, & license clerks",
          "Crane & tower operators",
          "Crane & tower operators",
          "Credit analysts",
          "Credit analysts",
          "Credit analysts",
          "Credit counselors & loan officers",
          "Credit counselors & loan officers",
          "Credit counselors & loan officers",
          "Credit counselors & loan officers",
          "Credit counselors & loan officers",
          "Credit counselors & loan officers",
          "Credit counselors & loan officers",
          "Credit counselors & loan officers",
          "Credit counselors & loan officers",
          "Credit counselors & loan officers",
          "Credit counselors & loan officers",
          "Credit counselors & loan officers",
          "Credit counselors & loan officers",
          "Credit counselors & loan officers",
          "Crushing, grinding, polishing, mixing, & blending workers",
          "Cutting workers",
          "Data entry keyers",
          "Data entry keyers",
          "Data entry keyers",
          "Data entry keyers",
          "Database administrators and architects",
          "Database administrators and architects",
          "Database administrators and architects",
          "Database administrators and architects",
          "Dental hygienists",
          "Dentists",
          "Dentists",
          "Dentists",
          "Dentists",
          "Dentists",
          "Dentists",
          "Dentists",
          "Dentists",
          "Dentists",
          "Dentists",
          "Dentists",
          "Dentists",
          "Dentists",
          "Dentists",
          "Dentists",
          "Dentists",
          "Dentists",
          "Dentists",
          "Dentists",
          "Dentists",
          "Dentists",
          "Dentists",
          "Dentists",
          "Dentists",
          "Dentists",
          "Dentists",
          "Dentists",
          "Dentists",
          "Dentists",
          "Dentists",
          "Dentists",
          "Dentists",
          "Dentists",
          "Dentists",
          "Dentists",
          "Dentists",
          "Dentists",
          "Dentists",
          "Dentists",
          "Dentists",
          "Derrick, rotary drill, & service unit operators, & roustabouts, oil, gas, & mining",
          "Derrick, rotary drill, & service unit operators, & roustabouts, oil, gas, & mining",
          "Detectives & criminal investigators",
          "Detectives & criminal investigators",
          "Detectives & criminal investigators",
          "Diagnostic medical sonographers",
          "Diagnostic medical sonographers",
          "Diagnostic medical sonographers",
          "Diagnostic medical sonographers",
          "Diagnostic medical sonographers",
          "Diagnostic medical sonographers",
          "Diagnostic medical sonographers",
          "Diagnostic medical sonographers",
          "Dietetic technicians and ophthalmic medical technicians",
          "Dietetic technicians and ophthalmic medical technicians",
          "Dietetic technicians and ophthalmic medical technicians",
          "Dietitians & nutritionists",
          "Dietitians & nutritionists",
          "Dietitians & nutritionists",
          "Dietitians & nutritionists",
          "Dietitians & nutritionists",
          "Dishwashers",
          "Dispatchers, except police, fire, and ambulance",
          "Dispatchers, except police, fire, and ambulance",
          "Doortodoor sales workers, news & street vendors, & related workers",
          "Doortodoor sales workers, news & street vendors, & related workers",
          "Doortodoor sales workers, news & street vendors, & related workers",
          "Doortodoor sales workers, news & street vendors, & related workers",
          "Economists",
          "Economists",
          "Economists",
          "Economists",
          "Economists",
          "Economists",
          "Editors",
          "Education administrators",
          "Education administrators",
          "Education administrators",
          "Educational, guidance, and career counselors and advisors",
          "Educational, guidance, and career counselors and advisors",
          "Electrical & electronics engineers",
          "Electrical & electronics engineers",
          "Electrical & electronics engineers",
          "Electrical & electronics engineers",
          "Electrical & electronics engineers",
          "Electrical & electronics engineers",
          "Electrical and electronic engineering technologists and technicians",
          "Electrical and electronic engineering technologists and technicians",
          "Electrical powerline installers & repairers",
          "Electrical powerline installers & repairers",
          "Electrical powerline installers & repairers",
          "Electrical powerline installers & repairers",
          "Electrical powerline installers & repairers",
          "Electricians",
          "Electricians",
          "Eligibility interviewers, government programs",
          "Eligibility interviewers, government programs",
          "Eligibility interviewers, government programs",
          "Embalmers & funeral attendants",
          "Emergency management directors",
          "Emergency medical technicians",
          "Emergency medical technicians",
          "Entertainers & performers, sports & related workers, all other",
          "Entertainers & performers, sports & related workers, all other",
          "Entertainers & performers, sports & related workers, all other",
          "Entertainers & performers, sports & related workers, all other",
          "Entertainment and recreation managers",
          "Entertainment and recreation managers",
          "Environmental engineers",
          "Environmental engineers",
          "Environmental engineers",
          "Environmental engineers",
          "Environmental engineers",
          "Environmental scientists and specialists, including health",
          "Executive secretaries and executive administrative assistants",
          "Exercise trainers and group fitness instructors",
          "Exercise trainers and group fitness instructors",
          "Facilities managers",
          "Facilities managers",
          "Facilities managers",
          "Facilities managers",
          "Farmers, ranchers, & other agricultural managers",
          "Farmers, ranchers, & other agricultural managers",
          "File clerks",
          "Financial analysts",
          "Financial analysts",
          "Financial analysts",
          "Financial analysts",
          "Financial analysts",
          "Financial analysts",
          "Financial analysts",
          "Financial analysts",
          "Financial analysts",
          "Financial analysts",
          "Financial analysts",
          "Financial analysts",
          "Financial analysts",
          "Financial analysts",
          "Financial analysts",
          "Financial analysts",
          "Financial examiners",
          "Financial managers",
          "Financial managers",
          "Financial managers",
          "Financial managers",
          "Financial managers",
          "Financial managers",
          "Fire inspectors",
          "Firefighters",
          "Firefighters",
          "Firefighters",
          "Firstline supervisors of construction trades & extraction workers",
          "Firstline supervisors of construction trades & extraction workers",
          "Firstline supervisors of construction trades & extraction workers",
          "Firstline supervisors of correctional officers",
          "Firstline supervisors of farming, fishing, & forestry workers",
          "Firstline supervisors of farming, fishing, & forestry workers",
          "Firstline supervisors of farming, fishing, & forestry workers",
          "Firstline supervisors of farming, fishing, & forestry workers",
          "Firstline supervisors of fire fighting & prevention workers",
          "Firstline supervisors of fire fighting & prevention workers",
          "Firstline supervisors of fire fighting & prevention workers",
          "Firstline supervisors of fire fighting & prevention workers",
          "Firstline supervisors of food preparation & serving workers",
          "Firstline supervisors of food preparation & serving workers",
          "Firstline supervisors of food preparation & serving workers",
          "Firstline supervisors of housekeeping & janitorial workers",
          "Firstline supervisors of housekeeping & janitorial workers",
          "Firstline supervisors of housekeeping & janitorial workers",
          "Firstline supervisors of housekeeping & janitorial workers",
          "Firstline supervisors of housekeeping & janitorial workers",
          "Firstline supervisors of housekeeping & janitorial workers",
          "Firstline supervisors of housekeeping & janitorial workers",
          "Firstline supervisors of landscaping, lawn service, & groundskeeping workers",
          "Firstline supervisors of landscaping, lawn service, & groundskeeping workers",
          "Firstline supervisors of landscaping, lawn service, & groundskeeping workers",
          "Firstline supervisors of landscaping, lawn service, & groundskeeping workers",
          "Firstline supervisors of mechanics, installers, & repairers",
          "Firstline supervisors of mechanics, installers, & repairers",
          "Firstline supervisors of nonretail sales workers",
          "Firstline supervisors of nonretail sales workers",
          "Firstline supervisors of nonretail sales workers",
          "Firstline supervisors of nonretail sales workers",
          "Firstline supervisors of nonretail sales workers",
          "Firstline supervisors of nonretail sales workers",
          "Firstline supervisors of nonretail sales workers",
          "Firstline supervisors of office & administrative support workers",
          "Firstline supervisors of police & detectives",
          "Firstline supervisors of police & detectives",
          "Firstline supervisors of police & detectives",
          "Firstline supervisors of police & detectives",
          "Firstline supervisors of police & detectives",
          "Firstline supervisors of production & operating workers",
          "Firstline supervisors of production & operating workers",
          "Firstline supervisors of production & operating workers",
          "Flight attendants",
          "Floral designers",
          "Food processing workers, all other",
          "Food processing workers, all other",
          "Food processing workers, all other",
          "Food servers, nonrestaurant",
          "Food servers, nonrestaurant",
          "Forest & conservation workers",
          "Fundraisers",
          "Fundraisers",
          "Fundraisers",
          "Fundraisers",
          "Furnace, kiln, oven, drier, & kettle operators & tenders",
          "General & operations managers",
          "General & operations managers",
          "General & operations managers",
          "General & operations managers",
          "General & operations managers",
          "General & operations managers",
          "General & operations managers",
          "General & operations managers",
          "Geological & petroleum technicians, & nuclear technicians",
          "Geoscientists and hydrologists, except geographers",
          "Geoscientists and hydrologists, except geographers",
          "Geoscientists and hydrologists, except geographers",
          "Geoscientists and hydrologists, except geographers",
          "Glaziers",
          "Graders & sorters, agricultural products",
          "Graders & sorters, agricultural products",
          "Graphic designers",
          "Graphic designers",
          "Graphic designers",
          "Graphic designers",
          "Graphic designers",
          "Grinding, lapping, polishing, and buffing machine tool setters, operators, and tenders, metal and plastic",
          "Healthcare social workers",
          "Healthcare support workers, all other, including medical equipment preparers",
          "Healthcare support workers, all other, including medical equipment preparers",
          "Heating, air conditioning, & refrigeration mechanics & installers",
          "Heating, air conditioning, & refrigeration mechanics & installers",
          "Heating, air conditioning, & refrigeration mechanics & installers",
          "Heating, air conditioning, & refrigeration mechanics & installers",
          "Heavy vehicle & mobile equipment service technicians & mechanics",
          "Heavy vehicle & mobile equipment service technicians & mechanics",
          "Helpersproduction workers",
          "Helpersproduction workers",
          "Highway maintenance workers",
          "Home appliance repairers",
          "Home health aides",
          "Home health aides",
          "Home health aides",
          "Hosts & hostesses, restaurant, lounge, & coffee shop",
          "Human resources assistants, except payroll & timekeeping",
          "Human resources assistants, except payroll & timekeeping",
          "Human resources managers",
          "Human resources managers",
          "Human resources managers",
          "Human resources managers",
          "Human resources managers",
          "Human resources managers",
          "Human resources managers",
          "Human resources managers",
          "Human resources managers",
          "Human resources workers",
          "Industrial & refractory machinery mechanics",
          "Industrial engineers, including health & safety",
          "Industrial engineers, including health & safety",
          "Industrial engineers, including health & safety",
          "Industrial engineers, including health & safety",
          "Industrial engineers, including health & safety",
          "Industrial production managers",
          "Industrial production managers",
          "Industrial production managers",
          "Industrial production managers",
          "Industrial production managers",
          "Industrial production managers",
          "Industrial production managers",
          "Industrial production managers",
          "Industrial production managers",
          "Industrial production managers",
          "Industrial production managers",
          "Industrial production managers",
          "Industrial production managers",
          "Industrial production managers",
          "Industrial production managers",
          "Industrial truck & tractor operators",
          "Information security analysts",
          "Information security analysts",
          "Information security analysts",
          "Information security analysts",
          "Information security analysts",
          "Information security analysts",
          "Information security analysts",
          "Inspectors, testers, sorters, samplers, & weighers",
          "Inspectors, testers, sorters, samplers, & weighers",
          "Insurance claims & policy processing clerks",
          "Insurance claims & policy processing clerks",
          "Insurance sales agents",
          "Insurance sales agents",
          "Insurance sales agents",
          "Insurance sales agents",
          "Insurance sales agents",
          "Insurance sales agents",
          "Insurance sales agents",
          "Insurance sales agents",
          "Insurance sales agents",
          "Insurance sales agents",
          "Insurance sales agents",
          "Insurance sales agents",
          "Insurance sales agents",
          "Insurance sales agents",
          "Insurance underwriters",
          "Insurance underwriters",
          "Insurance underwriters",
          "Insurance underwriters",
          "Insurance underwriters",
          "Interior designers",
          "Interpreters and translators",
          "Interpreters and translators",
          "Interviewers, except eligibility & loan",
          "Janitors & building cleaners",
          "Jewelers & precious stone & metal workers",
          "Judicial law clerks",
          "Landscape architects",
          "Landscape architects",
          "Landscape architects",
          "Landscape architects",
          "Landscaping and groundskeeping workers",
          "Lawyers, & judges, magistrates, & other judicial workers",
          "Lawyers, & judges, magistrates, & other judicial workers",
          "Lawyers, & judges, magistrates, & other judicial workers",
          "Lawyers, & judges, magistrates, & other judicial workers",
          "Lawyers, & judges, magistrates, & other judicial workers",
          "Lawyers, & judges, magistrates, & other judicial workers",
          "Lawyers, & judges, magistrates, & other judicial workers",
          "Lawyers, & judges, magistrates, & other judicial workers",
          "Lawyers, & judges, magistrates, & other judicial workers",
          "Lawyers, & judges, magistrates, & other judicial workers",
          "Lawyers, & judges, magistrates, & other judicial workers",
          "Lawyers, & judges, magistrates, & other judicial workers",
          "Lawyers, & judges, magistrates, & other judicial workers",
          "Lawyers, & judges, magistrates, & other judicial workers",
          "Lawyers, & judges, magistrates, & other judicial workers",
          "Lawyers, & judges, magistrates, & other judicial workers",
          "Lawyers, & judges, magistrates, & other judicial workers",
          "Lawyers, & judges, magistrates, & other judicial workers",
          "Lawyers, & judges, magistrates, & other judicial workers",
          "Lawyers, & judges, magistrates, & other judicial workers",
          "Lawyers, & judges, magistrates, & other judicial workers",
          "Lawyers, & judges, magistrates, & other judicial workers",
          "Lawyers, & judges, magistrates, & other judicial workers",
          "Lawyers, & judges, magistrates, & other judicial workers",
          "Lawyers, & judges, magistrates, & other judicial workers",
          "Legal support workers, all other",
          "Legal support workers, all other",
          "Legal support workers, all other",
          "Legal support workers, all other",
          "Librarians and media collections specialists",
          "Licensed practical & licensed vocational nurses",
          "Licensed practical & licensed vocational nurses",
          "Loan interviewers & clerks",
          "Loan interviewers & clerks",
          "Loan interviewers & clerks",
          "Locomotive engineers & operators",
          "Lodging managers",
          "Lodging managers",
          "Lodging managers",
          "Lodging managers",
          "Lodging managers",
          "Logging workers",
          "Logisticians",
          "Logisticians",
          "Logisticians",
          "Magnetic resonance imaging technologists",
          "Magnetic resonance imaging technologists",
          "Magnetic resonance imaging technologists",
          "Magnetic resonance imaging technologists",
          "Magnetic resonance imaging technologists",
          "Magnetic resonance imaging technologists",
          "Magnetic resonance imaging technologists",
          "Magnetic resonance imaging technologists",
          "Magnetic resonance imaging technologists",
          "Magnetic resonance imaging technologists",
          "Magnetic resonance imaging technologists",
          "Magnetic resonance imaging technologists",
          "Magnetic resonance imaging technologists",
          "Magnetic resonance imaging technologists",
          "Magnetic resonance imaging technologists",
          "Magnetic resonance imaging technologists",
          "Maintenance workers, machinery",
          "Maintenance workers, machinery",
          "Management analysts",
          "Management analysts",
          "Management analysts",
          "Management analysts",
          "Management analysts",
          "Management analysts",
          "Management analysts",
          "Management analysts",
          "Management analysts",
          "Manicurists and pedicurists",
          "Market research analysts & marketing specialists",
          "Market research analysts & marketing specialists",
          "Market research analysts & marketing specialists",
          "Market research analysts & marketing specialists",
          "Market research analysts & marketing specialists",
          "Market research analysts & marketing specialists",
          "Market research analysts & marketing specialists",
          "Market research analysts & marketing specialists",
          "Marketing managers",
          "Marketing managers",
          "Marketing managers",
          "Marketing managers",
          "Marketing managers",
          "Marketing managers",
          "Materials engineers",
          "Materials engineers",
          "Materials engineers",
          "Mechanical engineers",
          "Mechanical engineers",
          "Mechanical engineers",
          "Mechanical engineers",
          "Media and communication workers, all other",
          "Media and communication workers, all other",
          "Medical & health services managers",
          "Medical & health services managers",
          "Medical & health services managers",
          "Medical & health services managers",
          "Medical & health services managers",
          "Medical & health services managers",
          "Medical & health services managers",
          "Medical & health services managers",
          "Medical & health services managers",
          "Medical & health services managers",
          "Medical & health services managers",
          "Medical & health services managers",
          "Medical & health services managers",
          "Medical records specialists",
          "Medical scientists, & life scientists, all other",
          "Medical scientists, & life scientists, all other",
          "Medical scientists, & life scientists, all other",
          "Medical scientists, & life scientists, all other",
          "Medical scientists, & life scientists, all other",
          "Medical scientists, & life scientists, all other",
          "Medical secretaries and administrative assistants",
          "Meeting, convention, & event planners",
          "Meeting, convention, & event planners",
          "Metal furnace operators, tenders, pourers, & casters",
          "Military, rank not specified",
          "Millwrights",
          "Mining machine operators",
          "Miscellaneous agricultural workers, including animal breeders",
          "Miscellaneous community & social service specialists, including health educators & community health workers",
          "Miscellaneous community & social service specialists, including health educators & community health workers",
          "Miscellaneous engineers, including nuclear engineers",
          "Miscellaneous engineers, including nuclear engineers",
          "Miscellaneous engineers, including nuclear engineers",
          "Miscellaneous engineers, including nuclear engineers",
          "Miscellaneous engineers, including nuclear engineers",
          "Miscellaneous engineers, including nuclear engineers",
          "Miscellaneous engineers, including nuclear engineers",
          "Miscellaneous engineers, including nuclear engineers",
          "Miscellaneous engineers, including nuclear engineers",
          "Miscellaneous extraction workers, including roof bolters & helpers",
          "Miscellaneous extraction workers, including roof bolters & helpers",
          "Miscellaneous first-line supervisors, protective service workers",
          "Miscellaneous first-line supervisors, protective service workers",
          "Miscellaneous first-line supervisors, protective service workers",
          "Miscellaneous first-line supervisors, protective service workers",
          "Miscellaneous first-line supervisors, protective service workers",
          "Miscellaneous health technologists & technicians",
          "Miscellaneous health technologists & technicians",
          "Miscellaneous installation, maintenance, & repair workers, including wind turbine service technicians",
          "Miscellaneous installation, maintenance, & repair workers, including wind turbine service technicians",
          "Miscellaneous installation, maintenance, & repair workers, including wind turbine service technicians",
          "Miscellaneous material moving workers, including mine shuttle car operators, & tank car, truck, & ship loaders",
          "Miscellaneous material moving workers, including mine shuttle car operators, & tank car, truck, & ship loaders",
          "Miscellaneous mathematical science occupations, including mathematicians & statisticians",
          "Miscellaneous mathematical science occupations, including mathematicians & statisticians",
          "Miscellaneous mathematical science occupations, including mathematicians & statisticians",
          "Miscellaneous mathematical science occupations, including mathematicians & statisticians",
          "Miscellaneous metal workers & plastic workers, including multiple machine tool setters",
          "Miscellaneous office & administrative support workers, including desktop publishers",
          "Miscellaneous social scientists, including survey researchers & sociologists",
          "Miscellaneous transportation workers, including bridge & lock tenders & traffic technicians",
          "Miscellaneous woodworkers, including model makers & patternmakers",
          "Models, demonstrators, & product promoters",
          "Models, demonstrators, & product promoters",
          "Models, demonstrators, & product promoters",
          "Morticians, undertakers, & funeral directors",
          "Morticians, undertakers, & funeral directors",
          "Music directors and composers",
          "Music directors and composers",
          "Music directors and composers",
          "Musicians and singers",
          "Natural sciences managers",
          "Natural sciences managers",
          "Natural sciences managers",
          "Natural sciences managers",
          "Natural sciences managers",
          "Natural sciences managers",
          "Natural sciences managers",
          "Network and computer systems administrators",
          "Network and computer systems administrators",
          "Network and computer systems administrators",
          "Network and computer systems administrators",
          "Network and computer systems administrators",
          "Network and computer systems administrators",
          "New accounts clerks",
          "News analysts, reporters, and journalists",
          "News analysts, reporters, and journalists",
          "News analysts, reporters, and journalists",
          "News analysts, reporters, and journalists",
          "Nonfarm animal caretakers",
          "Nuclear medicine technologists and medical dosimetrists",
          "Nuclear medicine technologists and medical dosimetrists",
          "Nuclear medicine technologists and medical dosimetrists",
          "Nuclear medicine technologists and medical dosimetrists",
          "Nuclear medicine technologists and medical dosimetrists",
          "Nuclear medicine technologists and medical dosimetrists",
          "Nuclear medicine technologists and medical dosimetrists",
          "Nuclear medicine technologists and medical dosimetrists",
          "Nuclear medicine technologists and medical dosimetrists",
          "Nuclear medicine technologists and medical dosimetrists",
          "Nuclear medicine technologists and medical dosimetrists",
          "Nurse anesthetists",
          "Nurse anesthetists",
          "Nurse anesthetists",
          "Nurse anesthetists",
          "Nurse anesthetists",
          "Nurse anesthetists",
          "Nurse anesthetists",
          "Nurse anesthetists",
          "Nurse anesthetists",
          "Nurse anesthetists",
          "Nurse anesthetists",
          "Nurse anesthetists",
          "Nurse anesthetists",
          "Nurse anesthetists",
          "Nurse anesthetists",
          "Nurse practitioners & nurse midwives",
          "Nurse practitioners & nurse midwives",
          "Nurse practitioners & nurse midwives",
          "Nurse practitioners & nurse midwives",
          "Nurse practitioners & nurse midwives",
          "Occupational health and safety specialists and technicians",
          "Occupational therapists",
          "Operations research analysts",
          "Operations research analysts",
          "Optometrists",
          "Optometrists",
          "Optometrists",
          "Optometrists",
          "Optometrists",
          "Optometrists",
          "Optometrists",
          "Optometrists",
          "Optometrists",
          "Orderlies and psychiatric aides",
          "Orderlies and psychiatric aides",
          "Other Physical Scientists",
          "Other Physical Scientists",
          "Other Physical Scientists",
          "Other Physical Scientists",
          "Other Physical Scientists",
          "Other Physical Scientists",
          "Other Sales Workers",
          "Other Sales Workers",
          "Other Sales Workers",
          "Other Sales Workers",
          "Other Sales Workers",
          "Other Sales Workers",
          "Other assemblers and fabricators",
          "Other assemblers and fabricators",
          "Other assemblers and fabricators",
          "Other construction and related workers",
          "Other construction and related workers",
          "Other designers",
          "Other designers",
          "Other drafters",
          "Other drafters",
          "Other education, training, & library workers",
          "Other education, training, & library workers",
          "Other education, training, & library workers",
          "Other education, training, & library workers",
          "Other engineering technologists and technicians, except drafters",
          "Other financial clerks",
          "Other financial clerks",
          "Other financial clerks",
          "Other financial clerks",
          "Other financial clerks",
          "Other financial clerks",
          "Other financial clerks",
          "Other financial clerks",
          "Other financial clerks",
          "Other financial specialists",
          "Other financial specialists",
          "Other financial specialists",
          "Other financial specialists",
          "Other financial specialists",
          "Other financial specialists",
          "Other financial specialists",
          "Other financial specialists",
          "Other financial specialists",
          "Other financial specialists",
          "Other financial specialists",
          "Other financial specialists",
          "Other financial specialists",
          "Other financial specialists",
          "Other financial specialists",
          "Other financial specialists",
          "Other financial specialists",
          "Other financial specialists",
          "Other grounds maintenance workers",
          "Other healthcare practitioners & technical Occupations",
          "Other healthcare practitioners & technical Occupations",
          "Other healthcare practitioners & technical Occupations",
          "Other information and records clerks",
          "Other managers",
          "Other psychologists",
          "Other psychologists",
          "Other psychologists",
          "Other psychologists",
          "Other teachers and instructors",
          "Other teachers and instructors",
          "Other therapists, including exercise physiologists",
          "Painting workers",
          "Paramedics",
          "Paramedics",
          "Paramedics",
          "Parts salespersons",
          "Parts salespersons",
          "Payroll & timekeeping clerks",
          "Payroll & timekeeping clerks",
          "Personal care & service workers, all other ",
          "Personal care aides",
          "Personal financial advisors",
          "Personal financial advisors",
          "Personal financial advisors",
          "Personal financial advisors",
          "Personal financial advisors",
          "Personal financial advisors",
          "Personal financial advisors",
          "Personal financial advisors",
          "Personal financial advisors",
          "Personal financial advisors",
          "Personal financial advisors",
          "Personal financial advisors",
          "Personal financial advisors",
          "Personal financial advisors",
          "Personal financial advisors",
          "Personal financial advisors",
          "Personal financial advisors",
          "Personal financial advisors",
          "Personal financial advisors",
          "Personal financial advisors",
          "Personal financial advisors",
          "Personal financial advisors",
          "Personal financial advisors",
          "Personal financial advisors",
          "Personal financial advisors",
          "Personal financial advisors",
          "Personal financial advisors",
          "Personal financial advisors",
          "Personal financial advisors",
          "Petroleum, mining & geological engineers, including mining safety engineers",
          "Petroleum, mining & geological engineers, including mining safety engineers",
          "Petroleum, mining & geological engineers, including mining safety engineers",
          "Petroleum, mining & geological engineers, including mining safety engineers",
          "Pharmacists",
          "Pharmacists",
          "Pharmacists",
          "Pharmacists",
          "Pharmacists",
          "Pharmacists",
          "Pharmacists",
          "Pharmacists",
          "Pharmacists",
          "Pharmacists",
          "Pharmacists",
          "Pharmacists",
          "Pharmacists",
          "Pharmacists",
          "Pharmacy aides",
          "Pharmacy technicians",
          "Phlebotomists",
          "Photographers",
          "Photographers",
          "Photographers",
          "Photographic process workers & processing machine operators",
          "Physical therapists",
          "Physical therapists",
          "Physical therapists",
          "Physical therapists",
          "Physician assistants",
          "Physician assistants",
          "Physician assistants",
          "Physician assistants",
          "Physician assistants",
          "Physician assistants",
          "Physician assistants",
          "Physician assistants",
          "Physician assistants",
          "Physician assistants",
          "Physician assistants",
          "Physician assistants",
          "Physician assistants",
          "Physician assistants",
          "Physician assistants",
          "Physician assistants",
          "Physician assistants",
          "Physician assistants",
          "Physician assistants",
          "Physicians",
          "Physicians",
          "Physicians",
          "Physicians",
          "Physicians",
          "Physicians",
          "Physicians",
          "Physicians",
          "Physicians",
          "Physicians",
          "Physicians",
          "Physicians",
          "Physicians",
          "Physicians",
          "Physicians",
          "Physicians",
          "Physicians",
          "Physicians",
          "Physicians",
          "Physicians",
          "Physicians",
          "Physicians",
          "Physicians",
          "Physicians",
          "Physicians",
          "Physicians",
          "Physicians",
          "Physicians",
          "Physicians",
          "Physicians",
          "Physicians",
          "Physicians",
          "Physicians",
          "Physicians",
          "Physicians",
          "Physicians",
          "Physicians",
          "Physicians",
          "Physicians",
          "Physicians",
          "Physicians",
          "Physicians",
          "Physicians",
          "Physicians",
          "Physicians",
          "Physicians",
          "Physicians",
          "Pipelayers",
          "Pipelayers",
          "Plumbers, pipefitters, and steamfitters",
          "Podiatrists",
          "Podiatrists",
          "Podiatrists",
          "Podiatrists",
          "Podiatrists",
          "Podiatrists",
          "Podiatrists",
          "Podiatrists",
          "Podiatrists",
          "Postal service clerks",
          "Postal service mail carriers",
          "Postal service mail carriers",
          "Postal service mail carriers",
          "Postsecondary teachers",
          "Postsecondary teachers",
          "Power plant operators, distributors, & dispatchers",
          "Power plant operators, distributors, & dispatchers",
          "Power plant operators, distributors, & dispatchers",
          "Power plant operators, distributors, & dispatchers",
          "Precision instrument & equipment repairers",
          "Prepress technicians & workers",
          "Pressers, textile, garment, & related materials",
          "Printing press operators",
          "Private detectives & investigators",
          "Procurement clerks",
          "Procurement clerks",
          "Procurement clerks",
          "Procurement clerks",
          "Producers & directors",
          "Producers & directors",
          "Producers & directors",
          "Producers & directors",
          "Producers & directors",
          "Producers & directors",
          "Producers & directors",
          "Production, planning, & expediting clerks",
          "Production, planning, & expediting clerks",
          "Project management specialists",
          "Project management specialists",
          "Project management specialists",
          "Project management specialists",
          "Project management specialists",
          "Project management specialists",
          "Project management specialists",
          "Project management specialists",
          "Project management specialists",
          "Project management specialists",
          "Project management specialists",
          "Property appraisers and assessors",
          "Property appraisers and assessors",
          "Property appraisers and assessors",
          "Property, real estate, & community association managers",
          "Property, real estate, & community association managers",
          "Property, real estate, & community association managers",
          "Property, real estate, & community association managers",
          "Property, real estate, & community association managers",
          "Property, real estate, & community association managers",
          "Psychiatric technicians",
          "Public relations and fundraising managers",
          "Public relations and fundraising managers",
          "Public relations and fundraising managers",
          "Public relations specialists",
          "Public relations specialists",
          "Public relations specialists",
          "Public relations specialists",
          "Public relations specialists",
          "Public relations specialists",
          "Public relations specialists",
          "Public safety telecommunicators",
          "Purchasing agents, except wholesale, retail, & farm products",
          "Purchasing agents, except wholesale, retail, & farm products",
          "Purchasing agents, except wholesale, retail, & farm products",
          "Purchasing agents, except wholesale, retail, & farm products",
          "Purchasing agents, except wholesale, retail, & farm products",
          "Purchasing managers",
          "Purchasing managers",
          "Purchasing managers",
          "Purchasing managers",
          "Purchasing managers",
          "Purchasing managers",
          "Purchasing managers",
          "Purchasing managers",
          "Radio & telecommunications equipment installers & repairers",
          "Radiologic technologists and technicians",
          "Radiologic technologists and technicians",
          "Radiologic technologists and technicians",
          "Radiologic technologists and technicians",
          "Radiologic technologists and technicians",
          "Radiologic technologists and technicians",
          "Radiologic technologists and technicians",
          "Radiologic technologists and technicians",
          "Radiologic technologists and technicians",
          "Radiologic technologists and technicians",
          "Radiologic technologists and technicians",
          "Radiologic technologists and technicians",
          "Radiologic technologists and technicians",
          "Railtrack laying & maintenance equipment operators",
          "Real estate brokers & sales agents",
          "Real estate brokers & sales agents",
          "Real estate brokers & sales agents",
          "Real estate brokers & sales agents",
          "Real estate brokers & sales agents",
          "Real estate brokers & sales agents",
          "Real estate brokers & sales agents",
          "Real estate brokers & sales agents",
          "Real estate brokers & sales agents",
          "Recreation workers",
          "Refuse & recyclable material collectors",
          "Reservation & transportation ticket agents & travel clerks",
          "Reservation & transportation ticket agents & travel clerks",
          "Reservation & transportation ticket agents & travel clerks",
          "Reservation & transportation ticket agents & travel clerks",
          "Reservation & transportation ticket agents & travel clerks",
          "Respiratory therapists",
          "Respiratory therapists",
          "Respiratory therapists",
          "Riggers",
          "Sailors & marine oilers, & ship engineers",
          "Sales engineers",
          "Sales engineers",
          "Sales engineers",
          "Sales engineers",
          "Sales engineers",
          "Sales engineers",
          "Sales engineers",
          "Sales managers",
          "Sales managers",
          "Sales managers",
          "Sales managers",
          "Sales managers",
          "Sales managers",
          "Sales managers",
          "Sales managers",
          "Sales managers",
          "Sales managers",
          "Sales managers",
          "Sales managers",
          "Sales managers",
          "Sales managers",
          "Sales managers",
          "Sales managers",
          "Sales managers",
          "Sales managers",
          "Sales managers",
          "Sales managers",
          "Sales managers",
          "Sales managers",
          "Sales representatives of services, except advertising, insurance, financial services, and travel",
          "Sales representatives of services, except advertising, insurance, financial services, and travel",
          "Sales representatives of services, except advertising, insurance, financial services, and travel",
          "Sales representatives of services, except advertising, insurance, financial services, and travel",
          "Sales representatives of services, except advertising, insurance, financial services, and travel",
          "Sales representatives of services, except advertising, insurance, financial services, and travel",
          "Sales representatives of services, except advertising, insurance, financial services, and travel",
          "Sales representatives, wholesale & manufacturing",
          "Sales representatives, wholesale & manufacturing",
          "Sales representatives, wholesale & manufacturing",
          "Sales representatives, wholesale & manufacturing",
          "Sales representatives, wholesale & manufacturing",
          "Secondary school teachers",
          "Securities, commodities, & financial services sales agents",
          "Securities, commodities, & financial services sales agents",
          "Securities, commodities, & financial services sales agents",
          "Securities, commodities, & financial services sales agents",
          "Securities, commodities, & financial services sales agents",
          "Securities, commodities, & financial services sales agents",
          "Securities, commodities, & financial services sales agents",
          "Securities, commodities, & financial services sales agents",
          "Securities, commodities, & financial services sales agents",
          "Securities, commodities, & financial services sales agents",
          "Securities, commodities, & financial services sales agents",
          "Securities, commodities, & financial services sales agents",
          "Securities, commodities, & financial services sales agents",
          "Securities, commodities, & financial services sales agents",
          "Securities, commodities, & financial services sales agents",
          "Securities, commodities, & financial services sales agents",
          "Securities, commodities, & financial services sales agents",
          "Sewing machine operators",
          "Sheet metal workers",
          "Sheet metal workers",
          "Ship & boat captains & operators",
          "Ship & boat captains & operators",
          "Shipping, receiving, & traffic clerks",
          "Shuttle drivers and chauffeurs",
          "Skincare specialists",
          "Social & community service managers",
          "Social & community service managers",
          "Social & community service managers",
          "Social & community service managers",
          "Social & community service managers",
          "Social & community service managers",
          "Social & human service assistants",
          "Social workers, all other",
          "Social workers, all other",
          "Software developers",
          "Software developers",
          "Software developers",
          "Software developers",
          "Software developers",
          "Software developers",
          "Software developers",
          "Software developers",
          "Software developers",
          "Software developers",
          "Software developers",
          "Software developers",
          "Software quality assurance analysts and testers",
          "Special education teachers",
          "Speechlanguage pathologists",
          "Speechlanguage pathologists",
          "Speechlanguage pathologists",
          "Stationary engineers & boiler operators",
          "Stationary engineers & boiler operators",
          "Stationary engineers & boiler operators",
          "Stationary engineers & boiler operators",
          "Structural iron & steel workers",
          "Subway, streetcar, & other rail transportation workers",
          "Supervisors of personal care and service workers",
          "Supervisors of transportation & material moving workers",
          "Supervisors of transportation & material moving workers",
          "Supervisors of transportation & material moving workers",
          "Supervisors of transportation & material moving workers",
          "Surface mining machine operators and earth drillers",
          "Surgeons",
          "Surgeons",
          "Surgeons",
          "Surgeons",
          "Surgeons",
          "Surgeons",
          "Surgeons",
          "Surgeons",
          "Surgeons",
          "Surgeons",
          "Surgeons",
          "Surgeons",
          "Surgeons",
          "Surgeons",
          "Surgeons",
          "Surgeons",
          "Surgeons",
          "Surgeons",
          "Surgeons",
          "Surgeons",
          "Surgeons",
          "Surgeons",
          "Surgeons",
          "Surgeons",
          "Surgeons",
          "Surgeons",
          "Surgeons",
          "Surgeons",
          "Surgeons",
          "Surgeons",
          "Surgeons",
          "Surgeons",
          "Surgeons",
          "Surgeons",
          "Surgeons",
          "Surgeons",
          "Surgeons",
          "Surgeons",
          "Surgeons",
          "Surgeons",
          "Surgeons",
          "Surgeons",
          "Surgical technologists",
          "Surgical technologists",
          "Surgical technologists",
          "Surveyors, cartographers, & photogrammetrists",
          "Switchboard operators, including answering service",
          "Tailors, dressmakers, & sewers",
          "Tax examiners & collectors, & revenue agents",
          "Tax preparers",
          "Tax preparers",
          "Tax preparers",
          "Tax preparers",
          "Teaching assistants",
          "Technical writers",
          "Technical writers",
          "Telemarketers",
          "Telemarketers",
          "Television, video, & motion picture camera operators & editors",
          "Television, video, & motion picture camera operators & editors",
          "Television, video, & motion picture camera operators & editors",
          "Tellers",
          "Title examiners, abstractors, and searchers",
          "Tool & die makers",
          "Training & development managers",
          "Training & development managers",
          "Training & development specialists",
          "Training & development specialists",
          "Training & development specialists",
          "Training & development specialists",
          "Training & development specialists",
          "Training & development specialists",
          "Transportation inspectors",
          "Transportation inspectors",
          "Transportation, storage, & distribution managers",
          "Transportation, storage, & distribution managers",
          "Transportation, storage, & distribution managers",
          "Transportation, storage, & distribution managers",
          "Travel agents",
          "Travel agents",
          "Travel agents",
          "Tutors",
          "Urban & regional planners",
          "Urban & regional planners",
          "Veterinarians",
          "Veterinarians",
          "Veterinarians",
          "Veterinarians",
          "Veterinarians",
          "Veterinarians",
          "Veterinarians",
          "Veterinarians",
          "Veterinarians",
          "Veterinarians",
          "Veterinarians",
          "Veterinarians",
          "Web developers",
          "Weighers, measurers, checkers, & samplers, recordkeeping",
          "Welding, soldering, & brazing workers",
          "Wholesale & retail buyers, except farm products",
          "Wholesale & retail buyers, except farm products",
          "Wholesale & retail buyers, except farm products",
          "Word processors & typists",
          "Word processors & typists",
          "Writers & authors",
          "Writers & authors",
          "AK",
          "AL",
          "AR",
          "AZ",
          "CA",
          "CO",
          "CT",
          "DC",
          "DE",
          "FL",
          "GA",
          "HI",
          "IA",
          "ID",
          "IL",
          "IN",
          "KS",
          "KY",
          "LA",
          "MA",
          "MD",
          "ME",
          "MI",
          "MN",
          "MO",
          "MS",
          "MT",
          "NC",
          "ND",
          "NE",
          "NH",
          "NJ",
          "NM",
          "NV",
          "NY",
          "OH",
          "OK",
          "OR",
          "PA",
          "PR",
          "RI",
          "SC",
          "SD",
          "TN",
          "TX",
          "UT",
          "VA",
          "VT",
          "WA",
          "WI",
          "WV",
          "WY"
         ],
         "marker": {
          "coloraxis": "coloraxis",
          "colors": [
           214549.5783839858,
           197506.0901287554,
           115077.91917293234,
           151221.96153846153,
           299091.0544217687,
           727403.6296296297,
           399573.9938339062,
           409291.1818181818,
           212750.3793103448,
           417395.9658119658,
           317099.36564319936,
           493378.2417582418,
           421448.34211076284,
           601191.8920025893,
           492365.1743119266,
           256313.58823529413,
           272760.9268292683,
           572399.8378378379,
           362708.7920792079,
           550111.6712328767,
           527823.552,
           572399.7959183673,
           482234.1904761905,
           645342.8307692307,
           506548.5048543689,
           243143.28125,
           260105.29460580912,
           227946.8208955224,
           270742.09703628125,
           668644,
           437657.9178082192,
           191538.6590909091,
           310975.5748031496,
           527823.5769230769,
           163171.73475124696,
           187189.77777777775,
           477168.6909090909,
           162095.51315789475,
           418409.0740740741,
           314703.8021975745,
           151964.55,
           145526.17757009345,
           427526.93150684924,
           253274.24,
           444749.58974358975,
           418409.0588235294,
           645342.8461538461,
           559811.3042431204,
           506548.5037037037,
           146899.06329113923,
           162095.51633986927,
           316288.888,
           474129.4074074074,
           572399.8148148148,
           504522.3278688525,
           136768.09174311926,
           253274.25688073397,
           272322.4801980198,
           396120.9379310344,
           389024.32452939916,
           431903.57940631796,
           383159.7928860637,
           477168.6819649839,
           306463.33628318587,
           460878.88764278864,
           164593.88687782804,
           444749.5696202532,
           359874.99609375,
           347834.6618104185,
           368374.4058644504,
           420063.6796243641,
           421448.3595505618,
           345933.6615384615,
           347823.88167563616,
           435631.70247933886,
           668644,
           437657.89830508473,
           418409.064516129,
           445762.69003581005,
           369404.95181248954,
           425500.74285714293,
           321770.427480916,
           179919.3836065574,
           202619.4047619048,
           417395.9696969698,
           316666.7750681217,
           205383.45664739888,
           167161.00598802394,
           432592.4102564103,
           391055.44347826095,
           182357.45098039217,
           192488.4411764706,
           248312.13656789972,
           182357.46,
           287310.41025641025,
           396120.94117647066,
           194041.84649914526,
           424711.21691151004,
           202619.40869565215,
           170687.51908396947,
           467057.88711223233,
           187422.94339622636,
           393081.6249887641,
           283667.14814814815,
           508574.6666666667,
           303586.3791821561,
           493378.25988700567,
           435631.7229437229,
           151964.5507246377,
           145885.97826086957,
           313664.3493209244,
           167161,
           371107.8073265551,
           407265,
           420333.81895494217,
           506548.5,
           202619.40677966105,
           164121.72727272726,
           227946.828125,
           222881.33834586467,
           418409.0731707317,
           444749.6071428572,
           360662.5454545455,
           474129.40880503145,
           437405.70663161454,
           727403.6078431372,
           417395.9677419355,
           668644,
           250234.94594594595,
           504522.3243243243,
           417395.9806763285,
           202619.40880503147,
           417395.96078431373,
           492365.1724137931,
           474129.40625,
           668644.0258064516,
           425500.7468879668,
           227946.83783783784,
           437657.9220779221,
           645342.8,
           482234.2051282051,
           180331.2577319588,
           478073.0593220339,
           253274.26315789475,
           399507.91630946874,
           477168.69696969696,
           550111.7,
           418409.0714285714,
           668644,
           75982.28333333334,
           527823.5789473684,
           253274.25352112675,
           413343.5714285715,
           445762.6857142857,
           126637.12612612612,
           281319.2843601896,
           477168.6923076923,
           339387.4942528736,
           435631.7096774193,
           437657.92,
           477888.0984860207,
           212750.3829787234,
           403212.6,
           193021.64045559717,
           474129.4210526316,
           396120.9444444445,
           324191.0555555556,
           417395.972043931,
           572399.8333333334,
           334322,
           482234.17647058825,
           550111.7108433734,
           403212.6,
           645342.8062334225,
           309143.3478698984,
           418409.0833333333,
           492365.1724137931,
           474129.4166666666,
           425500.7462686568,
           222881.3488372093,
           148925.27450980392,
           492365.1707317073,
           101309.70512820513,
           143051.52573529413,
           172226.48484848486,
           360662.51851851854,
           160069.32743362832,
           369808.94366197183,
           319292.5421245421,
           248648.20233036345,
           437657.8965517241,
           202619.4098360656,
           180331.26666666663,
           572399.7908496732,
           432592.4137931035,
           645342.8468468469,
           246813.8153846154,
           417395.9518072289,
           329928.83990875544,
           429176.6894333512,
           267878.7922176103,
           323189.54968327534,
           327277.6512847762,
           262722.31640692294,
           228011.4531530294,
           403212.5797101449,
           247802.59030327355,
           455130.99999348045,
           327758.3072497214,
           289610.7439165701,
           225758.49607797427,
           307521.4798648213,
           354478.52274120593,
           160891.698630137,
           360748.09049599717,
           309776.1570796903,
           298550.2324162626,
           320111.90480617236,
           377197.5316921131,
           320500.0568202317,
           182357.45806451613,
           217658.83125,
           274126.68685714283,
           311414.644899301,
           242402.4782608696,
           324207.45683141,
           334877.8125,
           354583.94520547945,
           164121.72413793104,
           727403.5918367347,
           482234.19867949456,
           421448.3456790124,
           280904.16235379124,
           437657.9029126214,
           211737.26190476192,
           316086.2745098039,
           202619.41025641025,
           115493.05384615384,
           243143.2741935484,
           482234.1904761905,
           145723.88,
           393081.6170212766,
           326732.4232081911,
           233012.31325301205,
           645342.8148148148,
           222881.34375,
           146899.0634920635,
           91178.72784810126,
           352291.89758916496,
           393081.60824742273,
           645342.8275862068,
           241728.88636363638,
           121302.57505773671,
           297701.32207792206,
           352048.19161676645,
           303929.088,
           572399.8260869565,
           173147.47933884297,
           227946.83146067415,
           417395.9666666666,
           432592.4,
           344500.3587740744,
           492365.14851485146,
           425500.7619047619,
           504522.3087248322,
           418409.08,
           531875.9322033898,
           243143.27777777775,
           572399.8185483871,
           504522.2933333333,
           645342.794520548,
           668644,
           572399.8297872341,
           360431.918699187,
           432592.4166666667,
           645342.7894736842,
           437657.90476190473,
           302160.8829013594,
           235038.4897959184,
           325677.2673487714,
           477168.68965517235,
           172226.48453608248,
           192869.06936416184,
           266652.6780821918,
           432592.4230769231,
           243448.42560603863,
           170079.77695167286,
           253021.52384945506,
           227946.82926829267,
           210806.14979533272,
           281049.5513513514,
           167221.94736842104,
           426513.8636363637,
           192488.4406779661,
           199580.10666666666,
           403212.6,
           368806.2923076923,
           572399.8250000001,
           421448.3274853801,
           427526.9523809524,
           572399.8285714285,
           168475.87765957447,
           482234.2,
           628120.1194029851,
           196540.8076923077,
           556272.4063029082,
           413343.54999999993,
           147912.15894039735,
           417395.9677419355,
           126637.1256830601,
           162095.51351351352,
           302309.5442176871,
           127733.69288389511,
           482234.1818181818,
           223341.82954545456,
           151964.55813953487,
           162095.51388888888,
           194101.52427184462,
           202619.4068965517,
           230105.4923076923,
           426513.85,
           506548.5090909091,
           253274.25714285715,
           477168.68656716414,
           239176.10280373832,
           550111.7073170731,
           403212.5822784809,
           205200.84615384616,
           390468.4018691589,
           492365.15926892945,
           182357.46153846156,
           317114.9423076923,
           437657.9142857143,
           159157.54090909092,
           566154.9110408046,
           319125.5555555556,
           230161.72503894093,
           482234.1846153846,
           417395.9603960396,
           444749.59139784944,
           432592.3947368421,
           437657.914893617,
           364564.2143757911,
           445762.69565217395,
           400834.73575129535,
           482234.1951219512,
           202619.4084507042,
           437657.9000000001,
           418409.0999999999,
           474129.4054054054,
           550111.6712328767,
           504336.3204484069,
           243143.29166666663,
           475362.2081939556,
           482234.2035928144,
           504522.3157894737,
           391055.45064377686,
           668644,
           244245.64537444932,
           572399.830683625,
           482234.2,
           408278.1052631579,
           550111.7037037037,
           340731.70817120624,
           628120.1111111111,
           418409.1111111111,
           668644,
           426513.8367346939,
           445762.68486352375,
           474129.38666666666,
           502406.3621580295,
           318685.92452830187,
           474129.4375,
           572399.793814433,
           352527.9411764706,
           195896.1181818182,
           180331.2676056338,
           197816.49659863947,
           202619.4054054054,
           508574.6666666667,
           339387.512195122,
           395107.8571428572,
           550111.661971831,
           396120.94999999995,
           389962.4032149877,
           537009.6815706652,
           202619.40277777775,
           727403.6,
           405097.0481866529,
           429086.4969907315,
           408278.08163265313,
           367944.88503668946,
           401165.3125,
           417395.971735811,
           444749.5903614458,
           314355.26259017974,
           436160.37011478824,
           421922.6436654622,
           432592.4080454319,
           307541.2565445026,
           421448.3539823009,
           339387.5035013711,
           418409.07246160414,
           407265.0105263158,
           435631.72413793096,
           531875.9320814448,
           349518.4761904762,
           437462.1088996984,
           638207.0546715966,
           399579.318277758,
           418409.04142011836,
           312564.12379535596,
           335711.0954508522,
           182357.4578313253,
           243143.2857142857,
           162095.51315789475,
           428177.53078239347,
           409219.50559872296,
           425500.7450980392,
           312339.1535968487,
           422461.43126684637,
           441565.6505952704,
           444749.5915290383,
           339387.51145038166,
           202619.40506329117,
           425761.2449084354,
           421448.347826087,
           383594.8381502891,
           417395.9722222223,
           516077.2927588233,
           429086.49531033554,
           628120.1132075472,
           493378.2222222223,
           409483.6879435568,
           425500.76056338026,
           314520.5882352941,
           314612.6666666667,
           350574.6666666667,
           418409.0740740741,
           572399.8333333334,
           231999.2248062016,
           508574.679245283,
           467037.72093023255,
           437657.9220779221,
           345853.34911242605,
           297850.51666666666,
           289771.39240506326,
           572399.8260869565,
           186409.8476190476,
           369380.7043331279,
           194514.62857142856,
           572399.8285714285,
           418409.0693069307,
           668644,
           182357.46666666667,
           474129.41353383457,
           527823.5443037974,
           251248.07407407407,
           295004.2010582011,
           535359.8174272977,
           306309.82945736434,
           325661.8474812357,
           299876.7211538461,
           320283.39285714284,
           417395.97790055245,
           259801.153881608,
           173719.47368421053,
           121571.64285714286,
           303929.0933333333,
           427526.93333333335,
           301902.9090909091,
           204282.92984350215,
           177291.97894736842,
           294729.42236024846,
           432592.4230769231,
           418409.0580645161,
           161216.55415749224,
           231224.487394958,
           421448.3333333333,
           202619.41176470587,
           383773.19801980205,
           253274.25,
           482234.17647058825,
           252713.5707762557,
           233012.3103448276,
           417395.9841897233,
           253274.25352112675,
           727403.5918367347,
           273536.18859649124,
           506548.5098039216,
           263405.22222222225,
           408278.11111111107,
           628120.1379310344,
           508574.6666666667,
           151964.55263157896,
           445762.6769230769,
           408278.11111111107,
           550111.6831683168,
           208817.4266055046,
           197959.75964391694,
           198567.0188679245,
           156016.93181818182,
           265658.9411764706,
           426513.83206106874,
           404655.68007884396,
           645342.8059701492,
           151964.54794520547,
           417395.9534883721,
           497404.4720196733,
           483209.8983240224,
           482234.2,
           550111.6842105263,
           403212.6037735849,
           393081.61815702333,
           421902.42405666696,
           432592.4,
           193501.56,
           418409.06666666665,
           645342.8234234243,
           418737.5161111308,
           454050.8021624413,
           474129.41818181815,
           444749.5945945946,
           214776.56074766355,
           294485.36005005677,
           184907.2837078652,
           226804.1424418605,
           165602.4010989011,
           308630.46734955284,
           292026.3561643836,
           303929.0833333333,
           228739.68260869564,
           138044.44094488188,
           204469.8082191781,
           286788.59797297296,
           432592.406779661,
           271866.20547945204,
           182357.45306122449,
           225582.92592592596,
           492365.2,
           474129.4545454545,
           354583.9304347826,
           151964.5576923077,
           264691.75668474304,
           227946.83783783784,
           222881.35294117648,
           628120.1073825504,
           281228.0326086957,
           296347.18548387097,
           572399.8356164383,
           196284.11864406773,
           177291.9638554217,
           192488.43859649124,
           432592.4,
           437657.9090909091,
           474129.39130434784,
           514206.3529411765,
           253274.25,
           294673.0909090909,
           409846.441954645,
           441246.37563591107,
           146899.06666666668,
           349579.36308579636,
           379740.1549295775,
           210973.30905266633,
           437657.89285714284,
           135704.65586419753,
           245804.0035587189,
           219687.62068801938,
           298448.05970149254,
           321718.8044280963,
           101582.04301075268,
           393081.6285714286,
           273536.18652849743,
           191475.3275862069,
           334779.56451612903,
           228959.92366412212,
           506548.5084745763,
           527823.5734280796,
           645342.8196721311,
           432592.404040404,
           418409.0638297873,
           413343.5526315789,
           417395.9611650485,
           435631.72413793096,
           202619.5,
           349518.48175182485,
           565920.3376748962,
           338374.41139240505,
           506548.5,
           393081.62025316455,
           304350.5915279879,
           236203.8962931643,
           253274.2608695652,
           253410.46638655465,
           153837.79058441558,
           168587.89201877936,
           162095.51388888888,
           182357.447761194,
           482234.1886792453,
           417395.9669421488,
           162095.51401869158,
           403601.96460969734,
           503509.2121212121,
           435631.7333333333,
           572399.7908496732,
           273536.1818181818,
           259352.8333333333,
           253274.2608695652,
           326263.2840909091,
           531875.9545454546,
           182357.4533333333,
           668644,
           572399.8260869565,
           325204.131147541,
           378081.5816326531,
           109414.47794117648,
           477168.701754386,
           195527.72093023252,
           352918.9631147541,
           336951.2056892779,
           182357.45762711865,
           241851.88554216863,
           492365.1623931624,
           162095.51111111112,
           346667.66279069765,
           451008.79069767444,
           493378.2372881356,
           407264.992481203,
           445762.6933333334,
           393081.634408602,
           435631.6948717949,
           201657.32086330932,
           363609.7207792208,
           366128.1428571429,
           317153.99019607843,
           458073.9209465017,
           231625.50222222225,
           474129.4230769231,
           506548.4878048781,
           321534.55113636365,
           285593.2962962963,
           432592.4188481676,
           172226.48529411765,
           339387.51020408166,
           418409.075862069,
           492365.15555555554,
           474129.4,
           427526.95,
           417395.9681195518,
           464991.29730503645,
           352768.4914285714,
           343338.575,
           360662.5384615384,
           493378.24,
           407265,
           229770.4048,
           498692.51318371366,
           182357.45454545456,
           426513.8275862069,
           202619.41379310345,
           151964.54421768707,
           228959.92307692303,
           199580.1158129176,
           396120.9203539823,
           427526.94214876037,
           482234.18541785673,
           550111.6926959662,
           417395.9583333333,
           425500.75308641983,
           354583.9259259259,
           214604.90277777772,
           492365.1428571429,
           493378.25,
           668644,
           132302.96666666667,
           480835.68635776197,
           356112.8090909091,
           349621.21113269974,
           294919.22335025383,
           201994.9344262295,
           351051.5398230089,
           240849.7472222222,
           359507.1157024793,
           645342.8267622463,
           468106.3105022831,
           205750.3366834171,
           474129.4615384616,
           303929.1,
           396120.94285714277,
           572399.7966101695,
           482234.1860465116,
           601104.2037051382,
           243143.2820512821,
           351327.5642857143,
           401186.42553191487,
           182357.45132743364,
           339387.49253731343,
           230292.1838790932,
           226933.72549019608,
           676748.8,
           151964.54054054053,
           432592.41176470596,
           217815.85507246375,
           426513.8461538461,
           668643.9768786128,
           396120.94550466497,
           411120.03818242106,
           372404.9824561404,
           269037.8611111111,
           307113.97360703815,
           267429.38836047245,
           245844.8703703704,
           249100.39487433844,
           375900.1473465062,
           405066.16127031646,
           247179.16820709614,
           493378.2471910112,
           421448.3529411765,
           236652.99787234043,
           343916.32692307694,
           308994.59793814435,
           349518.48387096776,
           392190.0915380842,
           218427.83075252504,
           176052.18831374962,
           236875.76687116563,
           196365.08163265305,
           370378.5662972009,
           202619.41176470587,
           199580.11666666664,
           273153.88863564515,
           550111.6962025317,
           426513.8483754513,
           474129.4,
           181470.08394160584,
           321333.9568345324,
           106919.89217134417,
           396120.94736842107,
           315212.4791666667,
           668644,
           117684.17441860466,
           572399.829059829,
           477168.6917293233,
           417395.9740259741,
           508574.701754386,
           474129.4190757129,
           413343.5652173913,
           269194.75988700567,
           492365.1351351352,
           271164.4913294798,
           427526.9523809524,
           532457.0208713888,
           727403.6417910447,
           399535.3868720731,
           417395.9682539683,
           528984.433415713,
           508574.6835443038,
           354358.12428220914,
           645342.8333333334,
           467037.70588235295,
           222881.3432835821,
           437657.8992805755,
           414963.34239798,
           426513.85,
           474129.40920096927,
           444749.6,
           396120.9523809524,
           177291.97037037037,
           330288.01451905625,
           131702.6075949367,
           202619.41379310345,
           285448.79802955664,
           146899.05806451614,
           182357.47222222225,
           268674.00666666665,
           304729.81861334224,
           354583.94868421054,
           353408.5612244898,
           427224.9803614688,
           338218.5528846154,
           369852.0373610069,
           668644,
           437657.9142857143,
           307728.2213541667,
           202619.40384615381,
           527823.5789473684,
           516793.7288382073,
           215060.2327868853,
           360662.528,
           413343.5588235294,
           334436.6981132076,
           506548.5063291139,
           202619.40298507464,
           126637.13333333332,
           377968.8652173913,
           120305.27173913045,
           628120.1132075472,
           211276.1155660377,
           492365.1830985916,
           572399.8095238095,
           508574.7027027027,
           301498.47690480395,
           426975.1756229635,
           121571.64179104478,
           393081.6285714286,
           291962.2320441989,
           340587.2192982456,
           435631.72602739726,
           233371.29133858267,
           244515.86290322585,
           264293.9157894737,
           492365.1681415929,
           345919.0625,
           444749.6,
           417395.97202797205,
           202619.40740740745,
           222881.3404255319,
           166147.9,
           256313.54761904763,
           241117.1009174312,
           253274.2528735632,
           482234.2040816327,
           212750.3703703704,
           467037.7272727273,
           418409.0540540541,
           482234.19108280254,
           477168.70103092777,
           199580.11627906977,
           393000.6128528053,
           572399.8208955224,
           182357.46666666667,
           396120.9565217392,
           290961.63461753353,
           572399.801980198,
           477168.693877551,
           393081.6444444445,
           168344.45132743364,
           56733.42857142857,
           236907.54046987035,
           444749.6086956522,
           396120.94117647066,
           393081.64,
           572399.8232044199,
           550111.6888888889,
           151964.54545454544,
           668644,
           216682.98456658103,
           202619.40625,
           202619.4025974026,
           396120.9251700681,
           572399.811023622,
           326306.9936708861,
           421448.349726776,
           444749.6,
           517715.6035739393,
           645342.7936507936,
           197553.92647058822,
           182357.44715447156,
           134550.88552188553,
           550111.7014925373,
           572399.8064516129,
           409291.1932773109,
           396120.9523809524,
           572399.8125,
           212750.36893203884,
           474129.4252873563,
           437657.89285714284,
           151964.55135135134,
           727403.6428571428,
           243143.29268292684,
           253274.24691358028,
           668644,
           417395.9622507123,
           405238.796460177,
           253274.2459016393,
           417395.97234848485,
           430404.731884058,
           298268.7614678899,
           492365.17797888385,
           285002.6866445945,
           222543.63425925927,
           142846.66666666666,
           238077.8058252427,
           645342.8235294118,
           131702.60732984293,
           492365.1707317073,
           572399.8167938931,
           482234.2,
           391055.4285714286,
           418409.0485436893,
           261677.07468879668,
           417395.9534883721,
           263405.21495327103,
           482234.1832227073,
           477168.69696969696,
           408278.0930232558,
           417395.9710144928,
           421407.94833115867,
           432592.42553191487,
           421448.3636363637,
           668644.031496063,
           426513.8461538461,
           396120.9414772728,
           427526.9278350516,
           263405.21194641496,
           409291.2,
           401186.4,
           393081.6363636364,
           198298.75793657338,
           339387.5714285714,
           217092.21151584492,
           196624.36858858055,
           418409.0833333333,
           371068.22815864364,
           352375.66448724724,
           215789.6607142857,
           368965.4923738921,
           369178.89374370873,
           423978.34236782935,
           134918.3426966292,
           139346.88605001313,
           527823.5769230769,
           185396.75,
           141833.58208955225,
           425500.7594936709,
           444749.59375,
           444749.5789473684,
           141833.58024691357,
           572399.802955665,
           482234.1754385965,
           417395.9655172414,
           418409.0671261613,
           303929.0950226244,
           571029.1279736159,
           445762.67768595036,
           572399.8064516129,
           445762.6875,
           572399.8198067638,
           504522.32,
           628120.1441441441,
           432592.41904761904,
           416123.305785124,
           437657.9178082192,
           370625.3973799127,
           550111.6818181818,
           427382.48180153983,
           474129.3920972644,
           353395.7407407408,
           439281.6245453909,
           189768.5197740113,
           469453.5512820513,
           413343.5652173913,
           151964.54285714286,
           230986.10526315792,
           182357.4523809524,
           474129.4137931034,
           233012.31914893616,
           550111.6727272727,
           572399.8048780488,
           504522.3125,
           202619.4054054054,
           426513.85365853657,
           418409.0833333333,
           515202.82216332963,
           300495.8229166667,
           437176.8570673871,
           505383.0897445052,
           506326.6423357664,
           493378.2773722628,
           262823.625,
           527823.5717761557,
           444749.6068376068,
           151964.54761904763,
           504929.8127182686,
           727403.6363636364,
           482234.1813725495,
           409291.2,
           550111.706599713,
           628120.1403508772,
           508574.68792029895,
           493378.2721661055,
           418409.07692307694,
           531875.9545454546,
           581585.9528555328,
           531114.5780358125,
           437657.9336927226,
           445762.676056338,
           474129.41818181815,
           425500.75362318836,
           506548.5,
           285525.4364640884,
           432592.4074074074,
           506548.5070422535,
           473192.323042695,
           233012.31914893616,
           237148.62404910123,
           343403.05454545456,
           317099.3725490196,
           508574.6923076923,
           474129.4117647059,
           318197.38241758244,
           251653.3076923077,
           182357.44642857145,
           247696.2023809524,
           243143.27564102568,
           315073.15942028986,
           437657.92452830187,
           227946.8205128205,
           668644,
           322629.175,
           388592.25,
           327505.852398524,
           418409.0602409639,
           347859.42521407595,
           518859.57391473034,
           422824.9106818722,
           225280.16858237548,
           676748.8421052631,
           473195.1980474699,
           399535.3957377703,
           401186.4054054054,
           387349.0716353961,
           417395.96636895713,
           182357.4516129032,
           345926.05543652,
           628120.109375,
           432592.4089722988,
           493378.2352941177,
           379039.62225256383,
           339387.5051546392,
           418409.0540019287,
           497752.39634874574,
           453810.1243518117,
           349039.98891355435,
           418409.0555555556,
           289718.7288888889,
           236512.7185003484,
           445762.6845710166,
           433656.1493773877,
           382926.69459638104,
           506548.511627907,
           444946.7272689056,
           151964.546875,
           391055.4347826087,
           492365.1794871795,
           379734.63298366725,
           484196.6093061108,
           477168.6857142857,
           131702.60975609755,
           232233,
           177819.1056910569,
           361019.9093851133,
           146899.05714285714,
           179200.7083836536,
           393450.06060606055,
           146899.05555555556,
           151109.32925323612,
           287381.8333333333,
           267791.2659755366,
           131702.61016949153,
           101309.70229007634,
           220721.18181818185,
           482234.208588957,
           339387.5140186916,
           202619.4105263158,
           141833.575,
           303929.08108108107,
           151964.54237288135,
           301422.4463519313,
           437657.9130434783,
           253274.2553191489,
           534407.691726719,
           212750.3823529412,
           399543.90666625916,
           477168.6875,
           444749.5909090908,
           403212.5833333333,
           628120.116830295,
           493378.253968254,
           349148.4986213336,
           347420.30639067217,
           538556.9134813774,
           219949.11487603403,
           437657.9136288318,
           399453.64024390245,
           492365.16407904046,
           426513.8507462686,
           397229.9893050194,
           506548.5106382979,
           527823.56,
           385909.8938941843,
           311328.9334063652,
           405425.3408242642,
           222845.0821052632,
           417820.3275282086,
           400532.4214079093,
           249728.09426463308,
           413695.98856806546,
           360333.79735505633,
           423275.0776768037,
           409291.1767337808,
           350010.24958287325,
           352149.4185055322,
           352828.5104674827,
           261111.8347635339,
           389854.16379890655,
           329292.432869337,
           540589.6151016422,
           343719.1727552116,
           296419.0538461176,
           305476.72423451726,
           417419.7369015546,
           350900.018279085,
           295254.70710497885,
           308520.94155844155,
           344094.8725436741,
           383104.55735736183,
           289060.792854126,
           375851.64169911924,
           543038.3424437076,
           349518.4689878235,
           401617.730867034,
           363576.3586652887,
           338202.74730289535,
           349453.98000842956,
           320323.39750145434,
           395655.3830170811,
           290883.90831327526,
           325595.454138282,
           366724.8821439713,
           350396.5240690396,
           349286.02157259086,
           282299.7146451118,
           383865.21580752067,
           367453.7899830184,
           271459.5396128948,
           246742.2352907481,
           396120.9552238806,
           202619.42857142855,
           492365.15555555554,
           417395.9574468085,
           572399.8309859155,
           482234.1860465116,
           444749.6,
           360662.5333333333,
           645342.7899159663,
           437657.9212598425,
           413343.5764705882,
           492365.1506849315,
           492365.1470588236,
           176515.1255060729,
           445762.6966292135,
           474129.3846153847,
           191240.63343108507,
           282341.1204188482,
           187422.9333333333,
           161082.42016806724,
           508574.6842105263,
           171213.38709677418,
           217974.15625,
           572399.8181818182,
           508574.679245283,
           136768.09615384616,
           474129.4074074074,
           427526.9411764706,
           233012.31666666668,
           278601.679245283,
           527823.5609756098,
           417395.9714285714,
           447962.39226519334,
           727403.6111111111,
           668644,
           437657.91596638656,
           393003.48684336053,
           444749.59375,
           572399.8,
           138245.53125,
           444749.5802469136,
           417395.97297297296,
           151964.55102040817,
           294743.96094704495,
           174226.37987012987,
           167161,
           289577.05461435026,
           164188.01667353394,
           141833.61538461538,
           445458.843379569,
           354583.94029850746,
           333077.4827586207,
           403212.59090909106,
           286768.34965246456,
           246379.5576923077,
           171010.29245283018,
           456574.1005268086,
           645342.8,
           355183.3271358738,
           444749.6,
           263405.2207792208,
           276910,
           437657.9117647059,
           492365.1538461539,
           427526.94736842107,
           177291.95833333334,
           393612.1577287066,
           628120.1165048544,
           645342.8045977012,
           474129.4054054054,
           444749.6071428572,
           136768.08695652173,
           256189.55702518157,
           197587.68452380956,
           668644,
           227946.8282828283,
           223065.57575757572,
           482234.189552239,
           364267.95588235295,
           411104.27508090617,
           163855.9005847953,
           432592.4123711341,
           302080.9295878503,
           71929.88938053098,
           162095.51162790696,
           491770.6649225968,
           423591.5395530268,
           303929.1002865329,
           292600.8333333333,
           550111.7014925373,
           403212.594059406,
           305061.58375871053,
           418409.0606060606,
           435631.7358490566,
           364714.89743589744,
           437657.9142857143,
           418409.056,
           375973.4625634337,
           425500.73913043475,
           425500.73885350325,
           254303.57421875,
           151385.62797619047,
           258233.29961089493,
           398726.0204081632,
           349518.4782608696,
           245593.10075566752,
           298916.5574912892,
           316503.83952702704,
           208860.63636363635,
           198060.4745762712,
           323537.95867768594,
           202619.40136054423,
           432592.4,
           354583.94701986754,
           492365.1698113208,
           474129.4017094017,
           233633.2401433692,
           417395.9555555555,
           668644,
           432592.4054054054,
           426513.85365853657,
           263405.22641509434,
           162095.51111111112,
           482234.1890822754,
           359235.80032123416,
           668644,
           437657.9142857143,
           418409.04142011836,
           396120.9393939394,
           352738.77139469865,
           431135.49163699464,
           230790.4090909091,
           319417.51296829974,
           325435.68816788914,
           395003.0229885057,
           290569.2244897959,
           471196.4441365125,
           417395.9669421488,
           167161,
           212750.3809523809,
           393081.6428571429,
           241700.8372391174,
           255276.12800000003,
           202241.32301693797,
           668644,
           362593.5971077574,
           222881.35,
           474129.43130990415,
           262123.16986149797,
           167805.71313131312,
           303929.0961538461,
           406796.797106033,
           149825.7868852459,
           253274.2564102564,
           492365.1538461539,
           182357.45,
           253521.99563318776,
           151964.54663774403,
           324378.65185185184,
           244156.3725490196,
           260473.04943987852,
           364714.9158163265,
           445288.7095115681,
           230760.98460200534,
           293931.6727272728,
           437513.10129956726,
           408278.08695652167,
           464234.6504339137,
           362763.59305167943,
           432592.4210526316,
           493378.2545454545,
           389486.3098139371,
           344194.29275552096,
           349518.4761904762,
           445039.0397130495,
           492365.16025641037,
           381411.84651728335,
           341518.9111645416,
           506548.5237762241,
           298448.37956835213,
           493378.24,
           396120.9294605809,
           527823.5698924732,
           403212.5910652921,
           645342.8133333334,
           474129.417721519,
           144339.50588235294,
           482234.1904761905,
           482234.2,
           202619.41176470587,
           645342.7951807228,
           496849.76173914515,
           133477.1320754717,
           474129.4042553192,
           572399.8153846153,
           175790.89194139195,
           166147.90184049078,
           396120.9375,
           180331.26506024096,
           227946.82352941175,
           217484.11586901767,
           177292,
           133985.79024390245,
           432592.4137931035,
           156506.02155172414,
           189229.1842105263,
           162095.51807228915,
           182357.45098039217,
           190259.61687956925,
           396120.9487179487,
           199671.7963800905,
           393081.6179775281,
           492365.1666666667,
           111440.67045454546,
           550111.6981132076,
           645342.8461538461,
           392838.98127939604,
           136768.09333333332,
           432592.3921568629,
           435631.7419354839,
           349518.48148148146,
           409291.1961722488,
           645342.8148148148,
           413343.5555555556,
           474129.4166666666,
           319984.843373494,
           396120.94845360826,
           417395.9674034866,
           572399.8163476329,
           493011.04821064207,
           727403.649122807,
           482234.1935012193,
           477168.6856640968,
           408278.0975609756,
           409291.2,
           401186.41480960214,
           496825.414461296,
           417395.970616304,
           444749.6070689145,
           403212.6066308244,
           393081.62768989336,
           552633.9509103713,
           508574.6896551724,
           432592.410958904,
           493378.27630758117,
           421448.3435915598,
           339387.5,
           418409.0593348499,
           303929.09433962265,
           623686.5061251859,
           349518.4615384616,
           467037.7391304348,
           639259.6766569299,
           437657.9123357434,
           418409.05668449204,
           413343.55986906745,
           492365.16393102676,
           217393.73214285716,
           426513.846747994,
           445762.68666666717,
           462929.8561298786,
           425500.7630057804,
           493324.8858338723,
           422461.42424242425,
           527823.5558443984,
           444749.5882352941,
           354583.9298245614,
           503509.2179930796,
           572399.8248175182,
           401186.4077669903,
           628120.1428571428,
           253274.2553191489,
           492365.1666666667,
           182357.45318352056,
           421448.3636363637,
           455294.7569060773,
           373442.020923407,
           407265.01492537314,
           474129.40625,
           76283.18935837246,
           182357.4482758621,
           668644,
           151964.55026455026,
           550111.7058823529,
           572399.8192032686,
           508574.7008547009,
           303929.0967741936,
           427526.93023255817,
           467037.7368421053,
           572399.829059829,
           182357.4598540146,
           182357.4512195122,
           417395.9726027397,
           572399.8275862068,
           668644,
           229044.07377049184,
           413343.54999999993,
           303929.0967741936,
           572399.8,
           474129.4,
           572399.8125,
           134899.01604278074,
           391055.44444444455,
           426294.8486417739,
           482234.2048192771,
           403212.6037735849,
           492365.1612903226,
           239090.8842105263,
           222881.3448275862,
           474129.4090909091,
           427526.947410817,
           182357.4583333333,
           240017.3462766976,
           401186.41463414626,
           170200.29357798165,
           349980.17061584804,
           388954.27507995354,
           437657.9189189189,
           426513.83566433564,
           474129.39130434784,
           506548.4923076923,
           444749.59069767455,
           418409.0476190476,
           482234.1739130434,
           188763.8147058824,
           188436.0434782609,
           508574.68493150687,
           645342.8282828283,
           177045.26943005182,
           344922.51385390427,
           243143.2876712329,
           413343.56097560975,
           394179.7834443239,
           368059.8371089826,
           405748.1602532829,
           356047.20989661576,
           465682.80933071446,
           412022.5031425599,
           564407.6875600191,
           527386.3567523704,
           419207.2006639609,
           396834.85984950943,
           403653.3696947486,
           376372.96348561195,
           360265.5136718065,
           363670.73720929434,
           439772.0378498674,
           369815.57852956443,
           362349.6808806583,
           358925.7152707272,
           354514.8930262885,
           495935.15573135973,
           414624.04530410527,
           332259.9130296962,
           381945.6113928269,
           431225.98974787263,
           360110.5787373577,
           319710.7513403196,
           375317.13218669326,
           363327.1157725669,
           397979.5432093775,
           394310.99336890434,
           461284.3916326122,
           551485.0373784319,
           303138.9571999147,
           407012.1320864595,
           517090.5007026814,
           372336.00053192006,
           363641.8838992766,
           368525.71143161977,
           426104.57278005785,
           167965.9312976297,
           301606.8303675006,
           372204.29851599946,
           317872.76803334197,
           394789.86635171616,
           384948.2785892137,
           389486.3592916578,
           411665.3319537789,
           402073.61753885687,
           429672.18279722333,
           386601.51256595086,
           317917.4336292085,
           396201.33826578135
          ]
         },
         "name": "",
         "parents": [
          "CA",
          "MI",
          "NM",
          "OH",
          "IL",
          "CT",
          "FL",
          "IA",
          "IL",
          "IN",
          "MA",
          "MN",
          "MO",
          "NY",
          "PA",
          "WA",
          "WI",
          "CA",
          "CA",
          "IL",
          "WA",
          "CA",
          "FL",
          "NJ",
          "VA",
          "CA",
          "DC",
          "IL",
          "NJ",
          "NY",
          "OH",
          "RI",
          "TX",
          "WA",
          "AZ",
          "FL",
          "GA",
          "MD",
          "NC",
          "OH",
          "TX",
          "WA",
          "AR",
          "GA",
          "KS",
          "NC",
          "NJ",
          "NY",
          "VA",
          "FL",
          "MD",
          "SC",
          "TX",
          "CA",
          "CO",
          "GA",
          "NY",
          "TX",
          "AL",
          "CA",
          "CO",
          "FL",
          "GA",
          "HI",
          "IL",
          "IN",
          "KS",
          "KY",
          "MA",
          "MI",
          "MN",
          "MO",
          "MT",
          "NC",
          "NE",
          "NY",
          "OH",
          "OK",
          "TN",
          "TX",
          "UT",
          "VT",
          "WA",
          "WI",
          "AZ",
          "CA",
          "FL",
          "IL",
          "MI",
          "MT",
          "NC",
          "NY",
          "PA",
          "PR",
          "VA",
          "AL",
          "AZ",
          "CA",
          "CO",
          "FL",
          "IL",
          "IN",
          "LA",
          "MA",
          "MD",
          "MI",
          "MN",
          "NE",
          "NJ",
          "NV",
          "NY",
          "OH",
          "OR",
          "RI",
          "TX",
          "VA",
          "WI",
          "MN",
          "TN",
          "FL",
          "OK",
          "WI",
          "ME",
          "TX",
          "CA",
          "CT",
          "IN",
          "NY",
          "TX",
          "CO",
          "IN",
          "NJ",
          "AZ",
          "PA",
          "TX",
          "NY",
          "UT",
          "NC",
          "OH",
          "NJ",
          "FL",
          "IL",
          "CA",
          "CA",
          "FL",
          "GA",
          "IL",
          "NC",
          "NY",
          "PR",
          "WA",
          "FL",
          "OR",
          "TN",
          "TX",
          "NC",
          "GA",
          "MS",
          "NE",
          "OH",
          "CA",
          "KS",
          "KY",
          "PA",
          "TX",
          "AL",
          "NY",
          "AZ",
          "CA",
          "CT",
          "FL",
          "IL",
          "KY",
          "NJ",
          "NY",
          "OK",
          "PA",
          "TX",
          "UT",
          "VA",
          "NJ",
          "PA",
          "KY",
          "MI",
          "IL",
          "ME",
          "NC",
          "OH",
          "OR",
          "TX",
          "OH",
          "TX",
          "AZ",
          "CA",
          "MI",
          "NJ",
          "AL",
          "AZ",
          "CA",
          "DE",
          "FL",
          "GA",
          "IA",
          "IL",
          "KS",
          "KY",
          "LA",
          "MA",
          "MI",
          "MN",
          "MO",
          "MS",
          "NC",
          "NE",
          "NJ",
          "NY",
          "OH",
          "OK",
          "OR",
          "PA",
          "PR",
          "RI",
          "TN",
          "TX",
          "UT",
          "VA",
          "WA",
          "WV",
          "TX",
          "CT",
          "FL",
          "MO",
          "NJ",
          "OH",
          "PA",
          "TX",
          "AZ",
          "CA",
          "CO",
          "FL",
          "IL",
          "LA",
          "MI",
          "NC",
          "NJ",
          "NY",
          "OK",
          "PR",
          "TX",
          "LA",
          "NJ",
          "OH",
          "KS",
          "GA",
          "TX",
          "IL",
          "CA",
          "NC",
          "WI",
          "IN",
          "MI",
          "NY",
          "PA",
          "UT",
          "CO",
          "NC",
          "NH",
          "CA",
          "CA",
          "CO",
          "NJ",
          "NY",
          "CA",
          "IL",
          "MI",
          "NJ",
          "OH",
          "CA",
          "CT",
          "FL",
          "GA",
          "IL",
          "IN",
          "LA",
          "MI",
          "MN",
          "MO",
          "NJ",
          "NV",
          "NY",
          "OH",
          "OK",
          "SC",
          "TX",
          "VA",
          "KY",
          "WA",
          "CA",
          "MO",
          "AR",
          "CA",
          "CO",
          "FL",
          "MA",
          "NC",
          "NY",
          "OR",
          "WV",
          "AZ",
          "CA",
          "FL",
          "NJ",
          "PR",
          "FL",
          "NJ",
          "OK",
          "CO",
          "HI",
          "KS",
          "VA",
          "SC",
          "VA",
          "CT",
          "GA",
          "IA",
          "IL",
          "KY",
          "NC",
          "NY",
          "PA",
          "PR",
          "TX",
          "OH",
          "AZ",
          "NY",
          "NJ",
          "CA",
          "FL",
          "IN",
          "KS",
          "MI",
          "OH",
          "PA",
          "TN",
          "WA",
          "FL",
          "AZ",
          "OH",
          "OK",
          "TX",
          "IL",
          "CA",
          "CO",
          "CA",
          "FL",
          "CO",
          "MT",
          "NY",
          "AZ",
          "CA",
          "FL",
          "HI",
          "IL",
          "LA",
          "MA",
          "NC",
          "NY",
          "SC",
          "TN",
          "TX",
          "VA",
          "WA",
          "TX",
          "CA",
          "IA",
          "IN",
          "LA",
          "MO",
          "CA",
          "MD",
          "MS",
          "NJ",
          "IL",
          "AL",
          "AZ",
          "CA",
          "CO",
          "CT",
          "FL",
          "GA",
          "HI",
          "IA",
          "IL",
          "IN",
          "KS",
          "KY",
          "MA",
          "MD",
          "MI",
          "MN",
          "MO",
          "MS",
          "NC",
          "ND",
          "NE",
          "NH",
          "NM",
          "NV",
          "NY",
          "OH",
          "OK",
          "OR",
          "PA",
          "PR",
          "SC",
          "SD",
          "TN",
          "TX",
          "UT",
          "VA",
          "VT",
          "WA",
          "WI",
          "MS",
          "PA",
          "CA",
          "MO",
          "VA",
          "AZ",
          "CA",
          "GA",
          "MA",
          "MN",
          "PA",
          "UT",
          "WA",
          "MI",
          "NY",
          "OK",
          "CA",
          "GA",
          "MD",
          "NV",
          "OH",
          "TX",
          "MO",
          "UT",
          "CA",
          "IN",
          "TN",
          "WI",
          "CA",
          "NC",
          "NY",
          "PR",
          "TX",
          "WA",
          "NY",
          "GA",
          "MA",
          "WI",
          "NY",
          "TX",
          "AL",
          "AZ",
          "CA",
          "MD",
          "PA",
          "WA",
          "AR",
          "VA",
          "CA",
          "IL",
          "IN",
          "MI",
          "NC",
          "OH",
          "TN",
          "MO",
          "NY",
          "TN",
          "CA",
          "FL",
          "KY",
          "NY",
          "AZ",
          "CA",
          "CT",
          "MD",
          "VA",
          "WA",
          "HI",
          "MA",
          "MD",
          "SC",
          "TN",
          "HI",
          "IL",
          "OH",
          "WA",
          "CT",
          "HI",
          "MD",
          "SC",
          "FL",
          "NJ",
          "PA",
          "AZ",
          "CA",
          "CT",
          "FL",
          "IL",
          "KY",
          "LA",
          "MA",
          "MI",
          "MO",
          "NC",
          "NJ",
          "NY",
          "PA",
          "TX",
          "WI",
          "TX",
          "CA",
          "FL",
          "MD",
          "NJ",
          "NY",
          "OR",
          "CA",
          "CA",
          "CO",
          "TN",
          "AR",
          "MI",
          "NJ",
          "PR",
          "CO",
          "PA",
          "TX",
          "WV",
          "AZ",
          "CA",
          "GA",
          "MD",
          "MA",
          "TX",
          "WV",
          "CA",
          "FL",
          "GA",
          "LA",
          "MI",
          "OH",
          "TX",
          "CA",
          "GA",
          "PA",
          "TX",
          "TX",
          "VA",
          "CA",
          "NJ",
          "NY",
          "OH",
          "OK",
          "OR",
          "TX",
          "CA",
          "CA",
          "FL",
          "LA",
          "MA",
          "OH",
          "FL",
          "TX",
          "VA",
          "WA",
          "NJ",
          "MI",
          "NC",
          "OR",
          "AZ",
          "NE",
          "GA",
          "NM",
          "NY",
          "PA",
          "VA",
          "LA",
          "CA",
          "FL",
          "IL",
          "MN",
          "MO",
          "NY",
          "OH",
          "PR",
          "FL",
          "AZ",
          "NM",
          "TX",
          "WY",
          "NE",
          "CA",
          "TX",
          "CA",
          "FL",
          "MA",
          "NH",
          "PR",
          "NY",
          "CA",
          "CA",
          "KY",
          "CA",
          "GA",
          "NY",
          "OR",
          "IN",
          "PR",
          "NC",
          "PA",
          "CO",
          "FL",
          "CA",
          "MN",
          "ND",
          "TN",
          "LA",
          "VA",
          "FL",
          "IL",
          "KS",
          "MA",
          "NY",
          "RI",
          "TX",
          "VA",
          "WA",
          "MN",
          "MI",
          "AZ",
          "MS",
          "NC",
          "PA",
          "TX",
          "AR",
          "AZ",
          "CA",
          "FL",
          "IN",
          "ME",
          "MN",
          "ND",
          "NE",
          "NY",
          "PR",
          "SC",
          "TN",
          "VA",
          "WA",
          "NM",
          "AL",
          "AR",
          "FL",
          "IL",
          "IN",
          "UT",
          "WV",
          "IL",
          "PA",
          "MN",
          "NY",
          "AR",
          "CA",
          "GA",
          "IA",
          "KY",
          "MA",
          "MD",
          "MS",
          "NC",
          "NJ",
          "NY",
          "OK",
          "TX",
          "WA",
          "AL",
          "CA",
          "FL",
          "NY",
          "WA",
          "VA",
          "ID",
          "PR",
          "MS",
          "FL",
          "FL",
          "DC",
          "CO",
          "MI",
          "PA",
          "SC",
          "NY",
          "AL",
          "CA",
          "CO",
          "CT",
          "DE",
          "FL",
          "GA",
          "IL",
          "IN",
          "KS",
          "LA",
          "MN",
          "MO",
          "MS",
          "NC",
          "NJ",
          "NM",
          "NV",
          "NY",
          "OH",
          "SC",
          "SD",
          "TX",
          "VA",
          "WA",
          "CA",
          "IL",
          "SC",
          "TX",
          "NY",
          "DC",
          "TX",
          "AL",
          "CO",
          "NY",
          "NM",
          "CA",
          "GA",
          "IN",
          "MD",
          "TX",
          "OR",
          "FL",
          "PA",
          "VA",
          "AR",
          "CA",
          "CT",
          "GA",
          "IN",
          "MA",
          "MD",
          "MO",
          "NJ",
          "NV",
          "NY",
          "OH",
          "PA",
          "SC",
          "TX",
          "WI",
          "AL",
          "MI",
          "FL",
          "IN",
          "MD",
          "MI",
          "NY",
          "PR",
          "SC",
          "TX",
          "WV",
          "NJ",
          "CA",
          "FL",
          "MA",
          "NY",
          "OH",
          "PA",
          "TX",
          "WA",
          "CA",
          "CO",
          "ME",
          "OR",
          "PA",
          "VA",
          "ID",
          "IL",
          "TX",
          "IN",
          "MA",
          "NC",
          "PA",
          "CA",
          "MD",
          "AZ",
          "CA",
          "GA",
          "LA",
          "MD",
          "MI",
          "NE",
          "NM",
          "OH",
          "OK",
          "PA",
          "TX",
          "WI",
          "IN",
          "AL",
          "FL",
          "GA",
          "MD",
          "NC",
          "VA",
          "FL",
          "FL",
          "NV",
          "OK",
          "FL",
          "GA",
          "AK",
          "TX",
          "CA",
          "PR",
          "AL",
          "AZ",
          "CA",
          "GA",
          "LA",
          "NC",
          "PR",
          "TX",
          "WI",
          "AL",
          "LA",
          "CA",
          "IL",
          "MI",
          "NY",
          "TX",
          "AZ",
          "GA",
          "AL",
          "CA",
          "MD",
          "MO",
          "WI",
          "CA",
          "NJ",
          "OH",
          "PR",
          "OH",
          "IL",
          "CA",
          "IA",
          "AL",
          "CA",
          "TN",
          "TX",
          "OH",
          "OR",
          "CT",
          "OR",
          "TX",
          "NY",
          "AZ",
          "CT",
          "GA",
          "IN",
          "MD",
          "NC",
          "PA",
          "CA",
          "KY",
          "MO",
          "NC",
          "NJ",
          "PA",
          "PA",
          "CA",
          "FL",
          "MT",
          "NC",
          "AZ",
          "AZ",
          "CA",
          "FL",
          "GA",
          "HI",
          "IN",
          "MD",
          "MI",
          "MO",
          "NY",
          "SC",
          "AL",
          "AR",
          "CA",
          "IA",
          "ID",
          "LA",
          "MA",
          "MS",
          "NY",
          "OH",
          "SD",
          "TN",
          "TX",
          "WA",
          "WI",
          "AL",
          "CA",
          "IA",
          "NC",
          "WA",
          "PA",
          "NV",
          "UT",
          "WI",
          "AK",
          "AZ",
          "CA",
          "FL",
          "IN",
          "NC",
          "NJ",
          "NY",
          "TN",
          "CA",
          "TN",
          "CA",
          "CO",
          "MA",
          "MI",
          "NY",
          "OH",
          "FL",
          "IL",
          "NY",
          "TX",
          "VA",
          "WA",
          "GA",
          "NY",
          "OR",
          "OK",
          "OR",
          "MI",
          "TX",
          "AZ",
          "IL",
          "CA",
          "CO",
          "NC",
          "SC",
          "OK",
          "CA",
          "CT",
          "GA",
          "IL",
          "MA",
          "MN",
          "NY",
          "WA",
          "WI",
          "AL",
          "CA",
          "CT",
          "FL",
          "IA",
          "IL",
          "MA",
          "MD",
          "MN",
          "NC",
          "NH",
          "NJ",
          "NY",
          "OH",
          "TN",
          "TX",
          "UT",
          "VA",
          "TX",
          "MI",
          "VA",
          "WA",
          "FL",
          "TX",
          "CA",
          "CT",
          "MD",
          "TX",
          "GA",
          "TX",
          "PR",
          "WA",
          "CA",
          "NJ",
          "OH",
          "CT",
          "NY",
          "CA",
          "NJ",
          "MN",
          "NC",
          "AZ",
          "CA",
          "CO",
          "CT",
          "DC",
          "FL",
          "GA",
          "ID",
          "IL",
          "IN",
          "KY",
          "LA",
          "MA",
          "MI",
          "MN",
          "MO",
          "MS",
          "NC",
          "NJ",
          "NY",
          "OH",
          "OK",
          "OR",
          "PA",
          "TN",
          "TX",
          "UT",
          "VA",
          "WA",
          "AZ",
          "MT",
          "PA",
          "TX",
          "CA",
          "GA",
          "KY",
          "LA",
          "MI",
          "MN",
          "MO",
          "NC",
          "NJ",
          "OH",
          "PR",
          "SC",
          "TX",
          "WI",
          "PR",
          "AR",
          "DE",
          "MS",
          "NY",
          "TX",
          "CA",
          "CA",
          "IA",
          "OH",
          "WA",
          "CA",
          "CT",
          "FL",
          "GA",
          "KS",
          "KY",
          "MA",
          "MN",
          "MO",
          "NC",
          "NJ",
          "NM",
          "OH",
          "OK",
          "PA",
          "SC",
          "TX",
          "VA",
          "WA",
          "AK",
          "AL",
          "AR",
          "AZ",
          "CA",
          "CO",
          "CT",
          "DE",
          "FL",
          "GA",
          "IA",
          "ID",
          "IL",
          "IN",
          "KS",
          "KY",
          "LA",
          "MA",
          "MD",
          "ME",
          "MI",
          "MN",
          "MO",
          "MS",
          "MT",
          "NC",
          "ND",
          "NE",
          "NH",
          "NJ",
          "NM",
          "NV",
          "NY",
          "OH",
          "OK",
          "OR",
          "PA",
          "SC",
          "SD",
          "TN",
          "TX",
          "UT",
          "VA",
          "WA",
          "WI",
          "WV",
          "WY",
          "AL",
          "OK",
          "PA",
          "AZ",
          "CA",
          "FL",
          "KS",
          "ME",
          "NJ",
          "OH",
          "OR",
          "PA",
          "PA",
          "GA",
          "TN",
          "TX",
          "IN",
          "KY",
          "FL",
          "IN",
          "MD",
          "PA",
          "UT",
          "CA",
          "MD",
          "IN",
          "TX",
          "AR",
          "NY",
          "VA",
          "WA",
          "AZ",
          "CA",
          "CT",
          "NY",
          "OH",
          "TX",
          "WI",
          "CA",
          "UT",
          "AK",
          "AZ",
          "FL",
          "GA",
          "KY",
          "MO",
          "NM",
          "PR",
          "TN",
          "TX",
          "WV",
          "CA",
          "KY",
          "TX",
          "CA",
          "FL",
          "IL",
          "NJ",
          "PA",
          "WI",
          "TX",
          "FL",
          "OH",
          "PA",
          "AR",
          "CA",
          "GA",
          "MA",
          "NJ",
          "TX",
          "WI",
          "CA",
          "CA",
          "MD",
          "NY",
          "SC",
          "TN",
          "FL",
          "GA",
          "IL",
          "KS",
          "MI",
          "NY",
          "PR",
          "TX",
          "CA",
          "CO",
          "CT",
          "FL",
          "IL",
          "KY",
          "MA",
          "NC",
          "NE",
          "NY",
          "OH",
          "OK",
          "TN",
          "UT",
          "UT",
          "CA",
          "FL",
          "IN",
          "MD",
          "NM",
          "PA",
          "TN",
          "TX",
          "WA",
          "AL",
          "MD",
          "FL",
          "MI",
          "NY",
          "PA",
          "TX",
          "AL",
          "IN",
          "NY",
          "MI",
          "SC",
          "CA",
          "CO",
          "FL",
          "MI",
          "NY",
          "OH",
          "OK",
          "AL",
          "AZ",
          "CA",
          "CO",
          "DC",
          "FL",
          "GA",
          "ID",
          "IL",
          "IN",
          "KS",
          "KY",
          "LA",
          "MI",
          "MN",
          "MO",
          "NY",
          "OH",
          "PA",
          "TX",
          "VA",
          "WA",
          "CA",
          "IL",
          "KY",
          "MN",
          "PA",
          "PR",
          "RI",
          "CA",
          "NH",
          "OH",
          "TX",
          "VA",
          "CA",
          "CA",
          "CO",
          "FL",
          "HI",
          "IL",
          "MA",
          "MI",
          "MN",
          "NC",
          "NJ",
          "NM",
          "NY",
          "PA",
          "TN",
          "TX",
          "VA",
          "WI",
          "MN",
          "AL",
          "WA",
          "KY",
          "NJ",
          "TX",
          "WI",
          "FL",
          "FL",
          "IL",
          "NJ",
          "NY",
          "TN",
          "TX",
          "CA",
          "AL",
          "CA",
          "AL",
          "AZ",
          "CA",
          "FL",
          "ID",
          "IL",
          "MI",
          "MO",
          "NC",
          "NV",
          "PR",
          "TX",
          "AL",
          "SC",
          "LA",
          "PA",
          "TX",
          "IL",
          "NJ",
          "TX",
          "WV",
          "MI",
          "NE",
          "NM",
          "IA",
          "NJ",
          "OR",
          "TX",
          "MI",
          "AL",
          "AZ",
          "CA",
          "CO",
          "CT",
          "FL",
          "GA",
          "HI",
          "IA",
          "ID",
          "IL",
          "IN",
          "KS",
          "KY",
          "LA",
          "MA",
          "MD",
          "MI",
          "MN",
          "MO",
          "MS",
          "NC",
          "NH",
          "NJ",
          "NM",
          "NV",
          "NY",
          "OH",
          "OK",
          "OR",
          "PA",
          "RI",
          "SC",
          "TN",
          "TX",
          "UT",
          "VA",
          "VT",
          "WA",
          "WI",
          "WV",
          "WY",
          "CA",
          "ID",
          "MA",
          "FL",
          "PA",
          "OH",
          "MO",
          "IL",
          "MI",
          "RI",
          "TX",
          "MI",
          "CA",
          "NY",
          "FL",
          "IL",
          "CA",
          "MD",
          "NY",
          "AR",
          "NV",
          "CA",
          "CA",
          "MI",
          "AZ",
          "CA",
          "NY",
          "OH",
          "OR",
          "WA",
          "CA",
          "TX",
          "CA",
          "FL",
          "MT",
          "TX",
          "FL",
          "KY",
          "PA",
          "IL",
          "CA",
          "TX",
          "AR",
          "AZ",
          "IA",
          "ID",
          "IN",
          "MD",
          "MI",
          "OH",
          "SC",
          "TX",
          "VA",
          "WI",
          "NC",
          "FL",
          "NJ",
          "FL",
          "MD",
          "NJ",
          "CA",
          "MA",
          "MN",
          "OR",
          "",
          "",
          "",
          "",
          "",
          "",
          "",
          "",
          "",
          "",
          "",
          "",
          "",
          "",
          "",
          "",
          "",
          "",
          "",
          "",
          "",
          "",
          "",
          "",
          "",
          "",
          "",
          "",
          "",
          "",
          "",
          "",
          "",
          "",
          "",
          "",
          "",
          "",
          "",
          "",
          "",
          "",
          "",
          "",
          "",
          "",
          "",
          "",
          "",
          "",
          "",
          ""
         ],
         "type": "treemap",
         "values": [
          417585.67540243425,
          197506.09012875537,
          115077.91917293234,
          151221.96153846153,
          299091.0544217687,
          727403.6296296297,
          674722.627164448,
          409291.1818181818,
          212750.37931034484,
          417395.9658119658,
          633185.6322624744,
          493378.2417582418,
          842896.6842215257,
          1650334.9761904762,
          492365.1743119266,
          256313.58823529413,
          272760.9268292683,
          572399.8378378379,
          362708.7920792079,
          550111.6712328767,
          527823.552,
          572399.7959183673,
          482234.1904761905,
          645342.8307692307,
          506548.5048543689,
          243143.28125,
          260105.29460580912,
          227946.8208955224,
          536741.3447196261,
          668644,
          437657.9178082192,
          191538.6590909091,
          310975.5748031496,
          527823.5769230769,
          325204.12994672754,
          187189.77777777775,
          477168.6909090909,
          162095.51315789475,
          418409.0740740741,
          551609.8922182469,
          151964.55,
          145526.17757009345,
          427526.9315068493,
          253274.24,
          444749.58974358975,
          418409.0588235294,
          645342.8461538461,
          1023227.9292035399,
          506548.5037037037,
          146899.06329113923,
          162095.51633986927,
          316288.888,
          474129.4074074074,
          572399.8148148148,
          504522.3278688525,
          136768.09174311926,
          253274.25688073397,
          272322.4801980198,
          396120.9379310345,
          1506040.5111391188,
          820461.0755264153,
          3576148.087586257,
          954337.3639299676,
          306463.33628318587,
          843909.8327552986,
          164593.88687782804,
          444749.5696202532,
          359874.99609375,
          695197.712921941,
          1384327.1410273332,
          792525.5166666666,
          421448.3595505618,
          345933.6615384615,
          619002.2566115703,
          435631.70247933886,
          668644,
          437657.89830508473,
          418409.064516129,
          1783050.7601432384,
          2699381.6290542334,
          425500.7428571429,
          321770.427480916,
          179919.3836065574,
          202619.4047619048,
          417395.9696969697,
          617521.141931405,
          205383.45664739885,
          167161.00598802394,
          432592.4102564103,
          391055.4434782609,
          182357.45098039217,
          192488.4411764706,
          496417.5189125295,
          182357.46,
          287310.41025641025,
          396120.9411764706,
          379911.3763736264,
          1012002.357936044,
          202619.40869565215,
          170687.51908396947,
          877698.616,
          187422.9433962264,
          786163.2499775281,
          283667.14814814815,
          508574.6666666667,
          303586.3791821561,
          493378.25988700567,
          435631.72294372297,
          151964.5507246377,
          145885.97826086957,
          625080.8377406932,
          167161,
          729175.5399829496,
          407265,
          2767712.1464388827,
          506548.5,
          202619.40677966105,
          164121.72727272726,
          227946.828125,
          222881.33834586467,
          418409.0731707317,
          444749.6071428572,
          360662.5454545455,
          474129.40880503145,
          1200519.9588096207,
          727403.6078431372,
          417395.96774193546,
          668644,
          250234.94594594595,
          504522.3243243243,
          417395.9806763285,
          202619.40880503145,
          417395.9607843137,
          492365.1724137931,
          474129.40625,
          668644.0258064516,
          425500.7468879668,
          227946.83783783784,
          437657.9220779221,
          645342.8,
          482234.2051282051,
          180331.2577319588,
          478073.0593220339,
          253274.26315789475,
          684853.5956112853,
          477168.69696969696,
          550111.7,
          418409.0714285714,
          668644,
          75982.28333333334,
          527823.5789473684,
          253274.25352112675,
          413343.5714285714,
          445762.6857142857,
          126637.12612612612,
          281319.2843601896,
          477168.6923076923,
          339387.4942528736,
          435631.7096774193,
          437657.92,
          1555103.9253575706,
          212750.3829787234,
          403212.6,
          384976.8612361236,
          474129.4210526316,
          396120.9444444445,
          324191.0555555556,
          834791.9440878619,
          572399.8333333334,
          334322,
          482234.17647058825,
          550111.7108433734,
          403212.6,
          1936028.418700267,
          579491.4647887324,
          418409.0833333333,
          492365.1724137931,
          474129.4166666667,
          425500.7462686568,
          222881.3488372093,
          148925.27450980392,
          492365.1707317073,
          101309.70512820513,
          143051.52573529413,
          172226.48484848486,
          360662.51851851854,
          160069.32743362832,
          369808.94366197183,
          319292.5421245421,
          472648.70440306293,
          437657.8965517241,
          202619.4098360656,
          180331.26666666663,
          572399.7908496732,
          432592.4137931034,
          645342.8468468469,
          246813.8153846154,
          417395.9518072289,
          2118867.8890824146,
          839868.0293759094,
          2047205.59829382,
          1706011.4385834504,
          649289.0893336588,
          1201096.8833312339,
          676574.5469071094,
          403212.5797101449,
          482075.9199822064,
          2024037.4501951595,
          1154243.843056818,
          289610.7439165701,
          410947.0505452563,
          606406.512195122,
          1518792.4347466016,
          160891.698630137,
          1031318.4815275274,
          2418858.1771525797,
          2219231.819817788,
          1191891.5729350382,
          745569.4996619337,
          1327728.201043814,
          182357.45806451613,
          217658.83125,
          274126.68685714283,
          4564555.119844969,
          242402.4782608696,
          631238.7795398231,
          334877.8125,
          354583.94520547945,
          164121.72413793104,
          727403.5918367347,
          964468.3973589889,
          421448.3456790124,
          557203.3387978142,
          437657.9029126214,
          211737.2619047619,
          316086.2745098039,
          202619.41025641025,
          115493.05384615384,
          243143.2741935484,
          482234.1904761905,
          145723.88,
          393081.6170212766,
          326732.4232081911,
          233012.31325301205,
          645342.8148148148,
          222881.34375,
          146899.0634920635,
          91178.72784810126,
          876328.8944671554,
          393081.6082474227,
          645342.8275862068,
          241728.88636363635,
          121302.57505773671,
          297701.32207792206,
          352048.19161676645,
          303929.088,
          572399.8260869565,
          173147.47933884297,
          227946.83146067412,
          417395.9666666667,
          432592.4,
          679507.8493617021,
          492365.14851485146,
          425500.7619047619,
          504522.3087248322,
          418409.08,
          531875.9322033898,
          243143.27777777775,
          1144799.6370967743,
          504522.2933333333,
          645342.794520548,
          668644,
          572399.8297872341,
          360431.918699187,
          432592.4166666667,
          645342.7894736842,
          437657.90476190473,
          553177.9896196869,
          235038.4897959184,
          641100.2605200945,
          477168.6896551724,
          172226.48453608248,
          192869.06936416184,
          266652.6780821918,
          432592.4230769231,
          420435.25,
          170079.77695167286,
          501836.9329643296,
          227946.82926829267,
          383829.75295075297,
          281049.5513513514,
          167221.94736842104,
          426513.8636363637,
          192488.4406779661,
          199580.10666666663,
          403212.6,
          368806.2923076923,
          1144799.65,
          421448.3274853801,
          427526.9523809524,
          572399.8285714285,
          168475.87765957447,
          482234.2,
          628120.1194029851,
          196540.8076923077,
          899630.1539260759,
          413343.55,
          147912.15894039735,
          417395.96774193546,
          126637.1256830601,
          162095.51351351352,
          302309.5442176871,
          127733.69288389511,
          482234.1818181818,
          223341.82954545456,
          151964.55813953487,
          162095.51388888888,
          194101.52427184465,
          202619.4068965517,
          230105.4923076923,
          426513.85,
          506548.5090909091,
          253274.25714285715,
          477168.6865671642,
          239176.10280373832,
          550111.7073170731,
          403212.582278481,
          205200.84615384616,
          390468.4018691589,
          492365.1592689295,
          182357.46153846156,
          317114.9423076923,
          437657.9142857143,
          159157.54090909092,
          1059443.9296187684,
          319125.5555555556,
          436432.8775510204,
          482234.1846153846,
          417395.9603960396,
          444749.59139784944,
          432592.3947368421,
          437657.914893617,
          934344.5299765271,
          445762.6956521739,
          400834.73575129535,
          482234.1951219512,
          202619.4084507042,
          437657.9,
          418409.1,
          474129.4054054054,
          550111.6712328767,
          667630.9574550628,
          243143.29166666663,
          840870.5228142479,
          482234.2035928144,
          504522.3157894737,
          391055.4506437768,
          668644,
          244245.64537444932,
          1144799.6613672497,
          482234.2,
          408278.1052631579,
          550111.7037037037,
          340731.70817120624,
          628120.1111111111,
          418409.1111111111,
          668644,
          426513.8367346939,
          891525.3697270472,
          474129.38666666666,
          1507007.1056839318,
          318685.92452830187,
          474129.4375,
          572399.793814433,
          352527.9411764706,
          195896.1181818182,
          180331.2676056338,
          197816.49659863947,
          202619.4054054054,
          508574.6666666667,
          339387.512195122,
          395107.8571428572,
          550111.661971831,
          396120.95,
          1152721.705887843,
          1879294.9383503965,
          202619.40277777775,
          727403.6,
          1467776.719312734,
          1156956.7670745272,
          408278.0816326531,
          1001848.8325611647,
          401165.3125,
          1252187.9152074326,
          444749.5903614458,
          828776.633540446,
          1483648.1484248722,
          698664.1595008649,
          1730369.632181727,
          307541.2565445026,
          421448.3539823009,
          1018162.5105041116,
          2092045.3623080202,
          407265.0105263158,
          435631.724137931,
          1063751.8641628893,
          349518.4761904762,
          1294994.469896035,
          3653977.462555066,
          2312286.037339557,
          418409.0414201184,
          599070.6810710499,
          587153.2109329447,
          182357.4578313253,
          243143.2857142857,
          162095.51315789475,
          1700767.5195471141,
          2505388.960744462,
          425500.7450980392,
          1202437.0271410174,
          844922.8625336927,
          805316.9356125356,
          889499.1830580768,
          339387.51145038166,
          202619.40506329117,
          886459.8585156504,
          421448.347826087,
          383594.838150289,
          417395.9722222223,
          1448728.7435528378,
          1156956.769433465,
          628120.1132075472,
          493378.2222222223,
          730442.9315256778,
          425500.76056338026,
          314520.5882352941,
          314612.6666666667,
          350574.6666666667,
          418409.0740740741,
          572399.8333333334,
          231999.2248062016,
          508574.679245283,
          467037.72093023255,
          437657.9220779221,
          345853.34911242605,
          297850.51666666666,
          289771.39240506326,
          572399.8260869565,
          186409.8476190476,
          622560.5838307737,
          194514.62857142856,
          572399.8285714285,
          418409.0693069307,
          668644,
          182357.46666666667,
          474129.41353383457,
          527823.5443037974,
          251248.07407407407,
          295004.2010582011,
          780093.9083204931,
          306309.82945736434,
          897226.8433092028,
          299876.7211538461,
          320283.39285714284,
          417395.9779005525,
          519499.4177489956,
          173719.47368421053,
          121571.64285714286,
          303929.0933333333,
          427526.93333333335,
          301902.9090909091,
          599570.2532328939,
          177291.97894736842,
          294729.42236024846,
          432592.4230769231,
          418409.0580645161,
          317836.68019323674,
          231224.487394958,
          421448.3333333333,
          202619.41176470587,
          383773.198019802,
          253274.25,
          482234.17647058825,
          252713.5707762557,
          233012.3103448276,
          417395.9841897233,
          253274.25352112675,
          727403.5918367347,
          273536.18859649124,
          506548.5098039216,
          263405.22222222225,
          408278.1111111111,
          628120.1379310344,
          508574.6666666667,
          151964.55263157896,
          445762.6769230769,
          408278.1111111111,
          550111.6831683168,
          208817.4266055046,
          197959.7596439169,
          198567.0188679245,
          156016.93181818182,
          265658.9411764706,
          426513.8320610687,
          625185.6605363984,
          645342.8059701492,
          151964.54794520547,
          417395.9534883721,
          1831118.969051275,
          483209.8983240224,
          482234.2,
          550111.6842105263,
          403212.6037735849,
          786163.2363140464,
          821788.9036668018,
          432592.4,
          193501.56,
          418409.06666666665,
          1290685.646846847,
          836198.4674443599,
          1329276.8474801062,
          474129.41818181815,
          444749.5945945946,
          214776.56074766355,
          817451.0193838988,
          184907.2837078652,
          226804.1424418605,
          165602.4010989011,
          585469.3318712326,
          292026.3561643836,
          303929.0833333333,
          228739.68260869564,
          138044.44094488188,
          204469.80821917808,
          286788.59797297296,
          432592.406779661,
          271866.20547945204,
          182357.45306122449,
          225582.92592592596,
          492365.2,
          474129.4545454545,
          354583.9304347826,
          151964.5576923077,
          997443.5752899938,
          227946.83783783784,
          222881.35294117648,
          628120.1073825504,
          281228.0326086957,
          296347.18548387097,
          572399.8356164383,
          196284.11864406776,
          177291.9638554217,
          192488.43859649124,
          432592.4,
          437657.9090909091,
          474129.39130434784,
          514206.3529411765,
          253274.25,
          294673.0909090909,
          786360.9727403156,
          876642.0629961587,
          146899.06666666668,
          696849.9247037525,
          379740.1549295775,
          407296.89762981446,
          437657.8928571429,
          135704.65586419753,
          245804.0035587189,
          437058.6186750131,
          298448.05970149254,
          550342.3061701745,
          101582.04301075268,
          393081.6285714286,
          273536.18652849743,
          191475.3275862069,
          334779.56451612903,
          228959.92366412212,
          506548.5084745763,
          1583470.7202842378,
          645342.8196721311,
          432592.404040404,
          418409.0638297873,
          413343.5526315789,
          417395.9611650485,
          435631.724137931,
          202619.5,
          349518.48175182485,
          844922.8833333333,
          338374.41139240505,
          506548.5,
          393081.62025316455,
          304350.5915279879,
          850778.9689951681,
          253274.2608695652,
          253410.46638655465,
          153837.79058441558,
          168587.89201877936,
          162095.51388888888,
          182357.447761194,
          482234.1886792453,
          417395.9669421488,
          162095.51401869158,
          761279.71410506,
          503509.2121212121,
          435631.7333333333,
          572399.7908496732,
          273536.1818181818,
          259352.8333333333,
          253274.2608695652,
          326263.2840909091,
          531875.9545454546,
          182357.4533333333,
          668644,
          572399.8260869565,
          325204.131147541,
          378081.5816326531,
          109414.47794117648,
          477168.701754386,
          195527.72093023252,
          352918.9631147541,
          336951.2056892779,
          182357.45762711865,
          241851.88554216863,
          492365.1623931624,
          162095.51111111112,
          346667.66279069765,
          451008.7906976744,
          493378.2372881356,
          407264.992481203,
          445762.69333333336,
          393081.6344086021,
          435631.6948717949,
          201657.32086330932,
          363609.7207792208,
          366128.1428571429,
          317153.99019607843,
          887680.6268749771,
          231625.50222222225,
          474129.4230769231,
          506548.4878048781,
          321534.55113636365,
          285593.2962962963,
          432592.4188481675,
          172226.48529411765,
          339387.51020408166,
          418409.075862069,
          492365.15555555554,
          474129.4,
          427526.95,
          834791.9362391033,
          2143081.211149379,
          352768.4914285714,
          343338.575,
          360662.5384615384,
          493378.24,
          407265,
          229770.4048,
          1708291.5602365357,
          182357.45454545456,
          426513.8275862069,
          202619.41379310345,
          151964.54421768707,
          228959.92307692303,
          199580.1158129176,
          396120.9203539823,
          427526.9421487603,
          964468.370835713,
          2200446.7707838635,
          417395.9583333333,
          425500.7530864198,
          354583.9259259259,
          214604.90277777775,
          492365.1428571429,
          493378.25,
          668644,
          132302.96666666667,
          2157556.231838595,
          356112.8090909091,
          972237.3286940653,
          294919.22335025383,
          201994.9344262295,
          351051.5398230089,
          240849.7472222222,
          359507.1157024793,
          1290685.6535244924,
          468106.3105022831,
          205750.3366834171,
          474129.4615384616,
          303929.1,
          396120.9428571428,
          572399.7966101695,
          482234.1860465116,
          1641217.0926637456,
          243143.2820512821,
          351327.5642857143,
          401186.42553191487,
          182357.45132743364,
          339387.49253731343,
          230292.1838790932,
          226933.72549019608,
          676748.8,
          151964.54054054053,
          432592.4117647059,
          217815.85507246375,
          426513.8461538461,
          668643.9768786128,
          792241.89100933,
          2332697.2837345353,
          372404.98245614034,
          269037.8611111111,
          307113.97360703815,
          533839.0849453323,
          245844.8703703704,
          473272.6635380535,
          1048911.793036813,
          800156.6752450981,
          705936.2344267232,
          493378.2471910112,
          421448.3529411765,
          236652.99787234043,
          343916.32692307694,
          308994.59793814435,
          349518.48387096776,
          1147090.6873669808,
          435826.76434634975,
          511613.9973558439,
          236875.76687116563,
          196365.08163265305,
          2609328.3474898213,
          202619.41176470587,
          199580.11666666667,
          536941.4128989362,
          550111.6962025317,
          426513.8483754513,
          474129.4,
          181470.08394160584,
          321333.9568345324,
          106919.89217134417,
          396120.94736842107,
          315212.4791666667,
          668644,
          117684.17441860466,
          572399.829059829,
          477168.6917293233,
          417395.9740259741,
          508574.701754386,
          948258.8381514258,
          413343.5652173913,
          269194.75988700567,
          492365.1351351352,
          271164.4913294798,
          427526.9523809524,
          2031259.5385269222,
          727403.6417910447,
          730442.9410334346,
          417395.9682539682,
          804936.6611807338,
          508574.6835443038,
          654460.6755934267,
          645342.8333333334,
          467037.70588235295,
          222881.3432835821,
          437657.8992805755,
          770122.591455539,
          426513.85,
          948258.8184019371,
          444749.6,
          396120.9523809524,
          177291.97037037037,
          330288.01451905625,
          131702.6075949367,
          202619.41379310345,
          285448.79802955664,
          146899.05806451614,
          182357.47222222225,
          268674.00666666665,
          887592.8450675252,
          709167.8973684211,
          353408.5612244898,
          1092275.5445784754,
          338218.5528846154,
          997674.675145038,
          668644,
          437657.9142857143,
          307728.2213541667,
          202619.40384615384,
          527823.5789473684,
          1347419.0095238094,
          215060.2327868853,
          360662.528,
          413343.5588235294,
          334436.6981132076,
          506548.5063291139,
          202619.40298507464,
          126637.13333333332,
          377968.8652173913,
          120305.27173913045,
          628120.1132075472,
          211276.1155660377,
          492365.1830985916,
          572399.8095238095,
          508574.7027027027,
          562197.7083280797,
          1579435.0793679892,
          121571.64179104478,
          393081.6285714286,
          291962.2320441989,
          340587.2192982456,
          435631.72602739726,
          233371.29133858267,
          244515.86290322585,
          264293.9157894737,
          492365.1681415929,
          345919.0625,
          444749.6,
          417395.9720279721,
          202619.40740740745,
          222881.3404255319,
          166147.9,
          256313.54761904763,
          241117.1009174312,
          253274.2528735632,
          482234.2040816327,
          212750.3703703704,
          467037.7272727273,
          418409.0540540541,
          482234.19108280254,
          477168.7010309278,
          199580.11627906977,
          658513.092409241,
          572399.8208955224,
          182357.46666666667,
          396120.9565217392,
          573764.162605146,
          572399.801980198,
          477168.693877551,
          393081.6444444445,
          168344.45132743364,
          56733.42857142857,
          709286.7397177378,
          444749.60869565216,
          396120.9411764706,
          393081.64,
          572399.8232044199,
          550111.6888888889,
          151964.54545454544,
          668644,
          411317.39137785294,
          202619.40625,
          202619.4025974026,
          396120.9251700681,
          572399.811023622,
          326306.9936708861,
          421448.349726776,
          444749.6,
          1337288.0649576935,
          645342.7936507936,
          197553.92647058825,
          182357.44715447156,
          134550.88552188553,
          550111.7014925373,
          572399.8064516129,
          409291.1932773109,
          396120.9523809524,
          572399.8125,
          212750.36893203884,
          474129.4252873563,
          437657.8928571429,
          151964.55135135134,
          727403.6428571428,
          243143.29268292684,
          253274.24691358025,
          668644,
          834791.9245014247,
          405238.796460177,
          253274.2459016393,
          834791.9446969697,
          430404.731884058,
          298268.7614678899,
          984730.3559577677,
          560242.6325891109,
          222543.63425925927,
          142846.66666666666,
          238077.8058252427,
          645342.8235294118,
          131702.60732984293,
          492365.1707317073,
          572399.8167938931,
          482234.2,
          391055.4285714286,
          418409.0485436893,
          261677.07468879668,
          417395.9534883721,
          263405.21495327103,
          1928936.7328908287,
          477168.69696969696,
          408278.0930232558,
          417395.9710144928,
          711194.1117647059,
          432592.42553191487,
          421448.3636363637,
          668644.031496063,
          426513.8461538461,
          792241.8829545454,
          427526.9278350516,
          506548.4925137904,
          409291.2,
          401186.4,
          393081.6363636364,
          394094.72171486553,
          339387.5714285714,
          425500.7345501955,
          393081.6288503937,
          418409.0833333333,
          597727.2202380953,
          1781024.584539353,
          215789.6607142857,
          647368.9882352941,
          1089652.6250639493,
          926983.7792833037,
          134918.3426966292,
          278601.6723911041,
          527823.5769230769,
          185396.75,
          141833.58208955225,
          425500.7594936709,
          444749.59375,
          444749.5789473684,
          141833.58024691357,
          572399.802955665,
          482234.1754385965,
          417395.9655172414,
          836818.1342523225,
          303929.0950226244,
          826687.125,
          445762.6776859504,
          572399.8064516129,
          445762.6875,
          1717199.4594202898,
          504522.32,
          628120.1441441441,
          432592.41904761904,
          416123.305785124,
          437657.9178082192,
          370625.3973799127,
          550111.6818181818,
          818799.4809680451,
          474129.3920972644,
          353395.7407407408,
          786291.6170240501,
          189768.5197740113,
          469453.5512820513,
          413343.5652173913,
          151964.54285714286,
          230986.1052631579,
          182357.4523809524,
          474129.4137931034,
          233012.31914893616,
          550111.6727272727,
          572399.8048780488,
          504522.3125,
          202619.4054054054,
          426513.85365853657,
          418409.0833333333,
          1372746.4554026618,
          300495.8229166667,
          1270982.9460754227,
          1000912.5148974275,
          506326.6423357664,
          493378.2773722628,
          262823.625,
          527823.5717761557,
          444749.6068376068,
          151964.54761904763,
          983353.5491638796,
          727403.6363636364,
          964468.3627450981,
          409291.2,
          1100223.4131994261,
          628120.1403508772,
          1017149.3758405978,
          986756.544332211,
          418409.07692307694,
          531875.9545454546,
          1533828.9172922922,
          1224151.2101950543,
          875315.8673854447,
          445762.676056338,
          474129.41818181815,
          425500.7536231884,
          506548.5,
          285525.4364640884,
          432592.4074074074,
          506548.5070422535,
          929168.2899305555,
          233012.31914893616,
          436705.6133199297,
          343403.05454545456,
          317099.3725490196,
          508574.6923076923,
          474129.4117647059,
          318197.38241758244,
          251653.3076923077,
          182357.44642857145,
          247696.2023809524,
          243143.27564102568,
          315073.15942028986,
          437657.92452830187,
          227946.8205128205,
          668644,
          322629.175,
          388592.25,
          327505.852398524,
          418409.0602409639,
          626358.2204968944,
          1481759.8946540882,
          774901.4145103177,
          225280.16858237548,
          676748.8421052631,
          2832657.3431431074,
          730442.9484126985,
          401186.4054054054,
          1773204.3767089448,
          1252187.899106871,
          182357.4516129032,
          1319783.2434137175,
          628120.109375,
          1730369.6358891947,
          493378.2352941177,
          1045516.0735784994,
          339387.5051546392,
          836818.1080038573,
          1381675.299762034,
          822022.976615278,
          1504814.9825091984,
          418409.0555555556,
          289718.7288888889,
          473024.75117370894,
          891525.3691420332,
          1258013.2076555025,
          1063144.024,
          506548.511627907,
          826125.9040540541,
          151964.546875,
          391055.4347826087,
          492365.1794871795,
          1075510.1120658717,
          724364.3780560525,
          477168.6857142857,
          131702.60975609755,
          232233,
          177819.1056910569,
          361019.9093851133,
          146899.05714285714,
          349518.4618086041,
          393450.0606060606,
          146899.05555555556,
          254721.52070393373,
          287381.8333333333,
          461562.3723150875,
          131702.61016949153,
          101309.70229007634,
          220721.18181818185,
          482234.208588957,
          339387.5140186916,
          202619.4105263158,
          141833.575,
          303929.08108108107,
          151964.54237288135,
          301422.4463519313,
          437657.9130434783,
          253274.2553191489,
          2062875.1606808587,
          212750.3823529412,
          687728.3914240185,
          477168.6875,
          444749.5909090909,
          403212.5833333333,
          1256240.233660589,
          493378.253968254,
          593674.8571428573,
          570373.624291498,
          974599.3468286099,
          432269.85993702896,
          875315.8272576637,
          399453.64024390245,
          984730.3281580805,
          426513.85074626864,
          727403.6721500722,
          506548.5106382979,
          527823.56,
          742883.7979757085,
          622220.57518797,
          1855406.9096822243,
          222845.0821052632,
          10917086.412540365,
          2213510.7133707735,
          736783.3190450753,
          787746.4560689722,
          7250995.34862941,
          4023653.3861106974,
          409291.1767337808,
          1349792.0909242684,
          4630877.2246881025,
          2741002.565216794,
          782991.4175824176,
          1936040.5298764773,
          602827.8987593052,
          1032875.3190858508,
          2158041.4657317945,
          1429061.8305195381,
          1597484.3829435962,
          4316476.922457669,
          3084756.5205462445,
          1394149.476971141,
          308520.94155844155,
          4001510.887453141,
          762684.8216964679,
          823217.5080296253,
          1117786.5840120474,
          1004618.5600442362,
          699036.9379756469,
          1182390.705753553,
          3977372.3491572477,
          3867618.660822268,
          634100.5498246071,
          880570.6408356904,
          5036900.945785201,
          1678603.7963463026,
          912293.1068689693,
          2430293.6191508803,
          9518666.54907839,
          1001229.1055340272,
          2200721.0745427976,
          2889667.780197638,
          4234485.167816689,
          746824.5623050963,
          723013.9046357659,
          396120.9552238806,
          202619.42857142855,
          492365.15555555554,
          417395.9574468085,
          572399.8309859155,
          482234.1860465116,
          444749.6,
          360662.5333333333,
          645342.7899159663,
          437657.9212598425,
          413343.5764705882,
          492365.1506849315,
          492365.1470588236,
          176515.1255060729,
          445762.6966292135,
          474129.3846153846,
          191240.63343108504,
          282341.1204188482,
          187422.9333333333,
          161082.42016806724,
          508574.6842105263,
          171213.38709677418,
          217974.15625,
          572399.8181818182,
          508574.679245283,
          136768.09615384616,
          474129.4074074074,
          427526.9411764706,
          233012.31666666668,
          278601.679245283,
          527823.5609756098,
          417395.9714285714,
          447962.3922651934,
          727403.6111111111,
          668644,
          437657.91596638656,
          682827.3884546827,
          444749.59375,
          572399.8,
          138245.53125,
          444749.5802469136,
          417395.97297297296,
          151964.55102040817,
          585839.8657285026,
          174226.37987012987,
          167161,
          490690.2380332319,
          322984.305525554,
          141833.61538461538,
          886634.584178499,
          354583.94029850746,
          333077.4827586207,
          806425.1818181819,
          507390.3905516432,
          246379.5576923077,
          171010.29245283018,
          752731.1385377942,
          645342.8,
          705829.7178609462,
          444749.6,
          263405.2207792208,
          276910,
          437657.9117647059,
          492365.1538461539,
          427526.94736842107,
          177291.95833333334,
          393612.1577287066,
          628120.1165048544,
          645342.8045977012,
          474129.4054054054,
          444749.6071428572,
          136768.08695652173,
          512314.2254265342,
          197587.68452380956,
          668644,
          227946.8282828283,
          223065.57575757572,
          964468.3791044776,
          364267.95588235295,
          411104.27508090617,
          163855.9005847953,
          432592.4123711341,
          570404.7824175823,
          71929.88938053098,
          162095.51162790696,
          937899.0693941778,
          779769.4783068784,
          303929.1002865329,
          292600.8333333333,
          550111.7014925373,
          403212.594059406,
          610114.8209258807,
          418409.0606060606,
          435631.7358490566,
          364714.89743589744,
          437657.9142857143,
          418409.056,
          698784.6017316018,
          425500.7391304348,
          425500.7388535032,
          254303.57421875,
          151385.62797619047,
          258233.29961089493,
          398726.02040816325,
          349518.4782608696,
          245593.10075566752,
          298916.5574912892,
          316503.83952702704,
          208860.63636363635,
          198060.4745762712,
          323537.95867768594,
          202619.40136054423,
          432592.4,
          354583.94701986754,
          492365.1698113208,
          474129.4017094017,
          233633.2401433692,
          417395.9555555555,
          668644,
          432592.4054054054,
          426513.85365853657,
          263405.22641509434,
          162095.51111111112,
          1446702.5672468254,
          635211.8393250183,
          668644,
          437657.9142857143,
          418409.0414201184,
          396120.9393939394,
          657940.954336989,
          2180719.6149148094,
          230790.4090909091,
          319417.51296829974,
          650871.0606423588,
          395003.0229885057,
          290569.2244897959,
          675735.7286713286,
          417395.9669421488,
          167161,
          212750.38095238092,
          393081.6428571429,
          456080.4224699399,
          255276.128,
          582382.3723616835,
          668644,
          614949.8818763326,
          222881.35,
          474129.43130990415,
          781340.72175809,
          167805.71313131312,
          303929.0961538461,
          1044984.8683050892,
          149825.7868852459,
          253274.2564102564,
          492365.1538461539,
          182357.45,
          253521.99563318776,
          151964.54663774403,
          324378.65185185184,
          244156.3725490196,
          429805.09681493335,
          364714.9158163265,
          445288.7095115681,
          455893.6533149171,
          293931.6727272728,
          1251944.3273505522,
          408278.0869565217,
          863693.7335680751,
          725474.6143835615,
          432592.4210526316,
          493378.2545454545,
          1490222.7938351152,
          673742.2904906643,
          349518.4761904762,
          1987215.4666748154,
          984730.3205128205,
          724124.4315789475,
          1022802.0134931982,
          1013097.0475524475,
          556011.8301098736,
          493378.24,
          396120.9294605809,
          527823.5698924732,
          403212.5910652921,
          645342.8133333334,
          474129.417721519,
          144339.50588235294,
          482234.1904761905,
          482234.2,
          202619.41176470587,
          645342.7951807228,
          1296244.9432756884,
          133477.1320754717,
          474129.4042553192,
          572399.8153846153,
          175790.89194139195,
          166147.90184049078,
          396120.9375,
          180331.26506024096,
          227946.82352941175,
          217484.11586901764,
          177292,
          133985.79024390245,
          432592.4137931034,
          156506.02155172414,
          189229.18421052632,
          162095.51807228915,
          182357.45098039217,
          379911.3741163295,
          396120.9487179487,
          199671.7963800905,
          393081.6179775281,
          492365.1666666667,
          111440.67045454546,
          550111.6981132076,
          645342.8461538461,
          676748.7978494624,
          136768.09333333332,
          432592.3921568628,
          435631.7419354839,
          349518.48148148146,
          409291.1961722488,
          645342.8148148148,
          413343.5555555556,
          474129.4166666667,
          319984.843373494,
          396120.94845360826,
          1252187.9022104596,
          8585997.24521449,
          3434632.678777689,
          727403.649122807,
          2893405.161007316,
          2863012.1139845788,
          408278.0975609756,
          818582.4,
          802372.829619204,
          1404152.467720685,
          1252187.9118489118,
          889499.214137829,
          806425.2132616488,
          1179244.8830696791,
          1074544.9635854342,
          508574.6896551724,
          432592.4109589041,
          1973513.1052303156,
          2107241.717957798,
          339387.5,
          2510454.3560090982,
          303929.09433962265,
          4299622.830219213,
          349518.4615384616,
          467037.7391304348,
          5683129.441234325,
          2625947.4740144582,
          836818.113368984,
          1653374.239476269,
          4431286.47537924,
          217393.73214285716,
          1279541.540243982,
          1337288.06,
          4994568.324684798,
          425500.7630057804,
          1968167.189762591,
          422461.42424242425,
          2639117.779221992,
          444749.5882352941,
          354583.9298245614,
          503509.2179930796,
          572399.8248175182,
          401186.4077669903,
          628120.1428571428,
          253274.2553191489,
          492365.1666666667,
          182357.45318352056,
          421448.3636363637,
          455294.7569060773,
          715629.1898373982,
          407265.01492537314,
          474129.40625,
          76283.18935837246,
          182357.4482758621,
          668644,
          151964.55026455026,
          550111.7058823529,
          1144799.6384065375,
          508574.7008547009,
          303929.0967741936,
          427526.93023255817,
          467037.7368421053,
          572399.829059829,
          182357.4598540146,
          182357.4512195122,
          417395.9726027397,
          572399.8275862068,
          668644,
          229044.0737704918,
          413343.55,
          303929.0967741936,
          572399.8,
          474129.4,
          572399.8125,
          134899.01604278074,
          391055.4444444445,
          1152904.4335275337,
          482234.2048192771,
          403212.6037735849,
          492365.1612903226,
          239090.8842105263,
          222881.3448275862,
          474129.4090909091,
          855053.894821634,
          182357.4583333333,
          470883.3665910809,
          401186.4146341463,
          170200.29357798165,
          680991.1287037036,
          1067804.2382303276,
          437657.9189189189,
          426513.8356643357,
          474129.39130434784,
          506548.4923076923,
          889499.1813953489,
          418409.0476190476,
          482234.17391304346,
          188763.8147058824,
          188436.0434782609,
          508574.68493150687,
          645342.8282828283,
          177045.26943005182,
          344922.51385390427,
          243143.2876712329,
          413343.56097560975,
          1831963.0734490603,
          11955699.714656677,
          7625542.959325029,
          17185406.506244365,
          106268317.97908707,
          15044211.037776442,
          11777009.51033942,
          2254354.406513904,
          2416962.667640877,
          53128611.402545005,
          26163475.520779036,
          3514528.4790319987,
          7396632.998210262,
          4828577.6013568,
          33415335.774848167,
          16879161.292841967,
          7051536.794279633,
          11152439.937226564,
          11398529.677114803,
          22497093.820528023,
          16142812.390775159,
          3232374.494287474,
          23600729.415823314,
          17150743.222495344,
          15162858.335907288,
          6550708.856006612,
          2609731.8050174224,
          25534096.614748776,
          1984479.8247039868,
          5134565.131981377,
          4405474.03566071,
          35377600.50124461,
          4896435.389992194,
          6637426.4007654255,
          61976632.066780604,
          30763506.764498238,
          9091182.052015658,
          10867050.750496833,
          35116167.83766671,
          4202650.305745906,
          1926268.7352645495,
          10434772.288899388,
          1689162.7849928504,
          17777952.696634278,
          72678665.46113327,
          8058775.698472905,
          20830656.46477946,
          1589154.714257033,
          21516675.812562756,
          14236672.694676291,
          3809939.569120376,
          1730032.3347500577
         ]
        }
       ],
       "layout": {
        "coloraxis": {
         "colorbar": {
          "title": {
           "text": "Maximum Salary ($)"
          }
         },
         "colorscale": [
          [
           0,
           "#440154"
          ],
          [
           0.1111111111111111,
           "#482878"
          ],
          [
           0.2222222222222222,
           "#3e4989"
          ],
          [
           0.3333333333333333,
           "#31688e"
          ],
          [
           0.4444444444444444,
           "#26828e"
          ],
          [
           0.5555555555555556,
           "#1f9e89"
          ],
          [
           0.6666666666666666,
           "#35b779"
          ],
          [
           0.7777777777777778,
           "#6ece58"
          ],
          [
           0.8888888888888888,
           "#b5de2b"
          ],
          [
           1,
           "#fde725"
          ]
         ]
        },
        "height": 600,
        "legend": {
         "tracegroupgap": 0
        },
        "template": {
         "data": {
          "bar": [
           {
            "error_x": {
             "color": "#2a3f5f"
            },
            "error_y": {
             "color": "#2a3f5f"
            },
            "marker": {
             "line": {
              "color": "#E5ECF6",
              "width": 0.5
             },
             "pattern": {
              "fillmode": "overlay",
              "size": 10,
              "solidity": 0.2
             }
            },
            "type": "bar"
           }
          ],
          "barpolar": [
           {
            "marker": {
             "line": {
              "color": "#E5ECF6",
              "width": 0.5
             },
             "pattern": {
              "fillmode": "overlay",
              "size": 10,
              "solidity": 0.2
             }
            },
            "type": "barpolar"
           }
          ],
          "carpet": [
           {
            "aaxis": {
             "endlinecolor": "#2a3f5f",
             "gridcolor": "white",
             "linecolor": "white",
             "minorgridcolor": "white",
             "startlinecolor": "#2a3f5f"
            },
            "baxis": {
             "endlinecolor": "#2a3f5f",
             "gridcolor": "white",
             "linecolor": "white",
             "minorgridcolor": "white",
             "startlinecolor": "#2a3f5f"
            },
            "type": "carpet"
           }
          ],
          "choropleth": [
           {
            "colorbar": {
             "outlinewidth": 0,
             "ticks": ""
            },
            "type": "choropleth"
           }
          ],
          "contour": [
           {
            "colorbar": {
             "outlinewidth": 0,
             "ticks": ""
            },
            "colorscale": [
             [
              0,
              "#0d0887"
             ],
             [
              0.1111111111111111,
              "#46039f"
             ],
             [
              0.2222222222222222,
              "#7201a8"
             ],
             [
              0.3333333333333333,
              "#9c179e"
             ],
             [
              0.4444444444444444,
              "#bd3786"
             ],
             [
              0.5555555555555556,
              "#d8576b"
             ],
             [
              0.6666666666666666,
              "#ed7953"
             ],
             [
              0.7777777777777778,
              "#fb9f3a"
             ],
             [
              0.8888888888888888,
              "#fdca26"
             ],
             [
              1,
              "#f0f921"
             ]
            ],
            "type": "contour"
           }
          ],
          "contourcarpet": [
           {
            "colorbar": {
             "outlinewidth": 0,
             "ticks": ""
            },
            "type": "contourcarpet"
           }
          ],
          "heatmap": [
           {
            "colorbar": {
             "outlinewidth": 0,
             "ticks": ""
            },
            "colorscale": [
             [
              0,
              "#0d0887"
             ],
             [
              0.1111111111111111,
              "#46039f"
             ],
             [
              0.2222222222222222,
              "#7201a8"
             ],
             [
              0.3333333333333333,
              "#9c179e"
             ],
             [
              0.4444444444444444,
              "#bd3786"
             ],
             [
              0.5555555555555556,
              "#d8576b"
             ],
             [
              0.6666666666666666,
              "#ed7953"
             ],
             [
              0.7777777777777778,
              "#fb9f3a"
             ],
             [
              0.8888888888888888,
              "#fdca26"
             ],
             [
              1,
              "#f0f921"
             ]
            ],
            "type": "heatmap"
           }
          ],
          "heatmapgl": [
           {
            "colorbar": {
             "outlinewidth": 0,
             "ticks": ""
            },
            "colorscale": [
             [
              0,
              "#0d0887"
             ],
             [
              0.1111111111111111,
              "#46039f"
             ],
             [
              0.2222222222222222,
              "#7201a8"
             ],
             [
              0.3333333333333333,
              "#9c179e"
             ],
             [
              0.4444444444444444,
              "#bd3786"
             ],
             [
              0.5555555555555556,
              "#d8576b"
             ],
             [
              0.6666666666666666,
              "#ed7953"
             ],
             [
              0.7777777777777778,
              "#fb9f3a"
             ],
             [
              0.8888888888888888,
              "#fdca26"
             ],
             [
              1,
              "#f0f921"
             ]
            ],
            "type": "heatmapgl"
           }
          ],
          "histogram": [
           {
            "marker": {
             "pattern": {
              "fillmode": "overlay",
              "size": 10,
              "solidity": 0.2
             }
            },
            "type": "histogram"
           }
          ],
          "histogram2d": [
           {
            "colorbar": {
             "outlinewidth": 0,
             "ticks": ""
            },
            "colorscale": [
             [
              0,
              "#0d0887"
             ],
             [
              0.1111111111111111,
              "#46039f"
             ],
             [
              0.2222222222222222,
              "#7201a8"
             ],
             [
              0.3333333333333333,
              "#9c179e"
             ],
             [
              0.4444444444444444,
              "#bd3786"
             ],
             [
              0.5555555555555556,
              "#d8576b"
             ],
             [
              0.6666666666666666,
              "#ed7953"
             ],
             [
              0.7777777777777778,
              "#fb9f3a"
             ],
             [
              0.8888888888888888,
              "#fdca26"
             ],
             [
              1,
              "#f0f921"
             ]
            ],
            "type": "histogram2d"
           }
          ],
          "histogram2dcontour": [
           {
            "colorbar": {
             "outlinewidth": 0,
             "ticks": ""
            },
            "colorscale": [
             [
              0,
              "#0d0887"
             ],
             [
              0.1111111111111111,
              "#46039f"
             ],
             [
              0.2222222222222222,
              "#7201a8"
             ],
             [
              0.3333333333333333,
              "#9c179e"
             ],
             [
              0.4444444444444444,
              "#bd3786"
             ],
             [
              0.5555555555555556,
              "#d8576b"
             ],
             [
              0.6666666666666666,
              "#ed7953"
             ],
             [
              0.7777777777777778,
              "#fb9f3a"
             ],
             [
              0.8888888888888888,
              "#fdca26"
             ],
             [
              1,
              "#f0f921"
             ]
            ],
            "type": "histogram2dcontour"
           }
          ],
          "mesh3d": [
           {
            "colorbar": {
             "outlinewidth": 0,
             "ticks": ""
            },
            "type": "mesh3d"
           }
          ],
          "parcoords": [
           {
            "line": {
             "colorbar": {
              "outlinewidth": 0,
              "ticks": ""
             }
            },
            "type": "parcoords"
           }
          ],
          "pie": [
           {
            "automargin": true,
            "type": "pie"
           }
          ],
          "scatter": [
           {
            "marker": {
             "colorbar": {
              "outlinewidth": 0,
              "ticks": ""
             }
            },
            "type": "scatter"
           }
          ],
          "scatter3d": [
           {
            "line": {
             "colorbar": {
              "outlinewidth": 0,
              "ticks": ""
             }
            },
            "marker": {
             "colorbar": {
              "outlinewidth": 0,
              "ticks": ""
             }
            },
            "type": "scatter3d"
           }
          ],
          "scattercarpet": [
           {
            "marker": {
             "colorbar": {
              "outlinewidth": 0,
              "ticks": ""
             }
            },
            "type": "scattercarpet"
           }
          ],
          "scattergeo": [
           {
            "marker": {
             "colorbar": {
              "outlinewidth": 0,
              "ticks": ""
             }
            },
            "type": "scattergeo"
           }
          ],
          "scattergl": [
           {
            "marker": {
             "colorbar": {
              "outlinewidth": 0,
              "ticks": ""
             }
            },
            "type": "scattergl"
           }
          ],
          "scattermapbox": [
           {
            "marker": {
             "colorbar": {
              "outlinewidth": 0,
              "ticks": ""
             }
            },
            "type": "scattermapbox"
           }
          ],
          "scatterpolar": [
           {
            "marker": {
             "colorbar": {
              "outlinewidth": 0,
              "ticks": ""
             }
            },
            "type": "scatterpolar"
           }
          ],
          "scatterpolargl": [
           {
            "marker": {
             "colorbar": {
              "outlinewidth": 0,
              "ticks": ""
             }
            },
            "type": "scatterpolargl"
           }
          ],
          "scatterternary": [
           {
            "marker": {
             "colorbar": {
              "outlinewidth": 0,
              "ticks": ""
             }
            },
            "type": "scatterternary"
           }
          ],
          "surface": [
           {
            "colorbar": {
             "outlinewidth": 0,
             "ticks": ""
            },
            "colorscale": [
             [
              0,
              "#0d0887"
             ],
             [
              0.1111111111111111,
              "#46039f"
             ],
             [
              0.2222222222222222,
              "#7201a8"
             ],
             [
              0.3333333333333333,
              "#9c179e"
             ],
             [
              0.4444444444444444,
              "#bd3786"
             ],
             [
              0.5555555555555556,
              "#d8576b"
             ],
             [
              0.6666666666666666,
              "#ed7953"
             ],
             [
              0.7777777777777778,
              "#fb9f3a"
             ],
             [
              0.8888888888888888,
              "#fdca26"
             ],
             [
              1,
              "#f0f921"
             ]
            ],
            "type": "surface"
           }
          ],
          "table": [
           {
            "cells": {
             "fill": {
              "color": "#EBF0F8"
             },
             "line": {
              "color": "white"
             }
            },
            "header": {
             "fill": {
              "color": "#C8D4E3"
             },
             "line": {
              "color": "white"
             }
            },
            "type": "table"
           }
          ]
         },
         "layout": {
          "annotationdefaults": {
           "arrowcolor": "#2a3f5f",
           "arrowhead": 0,
           "arrowwidth": 1
          },
          "autotypenumbers": "strict",
          "coloraxis": {
           "colorbar": {
            "outlinewidth": 0,
            "ticks": ""
           }
          },
          "colorscale": {
           "diverging": [
            [
             0,
             "#8e0152"
            ],
            [
             0.1,
             "#c51b7d"
            ],
            [
             0.2,
             "#de77ae"
            ],
            [
             0.3,
             "#f1b6da"
            ],
            [
             0.4,
             "#fde0ef"
            ],
            [
             0.5,
             "#f7f7f7"
            ],
            [
             0.6,
             "#e6f5d0"
            ],
            [
             0.7,
             "#b8e186"
            ],
            [
             0.8,
             "#7fbc41"
            ],
            [
             0.9,
             "#4d9221"
            ],
            [
             1,
             "#276419"
            ]
           ],
           "sequential": [
            [
             0,
             "#0d0887"
            ],
            [
             0.1111111111111111,
             "#46039f"
            ],
            [
             0.2222222222222222,
             "#7201a8"
            ],
            [
             0.3333333333333333,
             "#9c179e"
            ],
            [
             0.4444444444444444,
             "#bd3786"
            ],
            [
             0.5555555555555556,
             "#d8576b"
            ],
            [
             0.6666666666666666,
             "#ed7953"
            ],
            [
             0.7777777777777778,
             "#fb9f3a"
            ],
            [
             0.8888888888888888,
             "#fdca26"
            ],
            [
             1,
             "#f0f921"
            ]
           ],
           "sequentialminus": [
            [
             0,
             "#0d0887"
            ],
            [
             0.1111111111111111,
             "#46039f"
            ],
            [
             0.2222222222222222,
             "#7201a8"
            ],
            [
             0.3333333333333333,
             "#9c179e"
            ],
            [
             0.4444444444444444,
             "#bd3786"
            ],
            [
             0.5555555555555556,
             "#d8576b"
            ],
            [
             0.6666666666666666,
             "#ed7953"
            ],
            [
             0.7777777777777778,
             "#fb9f3a"
            ],
            [
             0.8888888888888888,
             "#fdca26"
            ],
            [
             1,
             "#f0f921"
            ]
           ]
          },
          "colorway": [
           "#636efa",
           "#EF553B",
           "#00cc96",
           "#ab63fa",
           "#FFA15A",
           "#19d3f3",
           "#FF6692",
           "#B6E880",
           "#FF97FF",
           "#FECB52"
          ],
          "font": {
           "color": "#2a3f5f"
          },
          "geo": {
           "bgcolor": "white",
           "lakecolor": "white",
           "landcolor": "#E5ECF6",
           "showlakes": true,
           "showland": true,
           "subunitcolor": "white"
          },
          "hoverlabel": {
           "align": "left"
          },
          "hovermode": "closest",
          "mapbox": {
           "style": "light"
          },
          "paper_bgcolor": "white",
          "plot_bgcolor": "#E5ECF6",
          "polar": {
           "angularaxis": {
            "gridcolor": "white",
            "linecolor": "white",
            "ticks": ""
           },
           "bgcolor": "#E5ECF6",
           "radialaxis": {
            "gridcolor": "white",
            "linecolor": "white",
            "ticks": ""
           }
          },
          "scene": {
           "xaxis": {
            "backgroundcolor": "#E5ECF6",
            "gridcolor": "white",
            "gridwidth": 2,
            "linecolor": "white",
            "showbackground": true,
            "ticks": "",
            "zerolinecolor": "white"
           },
           "yaxis": {
            "backgroundcolor": "#E5ECF6",
            "gridcolor": "white",
            "gridwidth": 2,
            "linecolor": "white",
            "showbackground": true,
            "ticks": "",
            "zerolinecolor": "white"
           },
           "zaxis": {
            "backgroundcolor": "#E5ECF6",
            "gridcolor": "white",
            "gridwidth": 2,
            "linecolor": "white",
            "showbackground": true,
            "ticks": "",
            "zerolinecolor": "white"
           }
          },
          "shapedefaults": {
           "line": {
            "color": "#2a3f5f"
           }
          },
          "ternary": {
           "aaxis": {
            "gridcolor": "white",
            "linecolor": "white",
            "ticks": ""
           },
           "baxis": {
            "gridcolor": "white",
            "linecolor": "white",
            "ticks": ""
           },
           "bgcolor": "#E5ECF6",
           "caxis": {
            "gridcolor": "white",
            "linecolor": "white",
            "ticks": ""
           }
          },
          "title": {
           "x": 0.05
          },
          "xaxis": {
           "automargin": true,
           "gridcolor": "white",
           "linecolor": "white",
           "ticks": "",
           "title": {
            "standoff": 15
           },
           "zerolinecolor": "white",
           "zerolinewidth": 2
          },
          "yaxis": {
           "automargin": true,
           "gridcolor": "white",
           "linecolor": "white",
           "ticks": "",
           "title": {
            "standoff": 15
           },
           "zerolinecolor": "white",
           "zerolinewidth": 2
          }
         }
        },
        "title": {
         "text": "Treemap of Maximum Salary by State and Profession"
        },
        "width": 700
       }
      }
     },
     "metadata": {},
     "output_type": "display_data"
    }
   ],
   "source": [
    "fig = px.treemap(df2, \n",
    "                 path=[\"state\", \"occupation_w_max_wage\"],\n",
    "                 values=\"max_wage\", \n",
    "                 title=\"Treemap of Maximum Salary by State and Profession\",  \n",
    "                 color=\"max_wage\",\n",
    "                 color_continuous_scale=\"Viridis\",\n",
    "                 width=700, \n",
    "                 height=600, \n",
    "                 labels={\"state\": \"State\", \n",
    "                         \"occupation_w_max_wage\": \"Occupation\", \n",
    "                         \"max_wage\": \"Maximum Salary ($)\"})  \n",
    "\n",
    "fig.show()\n"
   ]
  },
  {
   "cell_type": "code",
   "execution_count": null,
   "metadata": {},
   "outputs": [],
   "source": []
  }
 ],
 "metadata": {
  "kernelspec": {
   "display_name": "base",
   "language": "python",
   "name": "python3"
  },
  "language_info": {
   "codemirror_mode": {
    "name": "ipython",
    "version": 3
   },
   "file_extension": ".py",
   "mimetype": "text/x-python",
   "name": "python",
   "nbconvert_exporter": "python",
   "pygments_lexer": "ipython3",
   "version": "3.9.12"
  }
 },
 "nbformat": 4,
 "nbformat_minor": 2
}
